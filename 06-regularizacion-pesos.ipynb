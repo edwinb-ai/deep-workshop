{
 "cells": [
  {
   "cell_type": "markdown",
   "metadata": {},
   "source": [
    "## Regularización de pesos\n",
    "\n",
    "Dentro de las muchas técnicas de regularización existen tres que han sido importadas de la [regresión robusta](https://en.wikipedia.org/wiki/Robust_regression): la regularización **Ridge**, **Lasso** y **ElasticNet.**\n",
    "\n",
    "Estas regularizaciones provienen del análisis de datos atípicos en regresiones, donde un conjunto de datos puede tener ruido y errores pero no se desean tomar en cuenta. Este tipo de regularizaciones están basados en las normas espaciales $L_1$, $L_2$ y $L_1-L_2$, respectivamente.\n",
    "\n",
    "Durante la búsqueda de metodologías que pudieran mejorar los resultados de clasificaciones de redes neuronales muy profundas surgió la idea de emplear este tipo de regularizadores, lo que resultó en una excelente idea que mejora mucho el resultado, además de que reduce el sobreajuste de las redes neuronales.\n",
    "\n",
    "En este documento se exploran los tres tipos de regularización junto con algunas metodologías adicionales para verificar su eficacia en redes neuronales, sobre todo redes neuronales convolucionales (CNN)."
   ]
  },
  {
   "cell_type": "code",
   "execution_count": 21,
   "metadata": {},
   "outputs": [],
   "source": [
    "from keras.datasets import fashion_mnist\n",
    "from keras.layers import Dense, BatchNormalization, Activation, Dropout\n",
    "from keras.layers import Conv2D, MaxPooling2D, Flatten, GaussianNoise\n",
    "from keras.utils import to_categorical\n",
    "from keras.models import Sequential\n",
    "from keras import regularizers\n",
    "from keras.optimizers import SGD\n",
    "import matplotlib.pyplot as plt"
   ]
  },
  {
   "cell_type": "markdown",
   "metadata": {},
   "source": [
    "## Fashion-MNIST\n",
    "\n",
    "El conjunto de datos empleado es el [Fashion-MNIST](https://github.com/zalandoresearch/fashion-mnist) que tiene 10 clases, cada una pertenece a un tipo de prenda o de calzado. La idea de este conjunto de datos (en realidad son imágenes) es que sirva como un reemplazo para el famoso conjunto de datos de dígitos escritos a mano del MNIST.\n",
    "\n",
    "Las imágenes tienen un tamaño de $28 \\times 28$ y están en tono de grises."
   ]
  },
  {
   "cell_type": "code",
   "execution_count": 22,
   "metadata": {},
   "outputs": [],
   "source": [
    "(x_train, y_train), (x_test, y_test) = fashion_mnist.load_data()"
   ]
  },
  {
   "cell_type": "code",
   "execution_count": 23,
   "metadata": {},
   "outputs": [],
   "source": [
    "# Tamaño de lote para el optimizador\n",
    "batch_size = 128\n",
    "# Número de clases, ya se sabe por que se conoce el conjunto de datos\n",
    "# pero si no, se puede hacer de forma programática\n",
    "num_classes = 10\n",
    "# Número de épocas, dejar como está porque es suficiente\n",
    "epocas = 50\n",
    "# Parámetro de regularización L2 (Ridge)\n",
    "regular_param_l2 = 1e-4\n",
    "# Parámetro de regularización L1 (Lasso)\n",
    "regular_param_l1 = 5e-5\n",
    "\n",
    "# Tamaño de las imágenes, ancho y alto\n",
    "img_rows, img_cols = 28, 28"
   ]
  },
  {
   "cell_type": "code",
   "execution_count": 24,
   "metadata": {},
   "outputs": [
    {
     "data": {
      "text/plain": [
       "<matplotlib.image.AxesImage at 0x7fe26ef7d110>"
      ]
     },
     "execution_count": 24,
     "metadata": {},
     "output_type": "execute_result"
    },
    {
     "data": {
      "image/png": "[encoded data removed]",
      "text/plain": [
       "<Figure size 432x288 with 1 Axes>"
      ]
     },
     "metadata": {
      "needs_background": "light"
     },
     "output_type": "display_data"
    }
   ],
   "source": [
    "# Se puede visualizar una de estas imágenes para conocer el conjunto de datos\n",
    "plt.imshow(x_train[35, :, :], cmap=\"gray\")"
   ]
  },
  {
   "cell_type": "code",
   "execution_count": 25,
   "metadata": {},
   "outputs": [],
   "source": [
    "# Reajustar las imágenes para asegurar que solamente es un canal de color\n",
    "x_train = x_train.reshape(x_train.shape[0], img_rows, img_cols, 1)\n",
    "x_test = x_test.reshape(x_test.shape[0], img_rows, img_cols, 1)\n",
    "# Tamaño de la entrada, en forma de tupla siempre\n",
    "input_shape = (img_rows, img_cols, 1)"
   ]
  },
  {
   "cell_type": "code",
   "execution_count": 26,
   "metadata": {},
   "outputs": [],
   "source": [
    "# Convertir a float32 para mejor manejo\n",
    "x_train = x_train.astype(\"float32\")\n",
    "x_test = x_test.astype(\"float32\")\n",
    "# Normalizar los valores de las imágenes\n",
    "x_train /= 255\n",
    "x_test /= 255"
   ]
  },
  {
   "cell_type": "code",
   "execution_count": 27,
   "metadata": {},
   "outputs": [
    {
     "name": "stdout",
     "output_type": "stream",
     "text": [
      "Tamaño del conjunto de entrenamiento: (60000, 28, 28, 1)\n",
      "60000 Muestras de entrenamiento\n",
      "10000 Muestras de prueba\n"
     ]
    }
   ],
   "source": [
    "print(\"Tamaño del conjunto de entrenamiento:\", x_train.shape)\n",
    "print(x_train.shape[0], \"Muestras de entrenamiento\")\n",
    "print(x_test.shape[0], \"Muestras de prueba\")"
   ]
  },
  {
   "cell_type": "code",
   "execution_count": 28,
   "metadata": {},
   "outputs": [],
   "source": [
    "# Codificación One Hot para las etiquetas\n",
    "y_train = to_categorical(y_train, num_classes)\n",
    "y_test = to_categorical(y_test, num_classes)"
   ]
  },
  {
   "cell_type": "markdown",
   "metadata": {},
   "source": [
    "## Arquitecturas de las CNN\n",
    "\n",
    "Todas las arquitecturas tienen la misma forma en común, que proviene del [ejemplo de `keras`](https://keras.io/examples/cifar10_cnn/) para la clasificación del conjunto de datos CIFAR-10, solamente que en este caso se emplea otro conjunto de datos como ya se ha explicado anteriormente.\n",
    "\n",
    "Sin embargo, para cada caso se modificará la arquitectura, específicamente:\n",
    "\n",
    "- La **primera** arquitectura consta de regularizadores en las capas de convolución y totalmente conectadas. El regularizador empleado es de tipo $L_2$ (Ridge).\n",
    "\n",
    "- La **segunda** arquitectura consta de regularizadores en las capas de convolución y totalmente conectadas. El regularizador empleado es de tipo $L_1$ (Lasso).\n",
    "\n",
    "- La **tercera** arquitectura consta de regularizadores en las capas de convolución y totalmente conectadas. El regularizador empleado es de tipo $L_1$ y $L_2$ (ElasticNet)."
   ]
  },
  {
   "cell_type": "code",
   "execution_count": 29,
   "metadata": {},
   "outputs": [],
   "source": [
    "# Con regularizador L2\n",
    "arquitectura_l2 = [\n",
    "    # Capa de entrada, primera capa de características\n",
    "    Conv2D(32, kernel_size=(3, 3),\n",
    "           padding=\"same\",\n",
    "           input_shape=x_train.shape[1:],\n",
    "          kernel_regularizer=regularizers.l2(regular_param_l2)),\n",
    "    Activation(\"relu\"),\n",
    "    Conv2D(32, (3, 3), kernel_regularizer=regularizers.l2(regular_param_l2)),\n",
    "    Activation(\"relu\"),\n",
    "    MaxPooling2D(pool_size=(2, 2)),\n",
    "    Dropout(0.25),\n",
    "    # Segunda capa de características\n",
    "    Conv2D(64, kernel_size=(3, 3), padding=\"same\",\n",
    "          kernel_regularizer=regularizers.l2(regular_param_l2)),\n",
    "    Activation(\"relu\"),\n",
    "    Conv2D(64, (3, 3), kernel_regularizer=regularizers.l2(regular_param_l2)),\n",
    "    Activation(\"relu\"),\n",
    "    MaxPooling2D(pool_size=(2, 2)),\n",
    "    Dropout(0.25),\n",
    "    # Capa totalmente conectada\n",
    "    Flatten(),\n",
    "    Dense(512, kernel_regularizer=regularizers.l2(regular_param_l2)),\n",
    "    Dropout(0.5),\n",
    "    Activation(\"relu\"),\n",
    "    # Capa de salida\n",
    "    Dense(num_classes, activation=\"softmax\")\n",
    "]"
   ]
  },
  {
   "cell_type": "code",
   "execution_count": 30,
   "metadata": {},
   "outputs": [],
   "source": [
    "# Con regularizador L1\n",
    "arquitectura_l1 = [\n",
    "    # Capa de entrada, primera capa de características\n",
    "    Conv2D(32, kernel_size=(3, 3),\n",
    "           padding=\"same\",\n",
    "           input_shape=x_train.shape[1:],\n",
    "          kernel_regularizer=regularizers.l1(regular_param_l1)),\n",
    "    Activation(\"relu\"),\n",
    "    Conv2D(32, (3, 3), kernel_regularizer=regularizers.l1(regular_param_l1)),\n",
    "    Activation(\"relu\"),\n",
    "    MaxPooling2D(pool_size=(2, 2)),\n",
    "    Dropout(0.25),\n",
    "    # Segunda capa de características\n",
    "    Conv2D(64, kernel_size=(3, 3), padding=\"same\",\n",
    "          kernel_regularizer=regularizers.l1(regular_param_l1)),\n",
    "    Activation(\"relu\"),\n",
    "    Conv2D(64, (3, 3), kernel_regularizer=regularizers.l1(regular_param_l1)),\n",
    "    Activation(\"relu\"),\n",
    "    MaxPooling2D(pool_size=(2, 2)),\n",
    "    Dropout(0.25),\n",
    "    # Capa totalmente conectada\n",
    "    Flatten(),\n",
    "    Dense(512, kernel_regularizer=regularizers.l1(regular_param_l1)),\n",
    "    Dropout(0.5),\n",
    "    Activation(\"relu\"),\n",
    "    # Capa de salida\n",
    "    Dense(num_classes, activation=\"softmax\")\n",
    "]"
   ]
  },
  {
   "cell_type": "code",
   "execution_count": 31,
   "metadata": {},
   "outputs": [],
   "source": [
    "# Con regularizador L1 y L2\n",
    "arquitectura_l1_l2 = [\n",
    "    # Capa de entrada, primera capa de características\n",
    "    Conv2D(32, kernel_size=(3, 3),\n",
    "           padding=\"same\",\n",
    "           input_shape=x_train.shape[1:],\n",
    "          kernel_regularizer=regularizers.l1_l2(l1=regular_param_l1, l2=regular_param_l2)),\n",
    "    Activation(\"relu\"),\n",
    "    Conv2D(32, (3, 3), kernel_regularizer=regularizers.l1_l2(l1=regular_param_l1, l2=regular_param_l2)),\n",
    "    Activation(\"relu\"),\n",
    "    MaxPooling2D(pool_size=(2, 2)),\n",
    "    Dropout(0.25),\n",
    "    # Segunda capa de características\n",
    "    Conv2D(64, kernel_size=(3, 3), padding=\"same\",\n",
    "          kernel_regularizer=regularizers.l1_l2(l1=regular_param_l1, l2=regular_param_l2)),\n",
    "    Activation(\"relu\"),\n",
    "    Conv2D(64, (3, 3), kernel_regularizer=regularizers.l1_l2(l1=regular_param_l1, l2=regular_param_l2)),\n",
    "    Activation(\"relu\"),\n",
    "    MaxPooling2D(pool_size=(2, 2)),\n",
    "    Dropout(0.25),\n",
    "    # Capa totalmente conectada\n",
    "    Flatten(),\n",
    "    Dense(512, kernel_regularizer=regularizers.l1_l2(l1=regular_param_l1, l2=regular_param_l2)),\n",
    "    Dropout(0.5),\n",
    "    Activation(\"relu\"),\n",
    "    # Capa de salida\n",
    "    Dense(num_classes, activation=\"softmax\")\n",
    "]"
   ]
  },
  {
   "cell_type": "code",
   "execution_count": 32,
   "metadata": {},
   "outputs": [],
   "source": [
    "modelo_l2 = Sequential(arquitectura_l2)\n",
    "modelo_l1 = Sequential(arquitectura_l1)\n",
    "modelo_l1_l2 = Sequential(arquitectura_l1_l2)"
   ]
  },
  {
   "cell_type": "markdown",
   "metadata": {},
   "source": [
    "## Optimización y entrenamiento\n",
    "\n",
    "Todas las arquitecturas serán entrenadas con descenso de gradiente estocástico con ratio de aprendizaje 0.001 y momento clásico de 0.9.\n",
    "\n",
    "El entrenamiento será validado con el 20% de ejemplos del conjunto de entrenamiento, y después será evaluado con el conjunto de prueba que se separó al principio, en el preprocesamiento de datos."
   ]
  },
  {
   "cell_type": "code",
   "execution_count": 33,
   "metadata": {},
   "outputs": [
    {
     "name": "stdout",
     "output_type": "stream",
     "text": [
      "Train on 48000 samples, validate on 12000 samples\n",
      "Epoch 1/50\n",
      "48000/48000 [==============================] - 60s 1ms/step - loss: 1.9116 - acc: 0.3334 - val_loss: 1.0247 - val_acc: 0.6803\n",
      "Epoch 2/50\n",
      "48000/48000 [==============================] - 57s 1ms/step - loss: 1.0563 - acc: 0.6372 - val_loss: 0.8127 - val_acc: 0.7413\n",
      "Epoch 3/50\n",
      "48000/48000 [==============================] - 58s 1ms/step - loss: 0.8831 - acc: 0.7015 - val_loss: 0.7263 - val_acc: 0.7638\n",
      "Epoch 4/50\n",
      "48000/48000 [==============================] - 58s 1ms/step - loss: 0.8059 - acc: 0.7329 - val_loss: 0.6825 - val_acc: 0.7828\n",
      "Epoch 5/50\n",
      "48000/48000 [==============================] - 57s 1ms/step - loss: 0.7523 - acc: 0.7513 - val_loss: 0.6495 - val_acc: 0.7906\n",
      "Epoch 6/50\n",
      "48000/48000 [==============================] - 58s 1ms/step - loss: 0.7166 - acc: 0.7647 - val_loss: 0.6186 - val_acc: 0.7967\n",
      "Epoch 7/50\n",
      "48000/48000 [==============================] - 58s 1ms/step - loss: 0.6898 - acc: 0.7762 - val_loss: 0.5917 - val_acc: 0.8118\n",
      "Epoch 8/50\n",
      "48000/48000 [==============================] - 57s 1ms/step - loss: 0.6704 - acc: 0.7827 - val_loss: 0.5862 - val_acc: 0.8212\n",
      "Epoch 9/50\n",
      "48000/48000 [==============================] - 58s 1ms/step - loss: 0.6490 - acc: 0.7930 - val_loss: 0.5686 - val_acc: 0.8276\n",
      "Epoch 10/50\n",
      "48000/48000 [==============================] - 58s 1ms/step - loss: 0.6343 - acc: 0.7962 - val_loss: 0.5517 - val_acc: 0.8339\n",
      "Epoch 11/50\n",
      "48000/48000 [==============================] - 58s 1ms/step - loss: 0.6199 - acc: 0.8008 - val_loss: 0.5443 - val_acc: 0.8388\n",
      "Epoch 12/50\n",
      "48000/48000 [==============================] - 58s 1ms/step - loss: 0.6096 - acc: 0.8061 - val_loss: 0.5327 - val_acc: 0.8429\n",
      "Epoch 13/50\n",
      "48000/48000 [==============================] - 58s 1ms/step - loss: 0.5941 - acc: 0.8132 - val_loss: 0.5264 - val_acc: 0.8460\n",
      "Epoch 14/50\n",
      "48000/48000 [==============================] - 58s 1ms/step - loss: 0.5846 - acc: 0.8168 - val_loss: 0.5240 - val_acc: 0.8435\n",
      "Epoch 15/50\n",
      "48000/48000 [==============================] - 58s 1ms/step - loss: 0.5747 - acc: 0.8211 - val_loss: 0.5144 - val_acc: 0.8478\n",
      "Epoch 16/50\n",
      "48000/48000 [==============================] - 58s 1ms/step - loss: 0.5666 - acc: 0.8227 - val_loss: 0.5049 - val_acc: 0.8525\n",
      "Epoch 17/50\n",
      "48000/48000 [==============================] - 58s 1ms/step - loss: 0.5561 - acc: 0.8286 - val_loss: 0.4953 - val_acc: 0.8523\n",
      "Epoch 18/50\n",
      "48000/48000 [==============================] - 58s 1ms/step - loss: 0.5482 - acc: 0.8325 - val_loss: 0.4846 - val_acc: 0.8560\n",
      "Epoch 19/50\n",
      "48000/48000 [==============================] - 58s 1ms/step - loss: 0.5451 - acc: 0.8323 - val_loss: 0.4791 - val_acc: 0.8595\n",
      "Epoch 20/50\n",
      "48000/48000 [==============================] - 58s 1ms/step - loss: 0.5327 - acc: 0.8379 - val_loss: 0.4763 - val_acc: 0.8596\n",
      "Epoch 21/50\n",
      "48000/48000 [==============================] - 58s 1ms/step - loss: 0.5259 - acc: 0.8420 - val_loss: 0.4706 - val_acc: 0.8640\n",
      "Epoch 22/50\n",
      "48000/48000 [==============================] - 58s 1ms/step - loss: 0.5220 - acc: 0.8425 - val_loss: 0.4631 - val_acc: 0.8655\n",
      "Epoch 23/50\n",
      "48000/48000 [==============================] - 58s 1ms/step - loss: 0.5177 - acc: 0.8426 - val_loss: 0.4560 - val_acc: 0.8679\n",
      "Epoch 24/50\n",
      "48000/48000 [==============================] - 58s 1ms/step - loss: 0.5101 - acc: 0.8453 - val_loss: 0.4556 - val_acc: 0.8674\n",
      "Epoch 25/50\n",
      "48000/48000 [==============================] - 58s 1ms/step - loss: 0.5015 - acc: 0.8497 - val_loss: 0.4510 - val_acc: 0.8683\n",
      "Epoch 26/50\n",
      "48000/48000 [==============================] - 58s 1ms/step - loss: 0.4969 - acc: 0.8517 - val_loss: 0.4442 - val_acc: 0.8703\n",
      "Epoch 27/50\n",
      "48000/48000 [==============================] - 58s 1ms/step - loss: 0.4930 - acc: 0.8539 - val_loss: 0.4383 - val_acc: 0.8764\n",
      "Epoch 28/50\n",
      "48000/48000 [==============================] - 58s 1ms/step - loss: 0.4889 - acc: 0.8542 - val_loss: 0.4389 - val_acc: 0.8740\n",
      "Epoch 29/50\n",
      "48000/48000 [==============================] - 59s 1ms/step - loss: 0.4837 - acc: 0.8563 - val_loss: 0.4295 - val_acc: 0.8768\n",
      "Epoch 30/50\n",
      "48000/48000 [==============================] - 58s 1ms/step - loss: 0.4785 - acc: 0.8554 - val_loss: 0.4325 - val_acc: 0.8733\n",
      "Epoch 31/50\n",
      "48000/48000 [==============================] - 58s 1ms/step - loss: 0.4754 - acc: 0.8600 - val_loss: 0.4254 - val_acc: 0.8798\n",
      "Epoch 32/50\n",
      "48000/48000 [==============================] - 58s 1ms/step - loss: 0.4728 - acc: 0.8610 - val_loss: 0.4226 - val_acc: 0.8802\n",
      "Epoch 33/50\n",
      "48000/48000 [==============================] - 59s 1ms/step - loss: 0.4675 - acc: 0.8626 - val_loss: 0.4168 - val_acc: 0.8814\n",
      "Epoch 34/50\n",
      "48000/48000 [==============================] - 61s 1ms/step - loss: 0.4631 - acc: 0.8651 - val_loss: 0.4162 - val_acc: 0.8817\n",
      "Epoch 35/50\n",
      "48000/48000 [==============================] - 61s 1ms/step - loss: 0.4611 - acc: 0.8625 - val_loss: 0.4121 - val_acc: 0.8838\n",
      "Epoch 36/50\n",
      "48000/48000 [==============================] - 60s 1ms/step - loss: 0.4555 - acc: 0.8643 - val_loss: 0.4098 - val_acc: 0.8835\n",
      "Epoch 37/50\n",
      "48000/48000 [==============================] - 64s 1ms/step - loss: 0.4500 - acc: 0.8687 - val_loss: 0.4092 - val_acc: 0.8825\n",
      "Epoch 38/50\n",
      "48000/48000 [==============================] - 62s 1ms/step - loss: 0.4467 - acc: 0.8700 - val_loss: 0.4041 - val_acc: 0.8849\n",
      "Epoch 39/50\n",
      "48000/48000 [==============================] - 62s 1ms/step - loss: 0.4439 - acc: 0.8714 - val_loss: 0.3987 - val_acc: 0.8874\n",
      "Epoch 40/50\n",
      "48000/48000 [==============================] - 62s 1ms/step - loss: 0.4390 - acc: 0.8723 - val_loss: 0.4003 - val_acc: 0.8866\n",
      "Epoch 41/50\n",
      "48000/48000 [==============================] - 61s 1ms/step - loss: 0.4387 - acc: 0.8708 - val_loss: 0.3954 - val_acc: 0.8866\n",
      "Epoch 42/50\n",
      "48000/48000 [==============================] - 61s 1ms/step - loss: 0.4332 - acc: 0.8742 - val_loss: 0.3943 - val_acc: 0.8887\n",
      "Epoch 43/50\n",
      "48000/48000 [==============================] - 59s 1ms/step - loss: 0.4332 - acc: 0.8757 - val_loss: 0.3883 - val_acc: 0.8909\n",
      "Epoch 44/50\n",
      "48000/48000 [==============================] - 60s 1ms/step - loss: 0.4275 - acc: 0.8758 - val_loss: 0.4012 - val_acc: 0.8837\n",
      "Epoch 45/50\n",
      "48000/48000 [==============================] - 59s 1ms/step - loss: 0.4276 - acc: 0.8760 - val_loss: 0.3838 - val_acc: 0.8912\n",
      "Epoch 46/50\n",
      "48000/48000 [==============================] - 60s 1ms/step - loss: 0.4237 - acc: 0.8774 - val_loss: 0.3875 - val_acc: 0.8913\n",
      "Epoch 47/50\n",
      "48000/48000 [==============================] - 61s 1ms/step - loss: 0.4192 - acc: 0.8786 - val_loss: 0.3892 - val_acc: 0.8908\n",
      "Epoch 48/50\n",
      "48000/48000 [==============================] - 60s 1ms/step - loss: 0.4178 - acc: 0.8793 - val_loss: 0.3784 - val_acc: 0.8931\n",
      "Epoch 49/50\n",
      "48000/48000 [==============================] - 61s 1ms/step - loss: 0.4126 - acc: 0.8803 - val_loss: 0.3774 - val_acc: 0.8927\n",
      "Epoch 50/50\n",
      "48000/48000 [==============================] - 60s 1ms/step - loss: 0.4112 - acc: 0.8827 - val_loss: 0.3740 - val_acc: 0.8948\n"
     ]
    }
   ],
   "source": [
    "modelo_l2.compile(loss=\"categorical_crossentropy\",\n",
    "                 optimizer=SGD(lr=0.001, momentum=0.9),\n",
    "                 metrics=[\"accuracy\"])\n",
    "historia_l2 = modelo_l2.fit(x_train, y_train, batch_size=batch_size,\n",
    "             epochs=epocas,\n",
    "             validation_split=0.2)"
   ]
  },
  {
   "cell_type": "code",
   "execution_count": 36,
   "metadata": {},
   "outputs": [
    {
     "name": "stdout",
     "output_type": "stream",
     "text": [
      "10000/10000 [==============================] - 6s 558us/step\n"
     ]
    },
    {
     "data": {
      "text/plain": [
       "[0.38824188022613526, 0.891]"
      ]
     },
     "execution_count": 36,
     "metadata": {},
     "output_type": "execute_result"
    }
   ],
   "source": [
    "modelo_l2.evaluate(x_test, y_test)"
   ]
  },
  {
   "cell_type": "code",
   "execution_count": 37,
   "metadata": {},
   "outputs": [
    {
     "data": {
      "image/png": "[encoded data removed]",
      "text/plain": [
       "<Figure size 936x648 with 1 Axes>"
      ]
     },
     "metadata": {
      "needs_background": "light"
     },
     "output_type": "display_data"
    }
   ],
   "source": [
    "# Graficar los valores de pérdida en el entrenamiento\n",
    "plt.figure(figsize=(13, 9))\n",
    "plt.plot(historia_l2.history['loss'])\n",
    "plt.plot(historia_l2.history['val_loss'])\n",
    "plt.legend([\"Entrenamiento\", \"Validación\"], loc='upper left')\n",
    "plt.show()"
   ]
  },
  {
   "cell_type": "markdown",
   "metadata": {},
   "source": [
    "Como se puede ver, junto con _dropout_ y regularización de pesos $L_2$ la red neuronal controla muy bien el sobreajuste. Adicionalmente, la precisión que resulta es buena, y algo importante a notar es que la precisión en el conjunto de validación es mayor que en el conjunto de entrenamiento. Esto es algo normal e incluso esperado, este es el tipo de comportamiento que se debe observar cuando se aplica este tipo de regularización."
   ]
  },
  {
   "cell_type": "code",
   "execution_count": 34,
   "metadata": {},
   "outputs": [
    {
     "name": "stdout",
     "output_type": "stream",
     "text": [
      "Train on 48000 samples, validate on 12000 samples\n",
      "Epoch 1/50\n",
      "48000/48000 [==============================] - 62s 1ms/step - loss: 3.2791 - acc: 0.2278 - val_loss: 2.3303 - val_acc: 0.6140\n",
      "Epoch 2/50\n",
      "48000/48000 [==============================] - 61s 1ms/step - loss: 2.3021 - acc: 0.5940 - val_loss: 1.9854 - val_acc: 0.7309\n",
      "Epoch 3/50\n",
      "48000/48000 [==============================] - 60s 1ms/step - loss: 2.0575 - acc: 0.6793 - val_loss: 1.8729 - val_acc: 0.7535\n",
      "Epoch 4/50\n",
      "48000/48000 [==============================] - 59s 1ms/step - loss: 1.9484 - acc: 0.7150 - val_loss: 1.8218 - val_acc: 0.7697\n",
      "Epoch 5/50\n",
      "48000/48000 [==============================] - 59s 1ms/step - loss: 1.8797 - acc: 0.7370 - val_loss: 1.7665 - val_acc: 0.7817\n",
      "Epoch 6/50\n",
      "48000/48000 [==============================] - 60s 1ms/step - loss: 1.8325 - acc: 0.7534 - val_loss: 1.7320 - val_acc: 0.7911\n",
      "Epoch 7/50\n",
      "48000/48000 [==============================] - 62s 1ms/step - loss: 1.7909 - acc: 0.7658 - val_loss: 1.6890 - val_acc: 0.8021\n",
      "Epoch 8/50\n",
      "48000/48000 [==============================] - 60s 1ms/step - loss: 1.7551 - acc: 0.7757 - val_loss: 1.6713 - val_acc: 0.8082\n",
      "Epoch 9/50\n",
      "48000/48000 [==============================] - 62s 1ms/step - loss: 1.7246 - acc: 0.7863 - val_loss: 1.6403 - val_acc: 0.8179\n",
      "Epoch 10/50\n",
      "48000/48000 [==============================] - 63s 1ms/step - loss: 1.7004 - acc: 0.7907 - val_loss: 1.6173 - val_acc: 0.8278\n",
      "Epoch 11/50\n",
      "48000/48000 [==============================] - 61s 1ms/step - loss: 1.6769 - acc: 0.7968 - val_loss: 1.6021 - val_acc: 0.8303\n",
      "Epoch 12/50\n",
      "48000/48000 [==============================] - 60s 1ms/step - loss: 1.6516 - acc: 0.8060 - val_loss: 1.5803 - val_acc: 0.8402\n",
      "Epoch 13/50\n",
      "48000/48000 [==============================] - 60s 1ms/step - loss: 1.6352 - acc: 0.8092 - val_loss: 1.5591 - val_acc: 0.8383\n",
      "Epoch 14/50\n",
      "48000/48000 [==============================] - 61s 1ms/step - loss: 1.6169 - acc: 0.8166 - val_loss: 1.5416 - val_acc: 0.8464\n",
      "Epoch 15/50\n",
      "48000/48000 [==============================] - 59s 1ms/step - loss: 1.5984 - acc: 0.8185 - val_loss: 1.5276 - val_acc: 0.8484\n",
      "Epoch 16/50\n",
      "48000/48000 [==============================] - 62s 1ms/step - loss: 1.5821 - acc: 0.8242 - val_loss: 1.5099 - val_acc: 0.8516\n",
      "Epoch 17/50\n",
      "48000/48000 [==============================] - 62s 1ms/step - loss: 1.5664 - acc: 0.8241 - val_loss: 1.4961 - val_acc: 0.8535\n",
      "Epoch 18/50\n",
      "48000/48000 [==============================] - 63s 1ms/step - loss: 1.5462 - acc: 0.8287 - val_loss: 1.4818 - val_acc: 0.8574\n",
      "Epoch 19/50\n",
      "48000/48000 [==============================] - 61s 1ms/step - loss: 1.5312 - acc: 0.8343 - val_loss: 1.4715 - val_acc: 0.8573\n",
      "Epoch 20/50\n",
      "48000/48000 [==============================] - 62s 1ms/step - loss: 1.5184 - acc: 0.8353 - val_loss: 1.4517 - val_acc: 0.8614\n",
      "Epoch 21/50\n",
      "48000/48000 [==============================] - 62s 1ms/step - loss: 1.5003 - acc: 0.8393 - val_loss: 1.4407 - val_acc: 0.8635\n",
      "Epoch 22/50\n",
      "48000/48000 [==============================] - 60s 1ms/step - loss: 1.4883 - acc: 0.8417 - val_loss: 1.4259 - val_acc: 0.8654\n",
      "Epoch 23/50\n",
      "48000/48000 [==============================] - 59s 1ms/step - loss: 1.4765 - acc: 0.8449 - val_loss: 1.4136 - val_acc: 0.8683\n",
      "Epoch 24/50\n",
      "48000/48000 [==============================] - 61s 1ms/step - loss: 1.4608 - acc: 0.8459 - val_loss: 1.4025 - val_acc: 0.8727\n",
      "Epoch 25/50\n",
      "48000/48000 [==============================] - 61s 1ms/step - loss: 1.4450 - acc: 0.8499 - val_loss: 1.3913 - val_acc: 0.8711\n",
      "Epoch 26/50\n",
      "48000/48000 [==============================] - 63s 1ms/step - loss: 1.4340 - acc: 0.8512 - val_loss: 1.3806 - val_acc: 0.8698\n",
      "Epoch 27/50\n",
      "48000/48000 [==============================] - 62s 1ms/step - loss: 1.4207 - acc: 0.8521 - val_loss: 1.3728 - val_acc: 0.8702\n",
      "Epoch 28/50\n",
      "48000/48000 [==============================] - 62s 1ms/step - loss: 1.4061 - acc: 0.8572 - val_loss: 1.3599 - val_acc: 0.8732\n",
      "Epoch 29/50\n",
      "48000/48000 [==============================] - 62s 1ms/step - loss: 1.3978 - acc: 0.8567 - val_loss: 1.3431 - val_acc: 0.8771\n",
      "Epoch 30/50\n",
      "48000/48000 [==============================] - 59s 1ms/step - loss: 1.3819 - acc: 0.8604 - val_loss: 1.3310 - val_acc: 0.8775\n",
      "Epoch 31/50\n",
      "48000/48000 [==============================] - 60s 1ms/step - loss: 1.3722 - acc: 0.8605 - val_loss: 1.3236 - val_acc: 0.8787\n",
      "Epoch 32/50\n",
      "48000/48000 [==============================] - 61s 1ms/step - loss: 1.3592 - acc: 0.8622 - val_loss: 1.3132 - val_acc: 0.8790\n",
      "Epoch 33/50\n",
      "48000/48000 [==============================] - 65s 1ms/step - loss: 1.3497 - acc: 0.8637 - val_loss: 1.3014 - val_acc: 0.8824\n",
      "Epoch 34/50\n",
      "48000/48000 [==============================] - 68s 1ms/step - loss: 1.3374 - acc: 0.8658 - val_loss: 1.2897 - val_acc: 0.8835\n",
      "Epoch 35/50\n",
      "48000/48000 [==============================] - 66s 1ms/step - loss: 1.3277 - acc: 0.8663 - val_loss: 1.2825 - val_acc: 0.8834\n",
      "Epoch 36/50\n",
      "48000/48000 [==============================] - 62s 1ms/step - loss: 1.3158 - acc: 0.8684 - val_loss: 1.2716 - val_acc: 0.8847\n",
      "Epoch 37/50\n",
      "48000/48000 [==============================] - 62s 1ms/step - loss: 1.3035 - acc: 0.8703 - val_loss: 1.2599 - val_acc: 0.8871\n",
      "Epoch 38/50\n",
      "48000/48000 [==============================] - 66s 1ms/step - loss: 1.2974 - acc: 0.8696 - val_loss: 1.2605 - val_acc: 0.8835\n",
      "Epoch 39/50\n",
      "48000/48000 [==============================] - 62s 1ms/step - loss: 1.2883 - acc: 0.8715 - val_loss: 1.2422 - val_acc: 0.8883\n",
      "Epoch 40/50\n",
      "48000/48000 [==============================] - 61s 1ms/step - loss: 1.2736 - acc: 0.8736 - val_loss: 1.2335 - val_acc: 0.8891\n",
      "Epoch 41/50\n",
      "48000/48000 [==============================] - 58s 1ms/step - loss: 1.2666 - acc: 0.8735 - val_loss: 1.2275 - val_acc: 0.8887\n",
      "Epoch 42/50\n",
      "48000/48000 [==============================] - 62s 1ms/step - loss: 1.2532 - acc: 0.8770 - val_loss: 1.2141 - val_acc: 0.8925\n",
      "Epoch 43/50\n",
      "48000/48000 [==============================] - 61s 1ms/step - loss: 1.2471 - acc: 0.8751 - val_loss: 1.2032 - val_acc: 0.8938\n",
      "Epoch 44/50\n",
      "48000/48000 [==============================] - 60s 1ms/step - loss: 1.2371 - acc: 0.8757 - val_loss: 1.1966 - val_acc: 0.8920\n",
      "Epoch 45/50\n",
      "48000/48000 [==============================] - 59s 1ms/step - loss: 1.2271 - acc: 0.8784 - val_loss: 1.1878 - val_acc: 0.8925\n",
      "Epoch 46/50\n",
      "48000/48000 [==============================] - 60s 1ms/step - loss: 1.2167 - acc: 0.8786 - val_loss: 1.1788 - val_acc: 0.8936\n",
      "Epoch 47/50\n",
      "48000/48000 [==============================] - 61s 1ms/step - loss: 1.2080 - acc: 0.8805 - val_loss: 1.1696 - val_acc: 0.8941\n",
      "Epoch 48/50\n",
      "48000/48000 [==============================] - 59s 1ms/step - loss: 1.2000 - acc: 0.8807 - val_loss: 1.1601 - val_acc: 0.8961\n",
      "Epoch 49/50\n",
      "48000/48000 [==============================] - 58s 1ms/step - loss: 1.1924 - acc: 0.8814 - val_loss: 1.1527 - val_acc: 0.8974\n",
      "Epoch 50/50\n",
      "48000/48000 [==============================] - 60s 1ms/step - loss: 1.1826 - acc: 0.8821 - val_loss: 1.1445 - val_acc: 0.8969\n"
     ]
    }
   ],
   "source": [
    "modelo_l1.compile(loss=\"categorical_crossentropy\",\n",
    "                 optimizer=SGD(lr=0.001, momentum=0.9),\n",
    "                 metrics=[\"accuracy\"])\n",
    "historia_l1 = modelo_l1.fit(x_train, y_train, batch_size=batch_size,\n",
    "             epochs=epocas,\n",
    "             validation_split=0.2)"
   ]
  },
  {
   "cell_type": "code",
   "execution_count": 38,
   "metadata": {},
   "outputs": [
    {
     "name": "stdout",
     "output_type": "stream",
     "text": [
      "10000/10000 [==============================] - 5s 494us/step\n"
     ]
    },
    {
     "data": {
      "text/plain": [
       "[1.1564080490112305, 0.8893]"
      ]
     },
     "execution_count": 38,
     "metadata": {},
     "output_type": "execute_result"
    }
   ],
   "source": [
    "modelo_l1.evaluate(x_test, y_test)"
   ]
  },
  {
   "cell_type": "code",
   "execution_count": 39,
   "metadata": {},
   "outputs": [
    {
     "data": {
      "image/png": "[encoded data removed]",
      "text/plain": [
       "<Figure size 936x648 with 1 Axes>"
      ]
     },
     "metadata": {
      "needs_background": "light"
     },
     "output_type": "display_data"
    }
   ],
   "source": [
    "# Graficar los valores de pérdida en el entrenamiento\n",
    "plt.figure(figsize=(13, 9))\n",
    "plt.plot(historia_l1.history['loss'])\n",
    "plt.plot(historia_l1.history['val_loss'])\n",
    "plt.legend([\"Entrenamiento\", \"Validación\"], loc='upper left')\n",
    "plt.show()"
   ]
  },
  {
   "cell_type": "markdown",
   "metadata": {},
   "source": [
    "Esta regularización tipo $L_1$ tiene mucho potencial dado que se puede observar en la gráfica que el error puede seguir disminuyendo si se le otorgara más tiempo de entrenamiento. Se debe recordar que la regularización _Lasso_ permite distinguir entre las características importantes y no importantes dentro de un conjunto de datos, por lo que además de controlar el sobreajuste aún tiene un potencial para mejorar el valor de precisión en la clasificación."
   ]
  },
  {
   "cell_type": "code",
   "execution_count": 35,
   "metadata": {},
   "outputs": [
    {
     "name": "stdout",
     "output_type": "stream",
     "text": [
      "Train on 48000 samples, validate on 12000 samples\n",
      "Epoch 1/50\n",
      "48000/48000 [==============================] - 60s 1ms/step - loss: 3.3027 - acc: 0.2855 - val_loss: 2.3302 - val_acc: 0.6517\n",
      "Epoch 2/50\n",
      "48000/48000 [==============================] - 61s 1ms/step - loss: 2.3178 - acc: 0.6189 - val_loss: 2.0295 - val_acc: 0.7408\n",
      "Epoch 3/50\n",
      "48000/48000 [==============================] - 58s 1ms/step - loss: 2.0985 - acc: 0.6983 - val_loss: 1.9281 - val_acc: 0.7628\n",
      "Epoch 4/50\n",
      "48000/48000 [==============================] - 60s 1ms/step - loss: 1.9973 - acc: 0.7304 - val_loss: 1.8720 - val_acc: 0.7773\n",
      "Epoch 5/50\n",
      "48000/48000 [==============================] - 60s 1ms/step - loss: 1.9334 - acc: 0.7497 - val_loss: 1.8177 - val_acc: 0.7949\n",
      "Epoch 6/50\n",
      "48000/48000 [==============================] - 59s 1ms/step - loss: 1.8844 - acc: 0.7671 - val_loss: 1.7765 - val_acc: 0.8070\n",
      "Epoch 7/50\n",
      "48000/48000 [==============================] - 61s 1ms/step - loss: 1.8439 - acc: 0.7771 - val_loss: 1.7413 - val_acc: 0.8190\n",
      "Epoch 8/50\n",
      "48000/48000 [==============================] - 60s 1ms/step - loss: 1.8108 - acc: 0.7862 - val_loss: 1.7152 - val_acc: 0.8237\n",
      "Epoch 9/50\n",
      "48000/48000 [==============================] - 59s 1ms/step - loss: 1.7803 - acc: 0.7940 - val_loss: 1.6973 - val_acc: 0.8312\n",
      "Epoch 10/50\n",
      "48000/48000 [==============================] - 63s 1ms/step - loss: 1.7558 - acc: 0.8009 - val_loss: 1.6730 - val_acc: 0.8360\n",
      "Epoch 11/50\n",
      "48000/48000 [==============================] - 61s 1ms/step - loss: 1.7317 - acc: 0.8059 - val_loss: 1.6604 - val_acc: 0.8361\n",
      "Epoch 12/50\n",
      "48000/48000 [==============================] - 65s 1ms/step - loss: 1.7105 - acc: 0.8107 - val_loss: 1.6310 - val_acc: 0.8482\n",
      "Epoch 13/50\n",
      "48000/48000 [==============================] - 61s 1ms/step - loss: 1.6893 - acc: 0.8163 - val_loss: 1.6107 - val_acc: 0.8484\n",
      "Epoch 14/50\n",
      "48000/48000 [==============================] - 60s 1ms/step - loss: 1.6688 - acc: 0.8232 - val_loss: 1.5958 - val_acc: 0.8507\n",
      "Epoch 15/50\n",
      "48000/48000 [==============================] - 60s 1ms/step - loss: 1.6482 - acc: 0.8263 - val_loss: 1.5785 - val_acc: 0.8549\n",
      "Epoch 16/50\n",
      "48000/48000 [==============================] - 60s 1ms/step - loss: 1.6343 - acc: 0.8285 - val_loss: 1.5673 - val_acc: 0.8524\n",
      "Epoch 17/50\n",
      "48000/48000 [==============================] - 67s 1ms/step - loss: 1.6148 - acc: 0.8320 - val_loss: 1.5481 - val_acc: 0.8568\n",
      "Epoch 18/50\n",
      "48000/48000 [==============================] - 64s 1ms/step - loss: 1.5972 - acc: 0.8342 - val_loss: 1.5318 - val_acc: 0.8618\n",
      "Epoch 19/50\n",
      "48000/48000 [==============================] - 63s 1ms/step - loss: 1.5815 - acc: 0.8375 - val_loss: 1.5137 - val_acc: 0.8645\n",
      "Epoch 20/50\n",
      "48000/48000 [==============================] - 67s 1ms/step - loss: 1.5600 - acc: 0.8422 - val_loss: 1.5028 - val_acc: 0.8638\n",
      "Epoch 21/50\n",
      "48000/48000 [==============================] - 61s 1ms/step - loss: 1.5499 - acc: 0.8421 - val_loss: 1.4903 - val_acc: 0.8633\n",
      "Epoch 22/50\n",
      "48000/48000 [==============================] - 65s 1ms/step - loss: 1.5324 - acc: 0.8460 - val_loss: 1.4787 - val_acc: 0.8637\n",
      "Epoch 23/50\n",
      "48000/48000 [==============================] - 67s 1ms/step - loss: 1.5171 - acc: 0.8494 - val_loss: 1.4580 - val_acc: 0.8702\n",
      "Epoch 24/50\n",
      "48000/48000 [==============================] - 63s 1ms/step - loss: 1.5066 - acc: 0.8492 - val_loss: 1.4464 - val_acc: 0.8699\n",
      "Epoch 25/50\n",
      "48000/48000 [==============================] - 63s 1ms/step - loss: 1.4900 - acc: 0.8522 - val_loss: 1.4295 - val_acc: 0.8730\n",
      "Epoch 26/50\n",
      "48000/48000 [==============================] - 63s 1ms/step - loss: 1.4761 - acc: 0.8560 - val_loss: 1.4244 - val_acc: 0.8703\n",
      "Epoch 27/50\n",
      "48000/48000 [==============================] - 61s 1ms/step - loss: 1.4615 - acc: 0.8547 - val_loss: 1.4083 - val_acc: 0.8750\n",
      "Epoch 28/50\n",
      "48000/48000 [==============================] - 64s 1ms/step - loss: 1.4488 - acc: 0.8573 - val_loss: 1.3978 - val_acc: 0.8726\n",
      "Epoch 29/50\n",
      "48000/48000 [==============================] - 68s 1ms/step - loss: 1.4342 - acc: 0.8600 - val_loss: 1.3848 - val_acc: 0.8762\n",
      "Epoch 30/50\n",
      "48000/48000 [==============================] - 61s 1ms/step - loss: 1.4224 - acc: 0.8599 - val_loss: 1.3772 - val_acc: 0.8765\n",
      "Epoch 31/50\n",
      "48000/48000 [==============================] - 61s 1ms/step - loss: 1.4104 - acc: 0.8610 - val_loss: 1.3617 - val_acc: 0.8785\n",
      "Epoch 32/50\n",
      "48000/48000 [==============================] - 61s 1ms/step - loss: 1.3973 - acc: 0.8637 - val_loss: 1.3493 - val_acc: 0.8798\n",
      "Epoch 33/50\n",
      "48000/48000 [==============================] - 59s 1ms/step - loss: 1.3863 - acc: 0.8640 - val_loss: 1.3397 - val_acc: 0.8782\n",
      "Epoch 34/50\n",
      "48000/48000 [==============================] - 65s 1ms/step - loss: 1.3707 - acc: 0.8680 - val_loss: 1.3243 - val_acc: 0.8827\n",
      "Epoch 35/50\n",
      "48000/48000 [==============================] - 60s 1ms/step - loss: 1.3603 - acc: 0.8680 - val_loss: 1.3148 - val_acc: 0.8823\n",
      "Epoch 36/50\n",
      "48000/48000 [==============================] - 63s 1ms/step - loss: 1.3476 - acc: 0.8679 - val_loss: 1.3007 - val_acc: 0.8855\n",
      "Epoch 37/50\n",
      "48000/48000 [==============================] - 65s 1ms/step - loss: 1.3379 - acc: 0.8708 - val_loss: 1.2963 - val_acc: 0.8832\n",
      "Epoch 38/50\n",
      "48000/48000 [==============================] - 66s 1ms/step - loss: 1.3224 - acc: 0.8726 - val_loss: 1.2833 - val_acc: 0.8858\n",
      "Epoch 39/50\n",
      "48000/48000 [==============================] - 69s 1ms/step - loss: 1.3110 - acc: 0.8736 - val_loss: 1.2676 - val_acc: 0.8900\n",
      "Epoch 40/50\n",
      "48000/48000 [==============================] - 63s 1ms/step - loss: 1.3016 - acc: 0.8735 - val_loss: 1.2598 - val_acc: 0.8897\n",
      "Epoch 41/50\n",
      "48000/48000 [==============================] - 67s 1ms/step - loss: 1.2900 - acc: 0.8765 - val_loss: 1.2483 - val_acc: 0.8882\n",
      "Epoch 42/50\n",
      "48000/48000 [==============================] - 64s 1ms/step - loss: 1.2812 - acc: 0.8743 - val_loss: 1.2418 - val_acc: 0.8888\n",
      "Epoch 43/50\n",
      "48000/48000 [==============================] - 65s 1ms/step - loss: 1.2693 - acc: 0.8761 - val_loss: 1.2271 - val_acc: 0.8903\n",
      "Epoch 44/50\n",
      "48000/48000 [==============================] - 63s 1ms/step - loss: 1.2577 - acc: 0.8773 - val_loss: 1.2227 - val_acc: 0.8888\n",
      "Epoch 45/50\n",
      "48000/48000 [==============================] - 62s 1ms/step - loss: 1.2474 - acc: 0.8778 - val_loss: 1.2097 - val_acc: 0.8920\n",
      "Epoch 46/50\n",
      "48000/48000 [==============================] - 63s 1ms/step - loss: 1.2379 - acc: 0.8778 - val_loss: 1.1962 - val_acc: 0.8942\n",
      "Epoch 47/50\n",
      "48000/48000 [==============================] - 63s 1ms/step - loss: 1.2275 - acc: 0.8802 - val_loss: 1.1933 - val_acc: 0.8904\n",
      "Epoch 48/50\n",
      "48000/48000 [==============================] - 62s 1ms/step - loss: 1.2152 - acc: 0.8818 - val_loss: 1.1775 - val_acc: 0.8956\n",
      "Epoch 49/50\n",
      "48000/48000 [==============================] - 65s 1ms/step - loss: 1.2049 - acc: 0.8830 - val_loss: 1.1697 - val_acc: 0.8933\n",
      "Epoch 50/50\n",
      "48000/48000 [==============================] - 65s 1ms/step - loss: 1.1949 - acc: 0.8829 - val_loss: 1.1600 - val_acc: 0.8945\n"
     ]
    }
   ],
   "source": [
    "modelo_l1_l2.compile(loss=\"categorical_crossentropy\",\n",
    "                 optimizer=SGD(lr=0.001, momentum=0.9),\n",
    "                 metrics=[\"accuracy\"])\n",
    "historia_l1_l2 = modelo_l1_l2.fit(x_train, y_train, batch_size=batch_size,\n",
    "             epochs=epocas,\n",
    "             validation_split=0.2)"
   ]
  },
  {
   "cell_type": "code",
   "execution_count": 41,
   "metadata": {},
   "outputs": [
    {
     "name": "stdout",
     "output_type": "stream",
     "text": [
      "10000/10000 [==============================] - 5s 476us/step\n"
     ]
    },
    {
     "data": {
      "text/plain": [
       "[1.1699292415618896, 0.8924]"
      ]
     },
     "execution_count": 41,
     "metadata": {},
     "output_type": "execute_result"
    }
   ],
   "source": [
    "modelo_l1_l2.evaluate(x_test, y_test)"
   ]
  },
  {
   "cell_type": "code",
   "execution_count": 40,
   "metadata": {},
   "outputs": [
    {
     "data": {
      "image/png": "[encoded data removed]",
      "text/plain": [
       "<Figure size 936x648 with 1 Axes>"
      ]
     },
     "metadata": {
      "needs_background": "light"
     },
     "output_type": "display_data"
    }
   ],
   "source": [
    "# Graficar los valores de pérdida en el entrenamiento\n",
    "plt.figure(figsize=(13, 9))\n",
    "plt.plot(historia_l1_l2.history['loss'])\n",
    "plt.plot(historia_l1_l2.history['val_loss'])\n",
    "plt.legend([\"Entrenamiento\", \"Validación\"], loc='upper left')\n",
    "plt.show()"
   ]
  },
  {
   "cell_type": "markdown",
   "metadata": {},
   "source": [
    "Al combinar los dos métodos el sobreajuste es mínimo y además, debido a la regularización de tipo $L_1$ esta arquitectura aún tiene potencial para mejorar su valor de precisión en la clasificación. Sin embargo no siempre es necesario aplicar este tipo de regularización _ElasticNet_ y depende mucho del tipo de datos con el que se esté trabajando."
   ]
  },
  {
   "cell_type": "markdown",
   "metadata": {},
   "source": [
    "## Conclusiones\n",
    "\n",
    "La regularización de pesos es una de las técnicas más utilizadas en Deep Learning en la actualidad, sin embargo es importante tomar en cuenta que agregar este tipo de metodologías aumentan los hiperparámetros a ajustar en las redes neuronales. Esto puede ser contraproducente e incluso imposible en redes neuronales muy grandes, pero en muchas situaciones este tipo de regularizadores son obligatorios para mejorar la precisión del modelo."
   ]
  }
 ],
 "metadata": {
  "kernelspec": {
   "display_name": "Python 3",
   "language": "python",
   "name": "python3"
  },
  "language_info": {
   "codemirror_mode": {
    "name": "ipython",
    "version": 3
   },
   "file_extension": ".py",
   "mimetype": "text/x-python",
   "name": "python",
   "nbconvert_exporter": "python",
   "pygments_lexer": "ipython3",
   "version": "3.7.4"
  }
 },
 "nbformat": 4,
 "nbformat_minor": 2
}
