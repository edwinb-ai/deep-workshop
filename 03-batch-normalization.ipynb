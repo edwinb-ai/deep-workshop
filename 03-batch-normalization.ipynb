{
 "cells": [
  {
   "cell_type": "markdown",
   "metadata": {},
   "source": [
    "# Normalización por lote (Batch Normalization)\n",
    "\n",
    "Propuesto for [Ioffe & Szegedy](https://arxiv.org/pdf/1502.03167.pdf) es un método para acelerar el entrenamiento mediante la normalización de los valores de los pesos en cada región de la red neuronal. El libro de Deep Learning en el [capítulo de regularización](https://www.deeplearningbook.org/contents/regularization.html) hace un excelente trabajo de explicar el porqué se necesita y cómo se puede utilizar en redes neuronales convolucionales (CNN).\n",
    "\n",
    "En este documento se expondrán las diferencias de entrenar una CNN con y sin normalización por lote (BN) para ver sus efectos en el entrenamiento de una CNN."
   ]
  },
  {
   "cell_type": "code",
   "execution_count": 1,
   "metadata": {},
   "outputs": [],
   "source": [
    "from keras.datasets import cifar10\n",
    "from keras.models import Sequential\n",
    "from keras.layers import Dense, BatchNormalization, Activation, Flatten\n",
    "from keras.layers import Conv2D, MaxPooling2D\n",
    "from keras.utils import to_categorical\n",
    "from keras.optimizers import Nadam, RMSprop, Adam\n",
    "import matplotlib.pyplot as plt"
   ]
  },
  {
   "cell_type": "markdown",
   "metadata": {},
   "source": [
    "Como siempre, se inicializan los hiperparámetros para el conjunto de datos en cuestión."
   ]
  },
  {
   "cell_type": "code",
   "execution_count": 58,
   "metadata": {},
   "outputs": [],
   "source": [
    "batch_size = 32\n",
    "num_classes = 10\n",
    "epocas = 20"
   ]
  },
  {
   "cell_type": "code",
   "execution_count": 59,
   "metadata": {},
   "outputs": [],
   "source": [
    "(x_train, y_train), (x_test, y_test) = cifar10.load_data()"
   ]
  },
  {
   "cell_type": "markdown",
   "metadata": {},
   "source": [
    "## CIFAR-10\n",
    "\n",
    "En este documento se trabajará con el conjunto de datos [CIFAR-10](https://www.cs.toronto.edu/~kriz/cifar.html), que es un conjunto de 60000 imágenes de tamaño $32 \\times 32$, a color, y que contienen 10 clases diferentes. La información del conjunto de datos se puede ver en el sitio web vinculado anteriormente."
   ]
  },
  {
   "cell_type": "code",
   "execution_count": 60,
   "metadata": {},
   "outputs": [
    {
     "name": "stdout",
     "output_type": "stream",
     "text": [
      "Tamaño de x_train: (50000, 32, 32, 3)\n",
      "50000 Ejemplos de entrenamiento\n",
      "10000 Ejemplos de prueba\n"
     ]
    }
   ],
   "source": [
    "print(\"Tamaño de x_train:\", x_train.shape)\n",
    "print(x_train.shape[0], \"Ejemplos de entrenamiento\")\n",
    "print(x_test.shape[0], \"Ejemplos de prueba\")"
   ]
  },
  {
   "cell_type": "markdown",
   "metadata": {},
   "source": [
    "Aquí se puede observar una de las imágenes, solamente para hacer un poco de exploración del conjunto de datos y conocerlo."
   ]
  },
  {
   "cell_type": "code",
   "execution_count": 61,
   "metadata": {},
   "outputs": [
    {
     "data": {
      "text/plain": [
       "<matplotlib.image.AxesImage at 0x7f90576ac210>"
      ]
     },
     "execution_count": 61,
     "metadata": {},
     "output_type": "execute_result"
    },
    {
     "data": {
      "image/png": "[encoded data removed]",
      "text/plain": [
       "<Figure size 432x288 with 1 Axes>"
      ]
     },
     "metadata": {
      "needs_background": "light"
     },
     "output_type": "display_data"
    }
   ],
   "source": [
    "plt.imshow(x_train[1, :, :, :])"
   ]
  },
  {
   "cell_type": "markdown",
   "metadata": {},
   "source": [
    "Como es costumbre, se cambia el tipo a `float32` y se normalizan los valores de las imágenes."
   ]
  },
  {
   "cell_type": "code",
   "execution_count": 62,
   "metadata": {},
   "outputs": [],
   "source": [
    "x_train = x_train.astype(\"float32\")\n",
    "x_test = x_test.astype(\"float32\")\n",
    "x_train /= 255\n",
    "x_test /= 255"
   ]
  },
  {
   "cell_type": "markdown",
   "metadata": {},
   "source": [
    "Adicionalmente, se cambian las etiquetas de las clases utilizando codificación _one hot._"
   ]
  },
  {
   "cell_type": "code",
   "execution_count": 63,
   "metadata": {},
   "outputs": [],
   "source": [
    "# Convert class vectors to binary class matrices.\n",
    "y_train = to_categorical(y_train, num_classes)\n",
    "y_test = to_categorical(y_test, num_classes)"
   ]
  },
  {
   "cell_type": "markdown",
   "metadata": {},
   "source": [
    "## Diseño básico (sin BN)\n",
    "\n",
    "En este diseño no se va a incorporar BN. Este diseño fue tomado del [ejemplo de `keras`](https://keras.io/examples/cifar10_cnn/) para CNN y clasificación, pero modificado para su uso en este documento.\n",
    "\n",
    "La arquitectura es la siguiente:\n",
    "\n",
    "- La **primera** capa es de convolución con 32 unidades, con relleno de $3 \\times 3$, y función de activación ReLU.\n",
    "- La **segunda** capa también es de convolución con 32 unidades, sin relleno, y función de activación ReLU.\n",
    "- A estas dos capas le sigue una capa de _max pooling_ de $2 \\times 2$.\n",
    "- La **tercera** capa es de convolución con 64 unidades, con relleno de $3 \\times 3$, y función de activación ReLU.\n",
    "- La **cuarta** capa también es de convolución con 64 unidades, sin relleno, y función de activación ReLU.\n",
    "- A estas dos capas le sigue una nueva capa de _max pooling_ de $2 \\times 2$; aquí termina la etapa de características\n",
    "- Con la etapa de clasificación se **aplanan** las imágenes y se ingresan a una red neuronal totalmente conectada de 512 unidades con función de activación ReLU.\n",
    "- La **capa de salida** tiene tantas unidades como clases y función de activación softmax."
   ]
  },
  {
   "cell_type": "code",
   "execution_count": 64,
   "metadata": {},
   "outputs": [],
   "source": [
    "arquitectura_basica = [\n",
    "    # Capa de entrada, primera capa de características\n",
    "    Conv2D(32, kernel_size=(3, 3),\n",
    "           padding=\"same\",\n",
    "           activation=\"relu\",\n",
    "           input_shape=x_train.shape[1:]),\n",
    "    Conv2D(32, (3, 3), activation=\"relu\"),\n",
    "    MaxPooling2D(pool_size=(2, 2)),\n",
    "    # Segunda capa de características\n",
    "    Conv2D(64, kernel_size=(3, 3),\n",
    "           padding=\"same\",\n",
    "           activation=\"relu\"),\n",
    "    Conv2D(64, (3, 3), activation=\"relu\"),\n",
    "    MaxPooling2D(pool_size=(2, 2)),\n",
    "    # Capa totalmente conectada\n",
    "    Flatten(),\n",
    "    Dense(512, activation=\"relu\"),\n",
    "    # Capa de salida\n",
    "    Dense(num_classes, activation=\"softmax\")\n",
    "]"
   ]
  },
  {
   "cell_type": "markdown",
   "metadata": {},
   "source": [
    "## Diseño normalizado (con BN)\n",
    "\n",
    "En este diseño se incorpora BN. Este diseño es el mismo que el anterior, la única diferencia es que antes de cualquier función de activación se aplica la normalización, para alimentar a la función de activación con los valores normalizados.\n",
    "\n",
    "Dos puntos importantes a mencionar:\n",
    "\n",
    "- Se quita el **sesgo** de cada capa, siguiendo las recomendaciones del artículo original. Esto porque cuando se normalizan los valores de cada capa el sesgo se elimina en el proceso de normalización y no hace falta calcularlo.\n",
    "- Se pone la opción `scale=False` dado que la media será calculada por la función de activación ReLU. En cualquier otro caso se debe de quitar esta opción dado que no siempre es cierta esta hipótesis."
   ]
  },
  {
   "cell_type": "code",
   "execution_count": 65,
   "metadata": {},
   "outputs": [],
   "source": [
    "# Todas las capas normalizadas, excpeto la última\n",
    "arquitectura_norm = [\n",
    "    # Capa de entrada, primera capa de características\n",
    "    Conv2D(32, kernel_size=(3, 3),\n",
    "           padding=\"same\",\n",
    "           input_shape=x_train.shape[1:],\n",
    "           use_bias=False),\n",
    "    BatchNormalization(scale=False),\n",
    "    Activation(\"relu\"),\n",
    "    Conv2D(32, (3, 3), use_bias=False),\n",
    "    BatchNormalization(scale=False),\n",
    "    Activation(\"relu\"),\n",
    "    MaxPooling2D(pool_size=(2, 2)),\n",
    "    # Segunda capa de características\n",
    "    Conv2D(64, kernel_size=(3, 3),\n",
    "           padding=\"same\",\n",
    "           use_bias=False),\n",
    "    BatchNormalization(scale=False),\n",
    "    Activation(\"relu\"),\n",
    "    Conv2D(64, (3, 3), use_bias=False),\n",
    "    BatchNormalization(scale=False),\n",
    "    Activation(\"relu\"),\n",
    "    MaxPooling2D(pool_size=(2, 2)),\n",
    "    # Capa totalmente conectada\n",
    "    Flatten(),\n",
    "    Dense(512, use_bias=False),\n",
    "    BatchNormalization(scale=False),\n",
    "    Activation(\"relu\"),\n",
    "    # Capa de salida\n",
    "    Dense(num_classes, activation=\"softmax\")\n",
    "]"
   ]
  },
  {
   "cell_type": "markdown",
   "metadata": {},
   "source": [
    "## Entrenamiento y pruebas\n",
    "\n",
    "Se construyen los modelos a partir de estas arquitecturas."
   ]
  },
  {
   "cell_type": "code",
   "execution_count": 66,
   "metadata": {},
   "outputs": [],
   "source": [
    "model_basico = Sequential(arquitectura_basica)\n",
    "model_normalizado = Sequential(arquitectura_norm)"
   ]
  },
  {
   "cell_type": "markdown",
   "metadata": {},
   "source": [
    "### Optimizador\n",
    "\n",
    "Para el **optimizador** se tiene que notar lo siguiente: el hecho de poder aplicar BN hacer que los ratios de aprendizaje sean mayores, mientras que la arquitectura sin BN siempre debe tener ratio pequeños. Esto se va a aplicar directamente a los optimizadores, donde se utilizará el confiable _Nadam_ con ratio de aprendizaje 0.002 para el caso _básico,_ mientras que para el caso _normalizado_ se aplicará con un ratio de aprendizaje de 0.1."
   ]
  },
  {
   "cell_type": "code",
   "execution_count": 67,
   "metadata": {},
   "outputs": [],
   "source": [
    "model_basico.compile(loss=\"categorical_crossentropy\", optimizer=\"nadam\", metrics=[\"accuracy\"])"
   ]
  },
  {
   "cell_type": "code",
   "execution_count": 68,
   "metadata": {},
   "outputs": [
    {
     "name": "stdout",
     "output_type": "stream",
     "text": [
      "Train on 50000 samples, validate on 10000 samples\n",
      "Epoch 1/20\n",
      "50000/50000 [==============================] - 110s 2ms/step - loss: 1.4312 - acc: 0.4857 - val_loss: 1.0285 - val_acc: 0.6269\n",
      "Epoch 2/20\n",
      "50000/50000 [==============================] - 107s 2ms/step - loss: 0.9031 - acc: 0.6822 - val_loss: 0.8478 - val_acc: 0.7083\n",
      "Epoch 3/20\n",
      "50000/50000 [==============================] - 107s 2ms/step - loss: 0.7044 - acc: 0.7505 - val_loss: 0.8490 - val_acc: 0.7144\n",
      "Epoch 4/20\n",
      "50000/50000 [==============================] - 108s 2ms/step - loss: 0.5629 - acc: 0.8027 - val_loss: 0.9458 - val_acc: 0.6979\n",
      "Epoch 5/20\n",
      "50000/50000 [==============================] - 108s 2ms/step - loss: 0.4362 - acc: 0.8464 - val_loss: 0.9687 - val_acc: 0.7108\n",
      "Epoch 6/20\n",
      "50000/50000 [==============================] - 108s 2ms/step - loss: 0.3358 - acc: 0.8822 - val_loss: 1.0556 - val_acc: 0.7118\n",
      "Epoch 7/20\n",
      "50000/50000 [==============================] - 108s 2ms/step - loss: 0.2685 - acc: 0.9049 - val_loss: 1.2723 - val_acc: 0.7039\n",
      "Epoch 8/20\n",
      "50000/50000 [==============================] - 108s 2ms/step - loss: 0.2257 - acc: 0.9227 - val_loss: 1.3115 - val_acc: 0.7009\n",
      "Epoch 9/20\n",
      "50000/50000 [==============================] - 108s 2ms/step - loss: 0.2050 - acc: 0.9297 - val_loss: 1.4429 - val_acc: 0.7091\n",
      "Epoch 10/20\n",
      "50000/50000 [==============================] - 109s 2ms/step - loss: 0.1911 - acc: 0.9366 - val_loss: 1.6321 - val_acc: 0.7048\n",
      "Epoch 11/20\n",
      "50000/50000 [==============================] - 109s 2ms/step - loss: 0.1731 - acc: 0.9424 - val_loss: 1.6294 - val_acc: 0.6958\n",
      "Epoch 12/20\n",
      "50000/50000 [==============================] - 109s 2ms/step - loss: 0.1694 - acc: 0.9462 - val_loss: 1.8206 - val_acc: 0.6931\n",
      "Epoch 13/20\n",
      "50000/50000 [==============================] - 109s 2ms/step - loss: 0.1717 - acc: 0.9461 - val_loss: 1.8472 - val_acc: 0.6949\n",
      "Epoch 14/20\n",
      "50000/50000 [==============================] - 109s 2ms/step - loss: 0.1593 - acc: 0.9517 - val_loss: 1.9601 - val_acc: 0.6922\n",
      "Epoch 15/20\n",
      "50000/50000 [==============================] - 109s 2ms/step - loss: 0.1664 - acc: 0.9495 - val_loss: 1.9455 - val_acc: 0.6936\n",
      "Epoch 16/20\n",
      "50000/50000 [==============================] - 109s 2ms/step - loss: 0.1563 - acc: 0.9528 - val_loss: 1.9579 - val_acc: 0.6937\n",
      "Epoch 17/20\n",
      "50000/50000 [==============================] - 110s 2ms/step - loss: 0.1482 - acc: 0.9551 - val_loss: 2.0456 - val_acc: 0.7021\n",
      "Epoch 18/20\n",
      "50000/50000 [==============================] - 110s 2ms/step - loss: 0.1594 - acc: 0.9533 - val_loss: 2.1065 - val_acc: 0.6896\n",
      "Epoch 19/20\n",
      "50000/50000 [==============================] - 110s 2ms/step - loss: 0.1410 - acc: 0.9589 - val_loss: 2.2846 - val_acc: 0.6877\n",
      "Epoch 20/20\n",
      "50000/50000 [==============================] - 110s 2ms/step - loss: 0.1436 - acc: 0.9583 - val_loss: 2.2880 - val_acc: 0.6909\n",
      "CPU times: user 1h 31min 17s, sys: 1min 3s, total: 1h 32min 20s\n",
      "Wall time: 36min 18s\n"
     ]
    },
    {
     "data": {
      "text/plain": [
       "<keras.callbacks.History at 0x7f9056eeae50>"
      ]
     },
     "execution_count": 68,
     "metadata": {},
     "output_type": "execute_result"
    }
   ],
   "source": [
    "%%time\n",
    "model_basico.fit(x_train, y_train,\n",
    "              batch_size=batch_size,\n",
    "              epochs=epocas,\n",
    "              validation_data=(x_test, y_test),\n",
    "              shuffle=True)"
   ]
  },
  {
   "cell_type": "code",
   "execution_count": 69,
   "metadata": {},
   "outputs": [
    {
     "name": "stdout",
     "output_type": "stream",
     "text": [
      "Pérdida general del conjunto de prueba: 2.2879998957633974\n",
      "Precisión del conjunto de prueba: 0.6909\n"
     ]
    }
   ],
   "source": [
    "score = model_basico.evaluate(x_test, y_test, verbose=0)\n",
    "print(\"Pérdida general del conjunto de prueba:\", score[0])\n",
    "print(\"Precisión del conjunto de prueba:\", score[1])"
   ]
  },
  {
   "cell_type": "markdown",
   "metadata": {},
   "source": [
    "Se puede ver que la precisión no es tan buena, y es de esperarse. Sin embargo el valor de la pérdida es _bastante_ grande. Aprximadamente 2.29 es demasiado error, y este el caso sin BN.\n",
    "\n",
    "Claramente el modelo está sobreajustado, pero además al modelo le cuesta demasiado trabajo ser entrenado, por lo que el error es tan grande."
   ]
  },
  {
   "cell_type": "code",
   "execution_count": 70,
   "metadata": {},
   "outputs": [],
   "source": [
    "model_normalizado.compile(loss=\"categorical_crossentropy\",\n",
    "                          optimizer=Nadam(lr=0.1),\n",
    "                          metrics=[\"accuracy\"])"
   ]
  },
  {
   "cell_type": "markdown",
   "metadata": {},
   "source": [
    "Para el caso normalizado, se entrenará el modelo en la mitad de las épocas y con un ratio de aprendizaje más grande, como ya se había mencionado."
   ]
  },
  {
   "cell_type": "code",
   "execution_count": 71,
   "metadata": {},
   "outputs": [
    {
     "name": "stdout",
     "output_type": "stream",
     "text": [
      "Train on 50000 samples, validate on 10000 samples\n",
      "Epoch 1/10\n",
      "50000/50000 [==============================] - 152s 3ms/step - loss: 1.8858 - acc: 0.3867 - val_loss: 2.7772 - val_acc: 0.3554\n",
      "Epoch 2/10\n",
      "50000/50000 [==============================] - 149s 3ms/step - loss: 1.2749 - acc: 0.5516 - val_loss: 1.4714 - val_acc: 0.5150\n",
      "Epoch 3/10\n",
      "50000/50000 [==============================] - 149s 3ms/step - loss: 1.0962 - acc: 0.6195 - val_loss: 2.0156 - val_acc: 0.4470\n",
      "Epoch 4/10\n",
      "50000/50000 [==============================] - 149s 3ms/step - loss: 1.0044 - acc: 0.6532 - val_loss: 2.2228 - val_acc: 0.4059\n",
      "Epoch 5/10\n",
      "50000/50000 [==============================] - 149s 3ms/step - loss: 0.9568 - acc: 0.6715 - val_loss: 2.3500 - val_acc: 0.3751\n",
      "Epoch 6/10\n",
      "50000/50000 [==============================] - 149s 3ms/step - loss: 0.9070 - acc: 0.6901 - val_loss: 1.3314 - val_acc: 0.5634\n",
      "Epoch 7/10\n",
      "50000/50000 [==============================] - 149s 3ms/step - loss: 0.8784 - acc: 0.6980 - val_loss: 1.9506 - val_acc: 0.4575\n",
      "Epoch 8/10\n",
      "50000/50000 [==============================] - 149s 3ms/step - loss: 0.8495 - acc: 0.7103 - val_loss: 1.1463 - val_acc: 0.6175\n",
      "Epoch 9/10\n",
      "50000/50000 [==============================] - 149s 3ms/step - loss: 0.8232 - acc: 0.7187 - val_loss: 2.5882 - val_acc: 0.4613\n",
      "Epoch 10/10\n",
      "50000/50000 [==============================] - 149s 3ms/step - loss: 0.8047 - acc: 0.7281 - val_loss: 1.1470 - val_acc: 0.6402\n",
      "CPU times: user 1h 8min 16s, sys: 1min 7s, total: 1h 9min 23s\n",
      "Wall time: 24min 55s\n"
     ]
    },
    {
     "data": {
      "text/plain": [
       "<keras.callbacks.History at 0x7f9056622410>"
      ]
     },
     "execution_count": 71,
     "metadata": {},
     "output_type": "execute_result"
    }
   ],
   "source": [
    "%%time\n",
    "model_normalizado.fit(x_train, y_train,\n",
    "              batch_size=batch_size,\n",
    "              epochs=epocas // 2,\n",
    "              validation_data=(x_test, y_test),\n",
    "              shuffle=True)"
   ]
  },
  {
   "cell_type": "code",
   "execution_count": 72,
   "metadata": {},
   "outputs": [
    {
     "name": "stdout",
     "output_type": "stream",
     "text": [
      "Pérdida general del conjunto de prueba: 1.1469518697738648\n",
      "Precisión del conjunto de prueba: 0.6402\n"
     ]
    }
   ],
   "source": [
    "score = model_normalizado.evaluate(x_test, y_test, verbose=0)\n",
    "print(\"Pérdida general del conjunto de prueba:\", score[0])\n",
    "print(\"Precisión del conjunto de prueba:\", score[1])"
   ]
  },
  {
   "cell_type": "markdown",
   "metadata": {},
   "source": [
    "Antes que nada es importante observar que el tiempo de entrenamiento se redujo, no considerablmente pero se ahorró un poco más de tiempo. Esto se debe a que se emplearon menos épocas de entrenamiento, como se había considerado. Es cierto que el tiempo de entrenamiento _por época_ incrementó, pero esto era de esperarse pues ahora cada capa de calcular su normalización y adicionalmente hacer el cálculo correspondiente."
   ]
  },
  {
   "cell_type": "markdown",
   "metadata": {},
   "source": [
    "## Observaciones y conclusiones\n",
    "\n",
    "Después de un largo entrenamiento se puede observar que el _error de prueba_ para el caso **normalizado** es menor que para el caso **no normalizado**, y esto es justamente lo que se esperaba. Quizás el tiempo de entrenamiento no se redujo drásticamente, pero al tener que realizar menos cálculos se obtuvo un mejor error en el caso de prueba.\n",
    "\n",
    "Por otro lado, el modelo sigue sobreajustado y no tiene buena precisión de clasificación, pero esto se modificará en futuros documentos."
   ]
  }
 ],
 "metadata": {
  "file_extension": ".py",
  "kernelspec": {
   "display_name": "Python 3",
   "language": "python",
   "name": "python3"
  },
  "language_info": {
   "codemirror_mode": {
    "name": "ipython",
    "version": 3
   },
   "file_extension": ".py",
   "mimetype": "text/x-python",
   "name": "python",
   "nbconvert_exporter": "python",
   "pygments_lexer": "ipython3",
   "version": "3.7.4"
  },
  "mimetype": "text/x-python",
  "name": "python",
  "npconvert_exporter": "python",
  "pygments_lexer": "ipython3",
  "version": 3
 },
 "nbformat": 4,
 "nbformat_minor": 2
}
