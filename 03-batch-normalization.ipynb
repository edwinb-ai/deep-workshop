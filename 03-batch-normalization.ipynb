{
 "cells": [
  {
   "cell_type": "markdown",
   "metadata": {},
   "source": [
    "# Normalización por lote (Batch Normalization)\n",
    "\n",
    "Propuesto for [Ioffe & Szegedy](https://arxiv.org/pdf/1502.03167.pdf) es un método para acelerar el entrenamiento mediante la normalización de los valores de los pesos en cada región de la red neuronal. El libro de Deep Learning en el [capítulo de regularización](https://www.deeplearningbook.org/contents/regularization.html) hace un excelente trabajo de explicar el porqué se necesita y cómo se puede utilizar en redes neuronales convolucionales (CNN).\n",
    "\n",
    "En este documento se expondrán las diferencias de entrenar una CNN con y sin normalización por lote (BN) para ver sus efectos en el entrenamiento de una CNN."
   ]
  },
  {
   "cell_type": "code",
   "execution_count": 122,
   "metadata": {},
   "outputs": [],
   "source": [
    "from keras.datasets import cifar10\n",
    "from keras.models import Sequential\n",
    "from keras.layers import Dense, BatchNormalization, Activation, Flatten\n",
    "from keras.layers import Conv2D, MaxPooling2D, Dropout\n",
    "from keras.utils import to_categorical\n",
    "from keras.optimizers import Nadam, RMSprop, Adam\n",
    "import matplotlib.pyplot as plt"
   ]
  },
  {
   "cell_type": "markdown",
   "metadata": {},
   "source": [
    "Como siempre, se inicializan los hiperparámetros para el conjunto de datos en cuestión."
   ]
  },
  {
   "cell_type": "code",
   "execution_count": 123,
   "metadata": {},
   "outputs": [],
   "source": [
    "batch_size = 32\n",
    "num_classes = 10\n",
    "epocas = 40"
   ]
  },
  {
   "cell_type": "code",
   "execution_count": 124,
   "metadata": {},
   "outputs": [],
   "source": [
    "(x_train, y_train), (x_test, y_test) = cifar10.load_data()"
   ]
  },
  {
   "cell_type": "markdown",
   "metadata": {},
   "source": [
    "## CIFAR-10\n",
    "\n",
    "En este documento se trabajará con el conjunto de datos [CIFAR-10](https://www.cs.toronto.edu/~kriz/cifar.html), que es un conjunto de 60000 imágenes de tamaño $32 \\times 32$, a color, y que contienen 10 clases diferentes. La información del conjunto de datos se puede ver en el sitio web vinculado anteriormente."
   ]
  },
  {
   "cell_type": "code",
   "execution_count": 125,
   "metadata": {},
   "outputs": [
    {
     "name": "stdout",
     "output_type": "stream",
     "text": [
      "Tamaño de x_train: (50000, 32, 32, 3)\n",
      "50000 Ejemplos de entrenamiento\n",
      "10000 Ejemplos de prueba\n"
     ]
    }
   ],
   "source": [
    "print(\"Tamaño de x_train:\", x_train.shape)\n",
    "print(x_train.shape[0], \"Ejemplos de entrenamiento\")\n",
    "print(x_test.shape[0], \"Ejemplos de prueba\")"
   ]
  },
  {
   "cell_type": "markdown",
   "metadata": {},
   "source": [
    "Aquí se puede observar una de las imágenes, solamente para hacer un poco de exploración del conjunto de datos y conocerlo."
   ]
  },
  {
   "cell_type": "code",
   "execution_count": 126,
   "metadata": {},
   "outputs": [
    {
     "data": {
      "text/plain": [
       "<matplotlib.image.AxesImage at 0x7f5720f39d10>"
      ]
     },
     "execution_count": 126,
     "metadata": {},
     "output_type": "execute_result"
    },
    {
     "data": {
      "image/png": "[encoded data removed]",
      "text/plain": [
       "<Figure size 432x288 with 1 Axes>"
      ]
     },
     "metadata": {
      "needs_background": "light"
     },
     "output_type": "display_data"
    }
   ],
   "source": [
    "plt.imshow(x_train[1, :, :, :])"
   ]
  },
  {
   "cell_type": "markdown",
   "metadata": {},
   "source": [
    "Como es costumbre, se cambia el tipo a `float32` y se normalizan los valores de las imágenes."
   ]
  },
  {
   "cell_type": "code",
   "execution_count": 127,
   "metadata": {},
   "outputs": [],
   "source": [
    "x_train = x_train.astype(\"float32\")\n",
    "x_test = x_test.astype(\"float32\")\n",
    "x_train /= 255\n",
    "x_test /= 255"
   ]
  },
  {
   "cell_type": "markdown",
   "metadata": {},
   "source": [
    "Adicionalmente, se cambian las etiquetas de las clases utilizando codificación _one hot._"
   ]
  },
  {
   "cell_type": "code",
   "execution_count": 128,
   "metadata": {},
   "outputs": [],
   "source": [
    "# Convert class vectors to binary class matrices.\n",
    "y_train = to_categorical(y_train, num_classes)\n",
    "y_test = to_categorical(y_test, num_classes)"
   ]
  },
  {
   "cell_type": "markdown",
   "metadata": {},
   "source": [
    "## Diseño básico (sin BN)\n",
    "\n",
    "En este diseño no se va a incorporar BN. Este diseño fue tomado del [ejemplo de `keras`](https://keras.io/examples/cifar10_cnn/) para CNN y clasificación, pero modificado para su uso en este documento.\n",
    "\n",
    "La arquitectura es la siguiente:\n",
    "\n",
    "- La **primera** capa es de convolución con 32 unidades, con relleno de $3 \\times 3$, y función de activación ReLU.\n",
    "- La **segunda** capa también es de convolución con 32 unidades, sin relleno, y función de activación ReLU.\n",
    "- A estas dos capas le sigue una capa de _max pooling_ de $2 \\times 2$.\n",
    "- La **tercera** capa es de convolución con 64 unidades, con relleno de $3 \\times 3$, y función de activación ReLU.\n",
    "- La **cuarta** capa también es de convolución con 64 unidades, sin relleno, y función de activación ReLU.\n",
    "- A estas dos capas le sigue una nueva capa de _max pooling_ de $2 \\times 2$; aquí termina la etapa de características\n",
    "- Con la etapa de clasificación se **aplanan** las imágenes y se ingresan a una red neuronal totalmente conectada de 512 unidades con función de activación ReLU.\n",
    "- La **capa de salida** tiene tantas unidades como clases y función de activación softmax."
   ]
  },
  {
   "cell_type": "code",
   "execution_count": 129,
   "metadata": {},
   "outputs": [],
   "source": [
    "arquitectura_basica = [\n",
    "    # Capa de entrada, primera capa de características\n",
    "    Conv2D(32, kernel_size=(3, 3),\n",
    "           padding=\"same\",\n",
    "           activation=\"relu\",\n",
    "           input_shape=x_train.shape[1:]),\n",
    "    Conv2D(32, (3, 3), activation=\"relu\"),\n",
    "    MaxPooling2D(pool_size=(2, 2)),\n",
    "    # Segunda capa de características\n",
    "    Conv2D(64, kernel_size=(3, 3),\n",
    "           padding=\"same\",\n",
    "           activation=\"relu\"),\n",
    "    Conv2D(64, (3, 3), activation=\"relu\"),\n",
    "    MaxPooling2D(pool_size=(2, 2)),\n",
    "    # Capa totalmente conectada\n",
    "    Flatten(),\n",
    "    Dense(512, activation=\"relu\"),\n",
    "    # Capa de salida\n",
    "    Dense(num_classes, activation=\"softmax\")\n",
    "]"
   ]
  },
  {
   "cell_type": "markdown",
   "metadata": {},
   "source": [
    "## Diseño normalizado (con BN)\n",
    "\n",
    "En este diseño se incorpora BN. Este diseño es el mismo que el anterior, la única diferencia es que antes de cualquier función de activación se aplica la normalización, para alimentar a la función de activación con los valores normalizados.\n",
    "\n",
    "Dos puntos importantes a mencionar:\n",
    "\n",
    "- Se quita el **sesgo** de cada capa, siguiendo las recomendaciones del artículo original. Esto porque cuando se normalizan los valores de cada capa el sesgo se elimina en el proceso de normalización y no hace falta calcularlo.\n",
    "- Se pone la opción `scale=False` dado que la media será calculada por la función de activación ReLU. En cualquier otro caso se debe de quitar esta opción dado que no siempre es cierta esta hipótesis."
   ]
  },
  {
   "cell_type": "code",
   "execution_count": 130,
   "metadata": {},
   "outputs": [],
   "source": [
    "# Todas las capas normalizadas, excpeto la última\n",
    "arquitectura_norm = [\n",
    "    # Capa de entrada, primera capa de características\n",
    "    Conv2D(32, kernel_size=(3, 3),\n",
    "           padding=\"same\",\n",
    "           input_shape=x_train.shape[1:],\n",
    "           use_bias=False),\n",
    "    BatchNormalization(scale=False),\n",
    "    Activation(\"relu\"),\n",
    "    Conv2D(32, (3, 3), use_bias=False),\n",
    "    BatchNormalization(scale=False),\n",
    "    Activation(\"relu\"),\n",
    "    MaxPooling2D(pool_size=(2, 2)),\n",
    "    # Segunda capa de características\n",
    "    Conv2D(64, kernel_size=(3, 3),\n",
    "           padding=\"same\",\n",
    "           use_bias=False),\n",
    "    BatchNormalization(scale=False),\n",
    "    Activation(\"relu\"),\n",
    "    Conv2D(64, (3, 3), use_bias=False),\n",
    "    BatchNormalization(scale=False),\n",
    "    Activation(\"relu\"),\n",
    "    MaxPooling2D(pool_size=(2, 2)),\n",
    "    # Capa totalmente conectada\n",
    "    Flatten(),\n",
    "    Dense(512),\n",
    "    Activation(\"relu\"),\n",
    "    Dropout(0.5),\n",
    "    # Capa de salida\n",
    "    Dense(num_classes, activation=\"softmax\")\n",
    "]"
   ]
  },
  {
   "cell_type": "markdown",
   "metadata": {},
   "source": [
    "## Entrenamiento y pruebas\n",
    "\n",
    "Se construyen los modelos a partir de estas arquitecturas."
   ]
  },
  {
   "cell_type": "code",
   "execution_count": 131,
   "metadata": {},
   "outputs": [],
   "source": [
    "model_basico = Sequential(arquitectura_basica)\n",
    "model_normalizado = Sequential(arquitectura_norm)"
   ]
  },
  {
   "cell_type": "markdown",
   "metadata": {},
   "source": [
    "### Optimizador\n",
    "\n",
    "Para el **optimizador** se tiene que notar lo siguiente: el hecho de poder aplicar BN hacer que los ratios de aprendizaje sean mayores, mientras que la arquitectura sin BN siempre debe tener ratio pequeños. Esto se va a aplicar directamente a los optimizadores, donde se utilizará el confiable _Nadam_ con ratio de aprendizaje 0.002 para el caso _básico,_ mientras que para el caso _normalizado_ se aplicará con un ratio de aprendizaje de 0.1."
   ]
  },
  {
   "cell_type": "code",
   "execution_count": 132,
   "metadata": {},
   "outputs": [],
   "source": [
    "model_basico.compile(loss=\"categorical_crossentropy\", optimizer=\"nadam\", metrics=[\"accuracy\"])"
   ]
  },
  {
   "cell_type": "code",
   "execution_count": 133,
   "metadata": {},
   "outputs": [],
   "source": [
    "#%%time\n",
    "#model_basico.fit(x_train, y_train,\n",
    "#              batch_size=batch_size,\n",
    "#              epochs=epocas,\n",
    "#              validation_data=(x_test, y_test),\n",
    "#              shuffle=True)"
   ]
  },
  {
   "cell_type": "code",
   "execution_count": 134,
   "metadata": {},
   "outputs": [
    {
     "name": "stdout",
     "output_type": "stream",
     "text": [
      "Pérdida general del conjunto de prueba: 2.30138900642395\n",
      "Precisión del conjunto de prueba: 0.1074\n"
     ]
    }
   ],
   "source": [
    "score = model_basico.evaluate(x_test, y_test, verbose=0)\n",
    "print(\"Pérdida general del conjunto de prueba:\", score[0])\n",
    "print(\"Precisión del conjunto de prueba:\", score[1])"
   ]
  },
  {
   "cell_type": "markdown",
   "metadata": {},
   "source": [
    "Se puede ver que la precisión no es tan buena, y es de esperarse. Sin embargo el valor de la pérdida es _bastante_ grande. Aprximadamente 2.29 es demasiado error, y este el caso sin BN.\n",
    "\n",
    "Claramente el modelo está sobreajustado, pero además al modelo le cuesta demasiado trabajo ser entrenado, por lo que el error es tan grande."
   ]
  },
  {
   "cell_type": "code",
   "execution_count": 135,
   "metadata": {},
   "outputs": [],
   "source": [
    "model_normalizado.compile(loss=\"categorical_crossentropy\",\n",
    "                          optimizer=Nadam(),\n",
    "                          metrics=[\"accuracy\"])"
   ]
  },
  {
   "cell_type": "markdown",
   "metadata": {},
   "source": [
    "Para el caso normalizado, se entrenará el modelo en la mitad de las épocas y con un ratio de aprendizaje más grande, como ya se había mencionado."
   ]
  },
  {
   "cell_type": "code",
   "execution_count": 136,
   "metadata": {},
   "outputs": [
    {
     "name": "stdout",
     "output_type": "stream",
     "text": [
      "Train on 50000 samples, validate on 10000 samples\n",
      "Epoch 1/20\n",
      "50000/50000 [==============================] - 153s 3ms/step - loss: 1.4873 - acc: 0.4875 - val_loss: 1.0287 - val_acc: 0.6343\n",
      "Epoch 2/20\n",
      "50000/50000 [==============================] - 151s 3ms/step - loss: 0.9873 - acc: 0.6566 - val_loss: 0.9849 - val_acc: 0.6416\n",
      "Epoch 3/20\n",
      "50000/50000 [==============================] - 152s 3ms/step - loss: 0.8296 - acc: 0.7149 - val_loss: 1.0667 - val_acc: 0.6386\n",
      "Epoch 4/20\n",
      "50000/50000 [==============================] - 152s 3ms/step - loss: 0.7324 - acc: 0.7475 - val_loss: 0.7555 - val_acc: 0.7424\n",
      "Epoch 5/20\n",
      "50000/50000 [==============================] - 153s 3ms/step - loss: 0.6550 - acc: 0.7756 - val_loss: 0.7187 - val_acc: 0.7530\n",
      "Epoch 6/20\n",
      "50000/50000 [==============================] - 153s 3ms/step - loss: 0.5834 - acc: 0.7979 - val_loss: 0.8368 - val_acc: 0.7278\n",
      "Epoch 7/20\n",
      "50000/50000 [==============================] - 154s 3ms/step - loss: 0.5238 - acc: 0.8165 - val_loss: 0.6645 - val_acc: 0.7766\n",
      "Epoch 8/20\n",
      "50000/50000 [==============================] - 154s 3ms/step - loss: 0.4744 - acc: 0.8366 - val_loss: 0.7922 - val_acc: 0.7499\n",
      "Epoch 9/20\n",
      "50000/50000 [==============================] - 155s 3ms/step - loss: 0.4249 - acc: 0.8506 - val_loss: 0.8014 - val_acc: 0.7496\n",
      "Epoch 10/20\n",
      "50000/50000 [==============================] - 155s 3ms/step - loss: 0.3874 - acc: 0.8648 - val_loss: 0.7867 - val_acc: 0.7544\n",
      "Epoch 11/20\n",
      "50000/50000 [==============================] - 155s 3ms/step - loss: 0.3559 - acc: 0.8766 - val_loss: 0.6832 - val_acc: 0.7959\n",
      "Epoch 12/20\n",
      "50000/50000 [==============================] - 156s 3ms/step - loss: 0.3229 - acc: 0.8863 - val_loss: 0.7814 - val_acc: 0.7705\n",
      "Epoch 13/20\n",
      "50000/50000 [==============================] - 159s 3ms/step - loss: 0.2946 - acc: 0.8971 - val_loss: 0.7896 - val_acc: 0.7789\n",
      "Epoch 14/20\n",
      "50000/50000 [==============================] - 167s 3ms/step - loss: 0.2733 - acc: 0.9029 - val_loss: 0.8200 - val_acc: 0.7847\n",
      "Epoch 15/20\n",
      "50000/50000 [==============================] - 153s 3ms/step - loss: 0.2540 - acc: 0.9100 - val_loss: 0.8280 - val_acc: 0.7780\n",
      "Epoch 16/20\n",
      "50000/50000 [==============================] - 154s 3ms/step - loss: 0.2366 - acc: 0.9171 - val_loss: 0.8161 - val_acc: 0.7894\n",
      "Epoch 17/20\n",
      "50000/50000 [==============================] - 154s 3ms/step - loss: 0.2200 - acc: 0.9241 - val_loss: 0.8577 - val_acc: 0.7854\n",
      "Epoch 18/20\n",
      "50000/50000 [==============================] - 156s 3ms/step - loss: 0.2100 - acc: 0.9274 - val_loss: 0.8445 - val_acc: 0.7955\n",
      "Epoch 19/20\n",
      "50000/50000 [==============================] - 153s 3ms/step - loss: 0.2019 - acc: 0.9310 - val_loss: 0.8939 - val_acc: 0.7916\n",
      "Epoch 20/20\n",
      "50000/50000 [==============================] - 165s 3ms/step - loss: 0.1886 - acc: 0.9356 - val_loss: 0.9781 - val_acc: 0.7711\n",
      "CPU times: user 2h 16min 53s, sys: 2min 20s, total: 2h 19min 14s\n",
      "Wall time: 51min 44s\n"
     ]
    },
    {
     "data": {
      "text/plain": [
       "<keras.callbacks.History at 0x7f5720873ad0>"
      ]
     },
     "execution_count": 136,
     "metadata": {},
     "output_type": "execute_result"
    }
   ],
   "source": [
    "%%time\n",
    "model_normalizado.fit(x_train, y_train,\n",
    "              batch_size=batch_size,\n",
    "              epochs=epocas // 2,\n",
    "              validation_data=(x_test, y_test),\n",
    "              shuffle=True)"
   ]
  },
  {
   "cell_type": "code",
   "execution_count": 137,
   "metadata": {},
   "outputs": [
    {
     "name": "stdout",
     "output_type": "stream",
     "text": [
      "Pérdida general del conjunto de prueba: 0.9781216808319092\n",
      "Precisión del conjunto de prueba: 0.7711\n"
     ]
    }
   ],
   "source": [
    "score = model_normalizado.evaluate(x_test, y_test, verbose=0)\n",
    "print(\"Pérdida general del conjunto de prueba:\", score[0])\n",
    "print(\"Precisión del conjunto de prueba:\", score[1])"
   ]
  },
  {
   "cell_type": "markdown",
   "metadata": {},
   "source": [
    "Antes que nada es importante observar que el tiempo de entrenamiento se redujo, no considerablmente pero se ahorró un poco más de tiempo. Esto se debe a que se emplearon menos épocas de entrenamiento, como se había considerado. Es cierto que el tiempo de entrenamiento _por época_ incrementó, pero esto era de esperarse pues ahora cada capa de calcular su normalización y adicionalmente hacer el cálculo correspondiente."
   ]
  },
  {
   "cell_type": "markdown",
   "metadata": {},
   "source": [
    "## Observaciones y conclusiones\n",
    "\n",
    "Mejoró la precisión del modelo al agregar `Dropout` al final, en la capa totalmente conectada, y un entrenamiento de 20 épocas. El tiempo de entrenamiento sigue siendo grande, pero es de esperarse para un conjunto de datos tan grande.\n",
    "\n",
    "Observar también que el ratio de aprendizaje se dejó en el default de `lr=0.002` lo que es un tanto contrdictorio, dado que el propósito de BN es utilizar ratios de aprendizajes grandes, pero quizás con otras metodologías se puede mejorar este resultado."
   ]
  }
 ],
 "metadata": {
  "file_extension": ".py",
  "kernelspec": {
   "display_name": "Python 3",
   "language": "python",
   "name": "python3"
  },
  "language_info": {
   "codemirror_mode": {
    "name": "ipython",
    "version": 3
   },
   "file_extension": ".py",
   "mimetype": "text/x-python",
   "name": "python",
   "nbconvert_exporter": "python",
   "pygments_lexer": "ipython3",
   "version": "3.7.4"
  },
  "mimetype": "text/x-python",
  "name": "python",
  "npconvert_exporter": "python",
  "pygments_lexer": "ipython3",
  "version": 3
 },
 "nbformat": 4,
 "nbformat_minor": 2
}
