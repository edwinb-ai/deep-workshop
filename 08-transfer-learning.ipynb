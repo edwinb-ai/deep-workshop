{
 "cells": [
  {
   "cell_type": "markdown",
   "metadata": {},
   "source": [
    "# Aprendizaje transferible (Transfer Learning)\n",
    "\n",
    "Una de las grandes ventajas de las redes neuronales convolucionales (CNN) es su habilidad para extraer características básicas y muy precisas de los conjuntos de datos. Las primeras capas de las CNN constan de _filtros_ que extraen información como bordes, colores y figuras, por lo que se pretende utilizar este tipo de información en un conjunto de datos diferente.\n",
    "\n",
    "La idea es simple y llamativa: si un modelo ha aprendido las formas y características de un conjunto de datos se puede hacer uso de esta información sobre un conjunto de datos **nuevo** que no haya sido visto aún por la CNN. Esto lleva por nombre **transfer learning** y su propósito es utilizar modelos y arquitecturas previamente entrenados para ser utilizados en otro tipo de datos.\n",
    "\n",
    "En este documento se explora una aplicación simple, donde se pretende generalizar el conjunto de datos y el modelo empleado a un nuevo conjunto de datos. El ejemplo aquí presentado está basado en el [ejemplo](https://keras.io/examples/mnist_transfer_cnn/) de `keras` sobre _transfer learning._"
   ]
  },
  {
   "cell_type": "code",
   "execution_count": 186,
   "metadata": {},
   "outputs": [],
   "source": [
    "from keras.datasets import fashion_mnist\n",
    "from keras.models import Sequential\n",
    "from keras.layers import Dense, Dropout, Activation, Flatten\n",
    "from keras.layers import Conv2D, MaxPooling2D\n",
    "from keras.utils import to_categorical\n",
    "import matplotlib.pyplot as plt\n",
    "import numpy as np"
   ]
  },
  {
   "cell_type": "markdown",
   "metadata": {},
   "source": [
    "## Fashion-MNIST\n",
    "\n",
    "El conjunto de datos empleado es el [Fashion-MNIST](https://github.com/zalandoresearch/fashion-mnist) que tiene 10 clases, cada una pertenece a un tipo de prenda o de calzado. La idea de este conjunto de datos (en realidad son imágenes) es que sirva como un reemplazo para el famoso conjunto de datos de dígitos escritos a mano del MNIST.\n",
    "\n",
    "Las imágenes tienen un tamaño de $28 \\times 28$ y están en tono de grises."
   ]
  },
  {
   "cell_type": "code",
   "execution_count": 187,
   "metadata": {},
   "outputs": [],
   "source": [
    "(x_train, y_train), (x_test, y_test) = fashion_mnist.load_data()"
   ]
  },
  {
   "cell_type": "code",
   "execution_count": 199,
   "metadata": {},
   "outputs": [],
   "source": [
    "# Tamaño de lote para el optimizador\n",
    "batch_size = 64\n",
    "# Número de clases, ya se sabe por que se conoce el conjunto de datos\n",
    "# pero si no, se puede hacer de forma programática\n",
    "num_clases = 5\n",
    "# Número de épocas, dejar como está porque es suficiente\n",
    "epocas = 10\n",
    "# Tamaño de los datos de entrada \n",
    "input_shape = (28, 28, 1)"
   ]
  },
  {
   "cell_type": "code",
   "execution_count": 200,
   "metadata": {},
   "outputs": [
    {
     "data": {
      "text/plain": [
       "(60000, 28, 28)"
      ]
     },
     "execution_count": 200,
     "metadata": {},
     "output_type": "execute_result"
    }
   ],
   "source": [
    "x_train.shape"
   ]
  },
  {
   "cell_type": "code",
   "execution_count": 201,
   "metadata": {},
   "outputs": [
    {
     "data": {
      "text/plain": [
       "<matplotlib.image.AxesImage at 0x7f8286734ad0>"
      ]
     },
     "execution_count": 201,
     "metadata": {},
     "output_type": "execute_result"
    },
    {
     "data": {
      "image/png": "[encoded data removed]",
      "text/plain": [
       "<Figure size 432x288 with 1 Axes>"
      ]
     },
     "metadata": {
      "needs_background": "light"
     },
     "output_type": "display_data"
    }
   ],
   "source": [
    "# Se puede visualizar una de estas imágenes para conocer el conjunto de datos\n",
    "plt.imshow(x_train[82, :, :], cmap=\"gray\")"
   ]
  },
  {
   "cell_type": "markdown",
   "metadata": {},
   "source": [
    "## Preprocesamiento\n",
    "\n",
    "La idea es separar el conjunto de datos en dos: las **primeras** 5 clases se utilizarán para entrenar al modelo, aprender las características principales y generalizarlas. Después, las **últimas** 5 clases se alimentarán al modelo pero los _filtros_ de características no se actualizarán, solamente se hará una clasificación.\n",
    "\n",
    "Para esto se van a separar los conjuntos de datos, unos con las primeras 5 clases y las clases que restan."
   ]
  },
  {
   "cell_type": "code",
   "execution_count": 204,
   "metadata": {},
   "outputs": [],
   "source": [
    "# Tomar los índices de las primeras 5 clases, entrenamiento y prueba\n",
    "idx_train_lt5 = np.squeeze(y_train < 5)\n",
    "idx_test_lt5 = np.squeeze(y_test < 5)\n",
    "# Tomar los índices de las últimas 5 clases, entrenamiento y prueba\n",
    "idx_train_gte5 = np.squeeze(y_train >= 5)\n",
    "idx_test_gte5 = np.squeeze(y_test >= 5)"
   ]
  },
  {
   "cell_type": "markdown",
   "metadata": {},
   "source": [
    "Con los índices de las clases se puede separar el conjunto de datos de la siguiente forma."
   ]
  },
  {
   "cell_type": "code",
   "execution_count": 205,
   "metadata": {},
   "outputs": [],
   "source": [
    "# Las primeras 5 clases, entrenamiento y prueba, junto con sus etiquetas\n",
    "x_train_lt5 = x_train[idx_train_lt5]\n",
    "y_train_lt5 = y_train[idx_train_lt5]\n",
    "x_test_lt5 = x_test[idx_test_lt5]\n",
    "y_test_lt5 = y_test[idx_test_lt5]\n",
    "# Las últimas 5 clases, entrenamiento y prueba\n",
    "x_train_gte5 = x_train[idx_train_gte5]\n",
    "# A las etiquetas hay que restarles 5 para asegurar que se tienen las últimas\n",
    "y_train_gte5 = y_train[idx_train_gte5] - 5\n",
    "x_test_gte5 = x_test[idx_test_gte5]\n",
    "y_test_gte5 = y_test[idx_test_gte5] - 5"
   ]
  },
  {
   "cell_type": "markdown",
   "metadata": {},
   "source": [
    "Para facilitar el entrenamiento se crea una función que realiza todas las operaciones necesarias."
   ]
  },
  {
   "cell_type": "code",
   "execution_count": 206,
   "metadata": {},
   "outputs": [],
   "source": [
    "def train_model(model, train, test, num_classes):\n",
    "    # Reajustar el formato de las imágenes\n",
    "    x_train = train[0].reshape((train[0].shape[0],) + input_shape)\n",
    "    x_test = test[0].reshape((test[0].shape[0],) + input_shape)\n",
    "    x_train = x_train.astype('float32')\n",
    "    x_test = x_test.astype('float32')\n",
    "    # Normalizar las imágenes\n",
    "    x_train /= 255\n",
    "    x_test /= 255\n",
    "    # Mostrar información relevante\n",
    "    print('x_train shape:', x_train.shape)\n",
    "    print(x_train.shape[0], 'train samples')\n",
    "    print(x_test.shape[0], 'test samples')\n",
    "\n",
    "    # Codificar mediante OneHot\n",
    "    y_train = to_categorical(train[1], num_classes)\n",
    "    y_test = to_categorical(test[1], num_classes)\n",
    "    # Compilar el modelo\n",
    "    model.compile(loss='categorical_crossentropy',\n",
    "                  optimizer='nadam',\n",
    "                  metrics=['accuracy'])\n",
    "    # Entrenar el modelo y realizar la validación\n",
    "    model.fit(x_train, y_train,\n",
    "              batch_size=batch_size,\n",
    "              epochs=epocas,\n",
    "              verbose=1,\n",
    "              validation_data=(x_test, y_test))\n",
    "    score = model.evaluate(x_test, y_test, verbose=0)\n",
    "    print('Test score:', score[0])\n",
    "    print('Test accuracy:', score[1])"
   ]
  },
  {
   "cell_type": "markdown",
   "metadata": {},
   "source": [
    "## Arquitectura\n",
    "\n",
    "La arquitectura es muy simple, consta de dos capas de 32 unidades de filtros $3 \\times 3$, funciones de activación ReLU. La última capa es totalmente conectada de 128 unidades, y empleando _dropout_ de 25% para los filtros y de 50% para parte totalmente conectada.\n",
    "\n",
    "Aquí la implementación es diferente, se separan los tipos de capas dado que en la primera parte se van a ajustar los filtros de características, pero en la segunda parte se van a omitir."
   ]
  },
  {
   "cell_type": "code",
   "execution_count": 207,
   "metadata": {},
   "outputs": [],
   "source": [
    "# Estas son las capas de características\n",
    "feature_layers = [\n",
    "    Conv2D(32, kernel_size=(3, 3),\n",
    "           padding='valid',\n",
    "           input_shape=input_shape),\n",
    "    Activation('relu'),\n",
    "    Conv2D(32, kernel_size=(3, 3)),\n",
    "    Activation('relu'),\n",
    "    MaxPooling2D(pool_size=(2, 2)),\n",
    "    Dropout(0.25),\n",
    "    Flatten(),\n",
    "]\n",
    "# Y esta es la capa que realiza la clasificación\n",
    "classification_layers = [\n",
    "    Dense(128),\n",
    "    Activation('relu'),\n",
    "    Dropout(0.5),\n",
    "    Dense(num_clases),\n",
    "    Activation('softmax')\n",
    "]"
   ]
  },
  {
   "cell_type": "code",
   "execution_count": 208,
   "metadata": {},
   "outputs": [],
   "source": [
    "model = Sequential(feature_layers + classification_layers)"
   ]
  },
  {
   "cell_type": "markdown",
   "metadata": {},
   "source": [
    "## Entrenamiento: primeras 5 clases\n",
    "\n",
    "En esta parte del entrenamiento se va a entrenar y validar el modelo con las primeras 5 clases que se habían separado desde el principio, durante 10 épocas de entrenamiento. Aquí se van a ajustar los filtros de características y se va a clasificar el conjunto de validación.\n",
    "\n",
    "Este es el modelo que se va a entrenar y genalizará las características para las últimas 5 capas."
   ]
  },
  {
   "cell_type": "code",
   "execution_count": 209,
   "metadata": {},
   "outputs": [
    {
     "name": "stdout",
     "output_type": "stream",
     "text": [
      "x_train shape: (30000, 28, 28, 1)\n",
      "30000 train samples\n",
      "5000 test samples\n",
      "Train on 30000 samples, validate on 5000 samples\n",
      "Epoch 1/10\n",
      "30000/30000 [==============================] - 27s 904us/step - loss: 0.4049 - acc: 0.8620 - val_loss: 0.2417 - val_acc: 0.9126\n",
      "Epoch 2/10\n",
      "30000/30000 [==============================] - 27s 889us/step - loss: 0.2482 - acc: 0.9137 - val_loss: 0.1991 - val_acc: 0.9288\n",
      "Epoch 3/10\n",
      "30000/30000 [==============================] - 26s 880us/step - loss: 0.2123 - acc: 0.9266 - val_loss: 0.2279 - val_acc: 0.9170\n",
      "Epoch 4/10\n",
      "30000/30000 [==============================] - 26s 864us/step - loss: 0.1862 - acc: 0.9350 - val_loss: 0.1853 - val_acc: 0.9330\n",
      "Epoch 5/10\n",
      "30000/30000 [==============================] - 28s 934us/step - loss: 0.1692 - acc: 0.9383 - val_loss: 0.1689 - val_acc: 0.9436\n",
      "Epoch 6/10\n",
      "30000/30000 [==============================] - 27s 894us/step - loss: 0.1538 - acc: 0.9445 - val_loss: 0.1723 - val_acc: 0.9424\n",
      "Epoch 7/10\n",
      "30000/30000 [==============================] - 27s 907us/step - loss: 0.1421 - acc: 0.9476 - val_loss: 0.1683 - val_acc: 0.9488\n",
      "Epoch 8/10\n",
      "30000/30000 [==============================] - 28s 924us/step - loss: 0.1323 - acc: 0.9514 - val_loss: 0.1844 - val_acc: 0.9414\n",
      "Epoch 9/10\n",
      "30000/30000 [==============================] - 27s 893us/step - loss: 0.1251 - acc: 0.9533 - val_loss: 0.1860 - val_acc: 0.9356\n",
      "Epoch 10/10\n",
      "30000/30000 [==============================] - 26s 856us/step - loss: 0.1158 - acc: 0.9566 - val_loss: 0.1819 - val_acc: 0.9432\n",
      "Test score: 0.18193507876992226\n",
      "Test accuracy: 0.9432\n"
     ]
    }
   ],
   "source": [
    "train_model(model,\n",
    "            (x_train_lt5, y_train_lt5),\n",
    "            (x_test_lt5, y_test_lt5), num_clases)"
   ]
  },
  {
   "cell_type": "markdown",
   "metadata": {},
   "source": [
    "## Entrenamiento: últimas 5 capas\n",
    "\n",
    "Ahora se van a _congelar_ las capas de características, esto es que **no se van a actualizar.** El propósito de _transfer learning_ es utilizar las características ya aprendidas en el modelo entrenado y clasificar un conjunto de datos totalmente diferente."
   ]
  },
  {
   "cell_type": "code",
   "execution_count": 210,
   "metadata": {},
   "outputs": [],
   "source": [
    "# Congelar todas los filtros de convolución\n",
    "for l in feature_layers:\n",
    "    l.trainable = False"
   ]
  },
  {
   "cell_type": "code",
   "execution_count": 212,
   "metadata": {},
   "outputs": [
    {
     "name": "stdout",
     "output_type": "stream",
     "text": [
      "x_train shape: (30000, 28, 28, 1)\n",
      "30000 train samples\n",
      "5000 test samples\n",
      "Train on 30000 samples, validate on 5000 samples\n",
      "Epoch 1/10\n",
      "30000/30000 [==============================] - 17s 560us/step - loss: 0.3705 - acc: 0.8854 - val_loss: 0.1008 - val_acc: 0.9644\n",
      "Epoch 2/10\n",
      "30000/30000 [==============================] - 15s 516us/step - loss: 0.1177 - acc: 0.9603 - val_loss: 0.0761 - val_acc: 0.9748\n",
      "Epoch 3/10\n",
      "30000/30000 [==============================] - 16s 543us/step - loss: 0.0864 - acc: 0.9701 - val_loss: 0.0710 - val_acc: 0.9748\n",
      "Epoch 4/10\n",
      "30000/30000 [==============================] - 16s 523us/step - loss: 0.0709 - acc: 0.9741 - val_loss: 0.0700 - val_acc: 0.9774\n",
      "Epoch 5/10\n",
      "30000/30000 [==============================] - 15s 513us/step - loss: 0.0615 - acc: 0.9786 - val_loss: 0.0642 - val_acc: 0.9784\n",
      "Epoch 6/10\n",
      "30000/30000 [==============================] - 15s 503us/step - loss: 0.0550 - acc: 0.9799 - val_loss: 0.0647 - val_acc: 0.9796\n",
      "Epoch 7/10\n",
      "30000/30000 [==============================] - 15s 508us/step - loss: 0.0511 - acc: 0.9817 - val_loss: 0.0630 - val_acc: 0.9800\n",
      "Epoch 8/10\n",
      "30000/30000 [==============================] - 17s 567us/step - loss: 0.0433 - acc: 0.9844 - val_loss: 0.0725 - val_acc: 0.9774\n",
      "Epoch 9/10\n",
      "30000/30000 [==============================] - 16s 521us/step - loss: 0.0411 - acc: 0.9846 - val_loss: 0.0683 - val_acc: 0.9798\n",
      "Epoch 10/10\n",
      "30000/30000 [==============================] - 16s 534us/step - loss: 0.0364 - acc: 0.9854 - val_loss: 0.0677 - val_acc: 0.9818\n",
      "Test score: 0.06765552457415325\n",
      "Test accuracy: 0.9818\n"
     ]
    }
   ],
   "source": [
    "train_model(model,\n",
    "            (x_train_gte5, y_train_gte5),\n",
    "            (x_test_gte5, y_test_gte5), num_clases)"
   ]
  },
  {
   "cell_type": "markdown",
   "metadata": {},
   "source": [
    "## Conclusiones\n",
    "\n",
    "El resultado es excelente, al entrenar el modelo con las _primeras_ 5 capas se obtiene una precisión de validación de 94.2%. Cuando se generaliza este modelo a las _últimas_ 5 capas se obtiene una precisión de 98.2%. Esto implica que la técnica de _transfer learning_ es muy buena cuando se tienen conjuntos de datos con **características semejantes.**\n",
    "\n",
    "En otras ocasiones se puede hacer uso de conjuntos de datos más grandes, de diferentes tipos, para resolver un problema semejante, pero se debe tomar en cuenta que los conjuntos de datos deben de tener _características semejantes_ para que esta técnica funcione adecuadamente."
   ]
  }
 ],
 "metadata": {
  "kernelspec": {
   "display_name": "Python 3",
   "language": "python",
   "name": "python3"
  },
  "language_info": {
   "codemirror_mode": {
    "name": "ipython",
    "version": 3
   },
   "file_extension": ".py",
   "mimetype": "text/x-python",
   "name": "python",
   "nbconvert_exporter": "python",
   "pygments_lexer": "ipython3",
   "version": "3.7.4"
  }
 },
 "nbformat": 4,
 "nbformat_minor": 2
}
