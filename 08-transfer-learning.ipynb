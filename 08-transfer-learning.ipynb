{
 "cells": [
  {
   "cell_type": "code",
   "execution_count": 44,
   "metadata": {},
   "outputs": [],
   "source": [
    "from keras.applications.resnet50 import ResNet50\n",
    "from keras.datasets import cifar10\n",
    "from keras.utils import to_categorical\n",
    "from keras.models import Model\n",
    "from keras.layers import Dense, GlobalAveragePooling2D, BatchNormalization, Activation\n",
    "from keras.optimizers import SGD\n",
    "from keras.regularizers import l2\n",
    "import matplotlib.pyplot as plt"
   ]
  },
  {
   "cell_type": "code",
   "execution_count": 32,
   "metadata": {},
   "outputs": [],
   "source": [
    "# Tamaño de lote para el optimizador\n",
    "batch_size = 32\n",
    "# Número de clases, ya se sabe por que se conoce el conjunto de datos\n",
    "# pero si no, se puede hacer de forma programática\n",
    "num_clases = 10\n",
    "# Número de épocas, dejar como está porque es suficiente\n",
    "epocas = 15"
   ]
  },
  {
   "cell_type": "code",
   "execution_count": 14,
   "metadata": {},
   "outputs": [],
   "source": [
    "(x_train, y_train), (x_test, y_test) = cifar10.load_data()"
   ]
  },
  {
   "cell_type": "code",
   "execution_count": 15,
   "metadata": {},
   "outputs": [
    {
     "data": {
      "text/plain": [
       "<matplotlib.image.AxesImage at 0x7f933eac9b90>"
      ]
     },
     "execution_count": 15,
     "metadata": {},
     "output_type": "execute_result"
    },
    {
     "data": {
      "image/png": "[encoded data removed]",
      "text/plain": [
       "<Figure size 432x288 with 1 Axes>"
      ]
     },
     "metadata": {
      "needs_background": "light"
     },
     "output_type": "display_data"
    }
   ],
   "source": [
    "# Se puede visualizar una de estas imágenes para conocer el conjunto de datos\n",
    "plt.imshow(x_train[82, :, :])"
   ]
  },
  {
   "cell_type": "code",
   "execution_count": 16,
   "metadata": {},
   "outputs": [],
   "source": [
    "# Codificación One Hot para las etiquetas\n",
    "y_train = to_categorical(y_train, num_clases)\n",
    "y_test = to_categorical(y_test, num_clases)"
   ]
  },
  {
   "cell_type": "code",
   "execution_count": 17,
   "metadata": {},
   "outputs": [
    {
     "name": "stderr",
     "output_type": "stream",
     "text": [
      "/home/edwinb/anaconda3/envs/deep_workshop/lib/python3.7/site-packages/keras_applications/resnet50.py:265: UserWarning: The output shape of `ResNet50(include_top=False)` has been changed since Keras 2.2.0.\n",
      "  warnings.warn('The output shape of `ResNet50(include_top=False)` '\n"
     ]
    }
   ],
   "source": [
    "# create the base pre-trained model\n",
    "base_model = ResNet50(weights=\"imagenet\", include_top=False, input_shape=x_train.shape[1:])"
   ]
  },
  {
   "cell_type": "code",
   "execution_count": 45,
   "metadata": {},
   "outputs": [],
   "source": [
    "# add a global spatial average pooling layer\n",
    "x = base_model.output\n",
    "x = GlobalAveragePooling2D()(x)\n",
    "# let's add a fully-connected layer\n",
    "x = Dense(1024, use_bias=False, kernel_regularizer=l2(1e-4))(x)\n",
    "x = BatchNormalization()(x)\n",
    "x = Activation(\"relu\")(x)\n",
    "# and a logistic layer -- let's say we have 200 classes\n",
    "predictions = Dense(num_clases, activation=\"softmax\")(x)"
   ]
  },
  {
   "cell_type": "code",
   "execution_count": 46,
   "metadata": {},
   "outputs": [],
   "source": [
    "# this is the model we will train\n",
    "model = Model(inputs=base_model.input, outputs=predictions)"
   ]
  },
  {
   "cell_type": "code",
   "execution_count": 47,
   "metadata": {},
   "outputs": [],
   "source": [
    "# first: train only the top layers (which were randomly initialized)\n",
    "# i.e. freeze all convolutional InceptionV3 layers\n",
    "for layer in base_model.layers:\n",
    "    layer.trainable = False"
   ]
  },
  {
   "cell_type": "code",
   "execution_count": 48,
   "metadata": {},
   "outputs": [],
   "source": [
    "# compile the model (should be done *after* setting layers to non-trainable)\n",
    "model.compile(optimizer=SGD(lr=0.01, momentum=0.9, decay=1e-5),\n",
    "              loss=\"categorical_crossentropy\",\n",
    "             metrics=[\"accuracy\"])"
   ]
  },
  {
   "cell_type": "code",
   "execution_count": 49,
   "metadata": {},
   "outputs": [
    {
     "name": "stdout",
     "output_type": "stream",
     "text": [
      "Train on 40000 samples, validate on 10000 samples\n",
      "Epoch 1/15\n",
      "40000/40000 [==============================] - 229s 6ms/step - loss: 1.9284 - acc: 0.4081 - val_loss: 3.5716 - val_acc: 0.2503\n",
      "Epoch 2/15\n",
      "40000/40000 [==============================] - 222s 6ms/step - loss: 1.6961 - acc: 0.4652 - val_loss: 3.1198 - val_acc: 0.2696\n",
      "Epoch 3/15\n",
      "40000/40000 [==============================] - 222s 6ms/step - loss: 1.6156 - acc: 0.4923 - val_loss: 3.5548 - val_acc: 0.2381\n",
      "Epoch 4/15\n",
      "40000/40000 [==============================] - 222s 6ms/step - loss: 1.5423 - acc: 0.5162 - val_loss: 3.6649 - val_acc: 0.2420\n",
      "Epoch 5/15\n",
      "40000/40000 [==============================] - 221s 6ms/step - loss: 1.4904 - acc: 0.5317 - val_loss: 3.5724 - val_acc: 0.2408\n",
      "Epoch 6/15\n",
      "40000/40000 [==============================] - 222s 6ms/step - loss: 1.4468 - acc: 0.5444 - val_loss: 3.2894 - val_acc: 0.2629\n",
      "Epoch 7/15\n",
      "40000/40000 [==============================] - 222s 6ms/step - loss: 1.4097 - acc: 0.5622 - val_loss: 3.2542 - val_acc: 0.2749\n",
      "Epoch 8/15\n",
      "40000/40000 [==============================] - 222s 6ms/step - loss: 1.3732 - acc: 0.5700 - val_loss: 3.2142 - val_acc: 0.2839\n",
      "Epoch 9/15\n",
      "40000/40000 [==============================] - 224s 6ms/step - loss: 1.3481 - acc: 0.5808 - val_loss: 3.4156 - val_acc: 0.2715\n",
      "Epoch 10/15\n",
      "40000/40000 [==============================] - 225s 6ms/step - loss: 1.3241 - acc: 0.5879 - val_loss: 4.0378 - val_acc: 0.2420\n",
      "Epoch 11/15\n",
      "40000/40000 [==============================] - 226s 6ms/step - loss: 1.2949 - acc: 0.5999 - val_loss: 3.8454 - val_acc: 0.2636\n",
      "Epoch 12/15\n",
      "40000/40000 [==============================] - 226s 6ms/step - loss: 1.2773 - acc: 0.6098 - val_loss: 3.8664 - val_acc: 0.2792\n",
      "Epoch 13/15\n",
      "40000/40000 [==============================] - 225s 6ms/step - loss: 1.2492 - acc: 0.6199 - val_loss: 4.0853 - val_acc: 0.2605\n",
      "Epoch 14/15\n",
      "40000/40000 [==============================] - 225s 6ms/step - loss: 1.2368 - acc: 0.6230 - val_loss: 4.4716 - val_acc: 0.2506\n",
      "Epoch 15/15\n",
      "40000/40000 [==============================] - 232s 6ms/step - loss: 1.2178 - acc: 0.6312 - val_loss: 4.7431 - val_acc: 0.2265\n"
     ]
    },
    {
     "data": {
      "text/plain": [
       "<keras.callbacks.History at 0x7f93951ba650>"
      ]
     },
     "execution_count": 49,
     "metadata": {},
     "output_type": "execute_result"
    }
   ],
   "source": [
    "model.fit(x_train, y_train, epochs=epocas,\n",
    "          batch_size=batch_size,\n",
    "         validation_split=0.2)"
   ]
  },
  {
   "cell_type": "code",
   "execution_count": null,
   "metadata": {},
   "outputs": [],
   "source": []
  }
 ],
 "metadata": {
  "kernelspec": {
   "display_name": "Python 3",
   "language": "python",
   "name": "python3"
  },
  "language_info": {
   "codemirror_mode": {
    "name": "ipython",
    "version": 3
   },
   "file_extension": ".py",
   "mimetype": "text/x-python",
   "name": "python",
   "nbconvert_exporter": "python",
   "pygments_lexer": "ipython3",
   "version": "3.7.4"
  }
 },
 "nbformat": 4,
 "nbformat_minor": 2
}
