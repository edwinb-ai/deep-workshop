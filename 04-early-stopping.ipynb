{
 "cells": [
  {
   "cell_type": "markdown",
   "metadata": {},
   "source": [
    "# Entrenamiento automático (Early Stopping)\n",
    "\n",
    "La técnica de _Early Stopping_ es de suma importancia para el entrenamiento de redes neuronales. Consiste en monitorear una métrica o valor correspondiente que está siendo evaluado por el modelo en cuestión, tal que cuando este valor empeore el entrenamiento se detenga automáticamente.\n",
    "\n",
    "Es una técnica de suma importancia para evitar los problemas de sobreajuste en redes neuronales, esto se logra cuando se genera un conocimiento de lo que está sucediendo en el entrenamiento de las redes neuronales.\n",
    "\n",
    "En este documento se verá un ejemplo aplicado a una CNN que clasifica el conjunto de datos CIFAR-10, con algunas de las técnicas conocidas como _Batch Normalization_ y _Early Stopping_ para ver su efecto."
   ]
  },
  {
   "cell_type": "code",
   "execution_count": 32,
   "metadata": {},
   "outputs": [],
   "source": [
    "from keras.datasets import cifar10\n",
    "from keras.models import Sequential, load_model\n",
    "from keras.layers import Dense, BatchNormalization, Activation\n",
    "from keras.layers import Conv2D, MaxPooling2D, Flatten, Dropout\n",
    "from keras.utils import to_categorical\n",
    "from keras.callbacks import EarlyStopping, ModelCheckpoint\n",
    "from keras.optimizers import Nadam\n",
    "import matplotlib.pyplot as plt"
   ]
  },
  {
   "cell_type": "markdown",
   "metadata": {},
   "source": [
    "Como siempre, se inicializan los hiperparámetros necesarios para el modelo, en este caso se emplean 100 épocas, pero no se asegura que se utilicen todas."
   ]
  },
  {
   "cell_type": "code",
   "execution_count": 33,
   "metadata": {},
   "outputs": [],
   "source": [
    "batch_size = 64\n",
    "num_classes = 10\n",
    "epocas = 100"
   ]
  },
  {
   "cell_type": "markdown",
   "metadata": {},
   "source": [
    "## Preprocesamiento de datos\n",
    "\n",
    "Como se acostumbra a hacer, se cargan los datos, se hace una exploración general del conjunto y se codifican las clases utilizando _One Hot_ para poder emplear la función de pérdida usual que es la entropía cruzada."
   ]
  },
  {
   "cell_type": "code",
   "execution_count": 34,
   "metadata": {},
   "outputs": [],
   "source": [
    "(x_train, y_train), (x_test, y_test) = cifar10.load_data()"
   ]
  },
  {
   "cell_type": "code",
   "execution_count": 35,
   "metadata": {},
   "outputs": [
    {
     "name": "stdout",
     "output_type": "stream",
     "text": [
      "Tamaño de x_train: (50000, 32, 32, 3)\n",
      "50000 Ejemplos de entrenamiento\n",
      "10000 Ejemplos de prueba\n"
     ]
    }
   ],
   "source": [
    "print(\"Tamaño de x_train:\", x_train.shape)\n",
    "print(x_train.shape[0], \"Ejemplos de entrenamiento\")\n",
    "print(x_test.shape[0], \"Ejemplos de prueba\")"
   ]
  },
  {
   "cell_type": "code",
   "execution_count": 36,
   "metadata": {},
   "outputs": [
    {
     "data": {
      "text/plain": [
       "<matplotlib.image.AxesImage at 0x7f485755b450>"
      ]
     },
     "execution_count": 36,
     "metadata": {},
     "output_type": "execute_result"
    },
    {
     "data": {
      "image/png": "[encoded data removed]",
      "text/plain": [
       "<Figure size 432x288 with 1 Axes>"
      ]
     },
     "metadata": {
      "needs_background": "light"
     },
     "output_type": "display_data"
    }
   ],
   "source": [
    "plt.imshow(x_train[10, :, :, :])"
   ]
  },
  {
   "cell_type": "code",
   "execution_count": 37,
   "metadata": {},
   "outputs": [],
   "source": [
    "x_train = x_train.astype(\"float32\")\n",
    "x_test = x_test.astype(\"float32\")\n",
    "# Siempre se deben normalizar los datos\n",
    "x_train /= 255\n",
    "x_test /= 255"
   ]
  },
  {
   "cell_type": "code",
   "execution_count": 38,
   "metadata": {},
   "outputs": [],
   "source": [
    "# Codificar a One Hot cada clase del conjunto de datos\n",
    "y_train = to_categorical(y_train, num_classes)\n",
    "y_test = to_categorical(y_test, num_classes)"
   ]
  },
  {
   "cell_type": "markdown",
   "metadata": {},
   "source": [
    "## Arquitectura de la CNN\n",
    "\n",
    "En este caso se va a aplicar la siguiente arquitectura:\n",
    "\n",
    "- La **primera** capa es de convolución con 32 unidades, con relleno de $3 \\times 3$, y función de activación ReLU.\n",
    "- La **segunda** capa también es de convolución con 32 unidades, sin relleno, y función de activación ReLU.\n",
    "- A estas dos capas le sigue una capa de _max pooling_ de $2 \\times 2$.\n",
    "- La **tercera** capa es de convolución con 64 unidades, con relleno de $3 \\times 3$, y función de activación ReLU.\n",
    "- La **cuarta** capa también es de convolución con 64 unidades, sin relleno, y función de activación ReLU.\n",
    "- A estas dos capas le sigue una nueva capa de _max pooling_ de $2 \\times 2$; aquí termina la etapa de características\n",
    "- Con la etapa de clasificación se **aplanan** las imágenes y se ingresan a una red neuronal totalmente conectada de 512 unidades con función de activación ReLU.\n",
    "- La **capa de salida** tiene tantas unidades como clases y función de activación softmax.\n",
    "\n",
    "Entre cada capa se aplica _batch normalization_ y se quita el uso de sesgos para acelerar el entrenamiento."
   ]
  },
  {
   "cell_type": "code",
   "execution_count": 39,
   "metadata": {},
   "outputs": [],
   "source": [
    "# Todas las capas normalizadas, excpeto la última\n",
    "arquitectura_norm = [\n",
    "    # Capa de entrada, primera capa de características\n",
    "    Conv2D(32, kernel_size=(3, 3),\n",
    "           padding=\"same\",\n",
    "           input_shape=x_train.shape[1:],\n",
    "           use_bias=False),\n",
    "    BatchNormalization(scale=False),\n",
    "    Activation(\"relu\"),\n",
    "    Conv2D(32, (3, 3), use_bias=False),\n",
    "    BatchNormalization(scale=False),\n",
    "    Activation(\"relu\"),\n",
    "    MaxPooling2D(pool_size=(2, 2)),\n",
    "    # Segunda capa de características\n",
    "    Conv2D(64, kernel_size=(3, 3),\n",
    "           padding=\"same\",\n",
    "           use_bias=False),\n",
    "    BatchNormalization(scale=False),\n",
    "    Activation(\"relu\"),\n",
    "    Conv2D(64, (3, 3), use_bias=False),\n",
    "    BatchNormalization(scale=False),\n",
    "    Activation(\"relu\"),\n",
    "    MaxPooling2D(pool_size=(2, 2)),\n",
    "    # Capa totalmente conectada\n",
    "    Flatten(),\n",
    "    Dense(512),\n",
    "    Dropout(0.5),\n",
    "    Activation(\"relu\"),\n",
    "    # Capa de salida\n",
    "    Dense(num_classes, activation=\"softmax\")\n",
    "]"
   ]
  },
  {
   "cell_type": "code",
   "execution_count": 40,
   "metadata": {},
   "outputs": [
    {
     "name": "stderr",
     "output_type": "stream",
     "text": [
      "W0815 13:20:16.597345 139951670458176 deprecation.py:506] From /home/edwinb/anaconda3/envs/deep_workshop/lib/python3.7/site-packages/keras/backend/tensorflow_backend.py:3445: calling dropout (from tensorflow.python.ops.nn_ops) with keep_prob is deprecated and will be removed in a future version.\n",
      "Instructions for updating:\n",
      "Please use `rate` instead of `keep_prob`. Rate should be set to `rate = 1 - keep_prob`.\n"
     ]
    }
   ],
   "source": [
    "# Se construye el modelo con esta arquitectura\n",
    "model_normalizado = Sequential(arquitectura_norm)"
   ]
  },
  {
   "cell_type": "markdown",
   "metadata": {},
   "source": [
    "## Optimizador y entrenamiento\n",
    "\n",
    "Para el optimizador se emplea _Nadam_ con los [valores default](https://keras.io/optimizers/) de `keras`."
   ]
  },
  {
   "cell_type": "code",
   "execution_count": 41,
   "metadata": {},
   "outputs": [],
   "source": [
    "model_normalizado.compile(loss=\"categorical_crossentropy\",\n",
    "                          optimizer=Nadam(),\n",
    "                          metrics=[\"accuracy\"])"
   ]
  },
  {
   "cell_type": "markdown",
   "metadata": {},
   "source": [
    "## Llamadas al modelo\n",
    "\n",
    "Ahora se va a implementar _Early stopping_ como una llamada al modelo. Afortunadamente `keras` ya cuenta con una implementación de esta metodología. En este caso se monitereará la **pérdida del conjunto de validación**, y se estará observando su cambio a lo largo de 5 épocas.\n",
    "\n",
    "Adicionalmente se va a implementar el guardado del mejor modelo cada que se evalua. A este se le conoce como _Model checkpoint_ en `keras`, lo que permite guardar el modelo que tenga el mejor valor monitoreado. En este caso se va a monitorear la **precisión en el conjunto de validación** y solamente se guardará el mejor modelo encontrado."
   ]
  },
  {
   "cell_type": "code",
   "execution_count": 42,
   "metadata": {},
   "outputs": [],
   "source": [
    "# Aplicar Early Stopping\n",
    "es = EarlyStopping(monitor=\"val_loss\", mode=\"min\", verbose=1, patience=20)\n",
    "# Guardar siempre el mejor modelo encontrado en base a la precisión de validación\n",
    "mc = ModelCheckpoint(\"mejor_modelo.h5\", monitor=\"val_acc\", mode=\"max\", verbose=1, save_best_only=True)"
   ]
  },
  {
   "cell_type": "code",
   "execution_count": 43,
   "metadata": {},
   "outputs": [
    {
     "name": "stdout",
     "output_type": "stream",
     "text": [
      "Train on 40000 samples, validate on 10000 samples\n",
      "Epoch 1/100\n",
      "40000/40000 [==============================] - 126s 3ms/step - loss: 1.6629 - acc: 0.4221 - val_loss: 1.3466 - val_acc: 0.5245\n",
      "\n",
      "Epoch 00001: val_acc improved from -inf to 0.52450, saving model to mejor_modelo.h5\n",
      "Epoch 2/100\n",
      "40000/40000 [==============================] - 131s 3ms/step - loss: 1.1391 - acc: 0.5966 - val_loss: 0.9802 - val_acc: 0.6493\n",
      "\n",
      "Epoch 00002: val_acc improved from 0.52450 to 0.64930, saving model to mejor_modelo.h5\n",
      "Epoch 3/100\n",
      "40000/40000 [==============================] - 126s 3ms/step - loss: 0.9528 - acc: 0.6703 - val_loss: 0.9709 - val_acc: 0.6598\n",
      "\n",
      "Epoch 00003: val_acc improved from 0.64930 to 0.65980, saving model to mejor_modelo.h5\n",
      "Epoch 4/100\n",
      "40000/40000 [==============================] - 133s 3ms/step - loss: 0.8245 - acc: 0.7152 - val_loss: 0.8694 - val_acc: 0.6988\n",
      "\n",
      "Epoch 00004: val_acc improved from 0.65980 to 0.69880, saving model to mejor_modelo.h5\n",
      "Epoch 5/100\n",
      "40000/40000 [==============================] - 131s 3ms/step - loss: 0.7338 - acc: 0.7471 - val_loss: 0.7470 - val_acc: 0.7404\n",
      "\n",
      "Epoch 00005: val_acc improved from 0.69880 to 0.74040, saving model to mejor_modelo.h5\n",
      "Epoch 6/100\n",
      "40000/40000 [==============================] - 120s 3ms/step - loss: 0.6574 - acc: 0.7708 - val_loss: 0.7371 - val_acc: 0.7422\n",
      "\n",
      "Epoch 00006: val_acc improved from 0.74040 to 0.74220, saving model to mejor_modelo.h5\n",
      "Epoch 7/100\n",
      "40000/40000 [==============================] - 126s 3ms/step - loss: 0.5857 - acc: 0.7954 - val_loss: 0.7452 - val_acc: 0.7484\n",
      "\n",
      "Epoch 00007: val_acc improved from 0.74220 to 0.74840, saving model to mejor_modelo.h5\n",
      "Epoch 8/100\n",
      "40000/40000 [==============================] - 129s 3ms/step - loss: 0.5225 - acc: 0.8196 - val_loss: 0.6855 - val_acc: 0.7669\n",
      "\n",
      "Epoch 00008: val_acc improved from 0.74840 to 0.76690, saving model to mejor_modelo.h5\n",
      "Epoch 9/100\n",
      "40000/40000 [==============================] - 130s 3ms/step - loss: 0.4670 - acc: 0.8366 - val_loss: 0.7641 - val_acc: 0.7615\n",
      "\n",
      "Epoch 00009: val_acc did not improve from 0.76690\n",
      "Epoch 10/100\n",
      "40000/40000 [==============================] - 132s 3ms/step - loss: 0.4295 - acc: 0.8502 - val_loss: 0.7597 - val_acc: 0.7626\n",
      "\n",
      "Epoch 00010: val_acc did not improve from 0.76690\n",
      "Epoch 11/100\n",
      "40000/40000 [==============================] - 131s 3ms/step - loss: 0.3732 - acc: 0.8705 - val_loss: 0.8871 - val_acc: 0.7439\n",
      "\n",
      "Epoch 00011: val_acc did not improve from 0.76690\n",
      "Epoch 12/100\n",
      "40000/40000 [==============================] - 131s 3ms/step - loss: 0.3430 - acc: 0.8785 - val_loss: 0.7776 - val_acc: 0.7624\n",
      "\n",
      "Epoch 00012: val_acc did not improve from 0.76690\n",
      "Epoch 13/100\n",
      "40000/40000 [==============================] - 132s 3ms/step - loss: 0.3105 - acc: 0.8899 - val_loss: 0.8330 - val_acc: 0.7751\n",
      "\n",
      "Epoch 00013: val_acc improved from 0.76690 to 0.77510, saving model to mejor_modelo.h5\n",
      "Epoch 14/100\n",
      "40000/40000 [==============================] - 132s 3ms/step - loss: 0.2893 - acc: 0.8989 - val_loss: 0.8576 - val_acc: 0.7602\n",
      "\n",
      "Epoch 00014: val_acc did not improve from 0.77510\n",
      "Epoch 15/100\n",
      "40000/40000 [==============================] - 133s 3ms/step - loss: 0.2610 - acc: 0.9088 - val_loss: 0.8708 - val_acc: 0.7732\n",
      "\n",
      "Epoch 00015: val_acc did not improve from 0.77510\n",
      "Epoch 16/100\n",
      "40000/40000 [==============================] - 127s 3ms/step - loss: 0.2408 - acc: 0.9143 - val_loss: 0.8689 - val_acc: 0.7691\n",
      "\n",
      "Epoch 00016: val_acc did not improve from 0.77510\n",
      "Epoch 17/100\n",
      "40000/40000 [==============================] - 129s 3ms/step - loss: 0.2331 - acc: 0.9195 - val_loss: 0.8172 - val_acc: 0.7864\n",
      "\n",
      "Epoch 00017: val_acc improved from 0.77510 to 0.78640, saving model to mejor_modelo.h5\n",
      "Epoch 18/100\n",
      "40000/40000 [==============================] - 131s 3ms/step - loss: 0.2151 - acc: 0.9250 - val_loss: 0.8530 - val_acc: 0.7871\n",
      "\n",
      "Epoch 00018: val_acc improved from 0.78640 to 0.78710, saving model to mejor_modelo.h5\n",
      "Epoch 19/100\n",
      "40000/40000 [==============================] - 130s 3ms/step - loss: 0.2124 - acc: 0.9261 - val_loss: 0.9980 - val_acc: 0.7733\n",
      "\n",
      "Epoch 00019: val_acc did not improve from 0.78710\n",
      "Epoch 20/100\n",
      "40000/40000 [==============================] - 135s 3ms/step - loss: 0.1969 - acc: 0.9306 - val_loss: 0.8936 - val_acc: 0.7851\n",
      "\n",
      "Epoch 00020: val_acc did not improve from 0.78710\n",
      "Epoch 21/100\n",
      "40000/40000 [==============================] - 138s 3ms/step - loss: 0.1867 - acc: 0.9364 - val_loss: 0.8605 - val_acc: 0.7794\n",
      "\n",
      "Epoch 00021: val_acc did not improve from 0.78710\n",
      "Epoch 22/100\n",
      "40000/40000 [==============================] - 138s 3ms/step - loss: 0.1838 - acc: 0.9374 - val_loss: 1.0084 - val_acc: 0.7613\n",
      "\n",
      "Epoch 00022: val_acc did not improve from 0.78710\n",
      "Epoch 23/100\n",
      "40000/40000 [==============================] - 138s 3ms/step - loss: 0.1711 - acc: 0.9417 - val_loss: 0.8491 - val_acc: 0.7960\n",
      "\n",
      "Epoch 00023: val_acc improved from 0.78710 to 0.79600, saving model to mejor_modelo.h5\n",
      "Epoch 24/100\n",
      "40000/40000 [==============================] - 133s 3ms/step - loss: 0.1675 - acc: 0.9431 - val_loss: 1.0269 - val_acc: 0.7719\n",
      "\n",
      "Epoch 00024: val_acc did not improve from 0.79600\n",
      "Epoch 25/100\n",
      "40000/40000 [==============================] - 128s 3ms/step - loss: 0.1553 - acc: 0.9478 - val_loss: 0.9863 - val_acc: 0.7851\n",
      "\n",
      "Epoch 00025: val_acc did not improve from 0.79600\n",
      "Epoch 26/100\n",
      "40000/40000 [==============================] - 137s 3ms/step - loss: 0.1543 - acc: 0.9481 - val_loss: 0.9765 - val_acc: 0.7908\n",
      "\n",
      "Epoch 00026: val_acc did not improve from 0.79600\n",
      "Epoch 27/100\n",
      "40000/40000 [==============================] - 147s 4ms/step - loss: 0.1470 - acc: 0.9485 - val_loss: 0.9511 - val_acc: 0.7904\n",
      "\n",
      "Epoch 00027: val_acc did not improve from 0.79600\n",
      "Epoch 28/100\n",
      "40000/40000 [==============================] - 139s 3ms/step - loss: 0.1411 - acc: 0.9522 - val_loss: 1.0772 - val_acc: 0.7790\n",
      "\n",
      "Epoch 00028: val_acc did not improve from 0.79600\n",
      "Epoch 00028: early stopping\n"
     ]
    }
   ],
   "source": [
    "# Se procede a entrenar el modelo\n",
    "historia = model_normalizado.fit(x_train, y_train,\n",
    "                                 validation_split=0.2,\n",
    "                                 epochs=epocas,\n",
    "                                 verbose=1,\n",
    "                                 callbacks=[es, mc])"
   ]
  },
  {
   "cell_type": "markdown",
   "metadata": {},
   "source": [
    "Como se puede ver, el modelo dejó de entrenar abruptamente. Esto se debe a que el valor de pérdida de la última época de entrenamiento empezó a aumentar. Vamos a analizar esto con más detalle.\n",
    "\n",
    "En la época 7 el **valor de la pérdida en el conjunto de validación** fue de 0.9331, mientras que en el época 8 fue de 09541. Al ver que este valor aumentó se activa el _Early stopping_ deteniendo por completo el entrenamiento.\n",
    "\n",
    "Se debe notar que el monitoreo es cada 5 épocas. Con este se puede ver el siguiente gráfica para analizar visualmente el entrenamiento."
   ]
  },
  {
   "cell_type": "code",
   "execution_count": 44,
   "metadata": {},
   "outputs": [
    {
     "data": {
      "image/png": "[encoded data removed]",
      "text/plain": [
       "<Figure size 936x648 with 1 Axes>"
      ]
     },
     "metadata": {
      "needs_background": "light"
     },
     "output_type": "display_data"
    }
   ],
   "source": [
    "# Graficar los valores de pérdida en el entrenamiento\n",
    "plt.figure(figsize=(13, 9))\n",
    "plt.plot(historia.history['loss'])\n",
    "plt.plot(historia.history['val_loss'])\n",
    "plt.legend(['Train', 'Test'], loc='upper left')\n",
    "plt.show()"
   ]
  },
  {
   "cell_type": "markdown",
   "metadata": {},
   "source": [
    "Claramente se presenta sobreajuste, pero más importante que eso, el valor de la pérdida el conjunto de entrenamiento y el conjunto de validación están muy dispersos.\n",
    "\n",
    "Este es el propósito de _Early stopping._ Cuando no existe una mejora sustancial en la clasificación del conjunto de validación es mejor detener el entrenamiento y afinar los hiperparámetros necesarios para mejorar el rendimiento del modelo."
   ]
  },
  {
   "cell_type": "code",
   "execution_count": 45,
   "metadata": {},
   "outputs": [],
   "source": [
    "# Cargar el mejor modelo encontrado\n",
    "mejor_modelo = load_model(\"mejor_modelo.h5\")"
   ]
  },
  {
   "cell_type": "markdown",
   "metadata": {},
   "source": [
    "Con esto se carga el mejor modelo encontrado en el proceso de entrenamiento, que fue guardado mientras se evaluaba cada época. La ventaja de _Early stopping_ es que siempre se puede tener un modelo guardado y emplearlo para tener el conjunto de datos de prueba al respecto.\n",
    "\n",
    "En el siguiente pedazo de código se hace justamente esto. Se cargó el modelo guardado y ahora se evalúa con un conjunto de datos que nunca fue visto por el modelo."
   ]
  },
  {
   "cell_type": "code",
   "execution_count": 46,
   "metadata": {},
   "outputs": [
    {
     "name": "stdout",
     "output_type": "stream",
     "text": [
      "10000/10000 [==============================] - 11s 1ms/step\n",
      "Pérdida: 0.8998011206626892\n",
      "Precisión: 0.787\n"
     ]
    }
   ],
   "source": [
    "resultado = mejor_modelo.evaluate(x_test, y_test)\n",
    "print(f\"Pérdida: {resultado[0]}\\nPrecisión: {resultado[1]}\")"
   ]
  },
  {
   "cell_type": "markdown",
   "metadata": {},
   "source": [
    "Como se puede ver, la pérdida y la precisión no son tan malos. Claramente no es un resultado _estado del arte_ pero al emplear _Early stopping_ el entrenamiento y cálculos innecesarios fueron evitados para obtener el mejor modelo posible."
   ]
  }
 ],
 "metadata": {
  "kernelspec": {
   "display_name": "Python 3",
   "language": "python",
   "name": "python3"
  },
  "language_info": {
   "codemirror_mode": {
    "name": "ipython",
    "version": 3
   },
   "file_extension": ".py",
   "mimetype": "text/x-python",
   "name": "python",
   "nbconvert_exporter": "python",
   "pygments_lexer": "ipython3",
   "version": "3.7.4"
  }
 },
 "nbformat": 4,
 "nbformat_minor": 2
}
