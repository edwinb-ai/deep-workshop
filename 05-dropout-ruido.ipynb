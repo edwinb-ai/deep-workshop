{
 "cells": [
  {
   "cell_type": "markdown",
   "metadata": {},
   "source": [
    "# Regularización por ruido y _Dropout_\n",
    "\n",
    "Las redes neuronales, y sobre todo las convolucionales (CNN), son muy susceptibles al sobreajuste. El **sobreajuste** es un problema de generalización donde las redes neuronales aprenden y reconocen todas las propiedades del conjunto de prueba, sin embargo cuando son evaluadas en datos que han observado tienen una muy baja precisión de reconocimiento.\n",
    "\n",
    "Esto se debe a que las redes neuronales _memorizan_ o reconocen solamente las características del conjunto de prueba. A lo largo de los años los científicos han trabajado en mitigar este problema y han surgido dos metodologías que serán presentadas en este documento; existen muchas más metodologías que serán cubiertas en otros documentos.\n",
    "\n",
    "## Regularización por ruido\n",
    "\n",
    "Siguiendo un [artículo](https://eprint.iacr.org/2018/1023.pdf) y el [libro de Deep Learning](http://www.deeplearningbook.org/) se propone utilizar ruido como una forma de **regularización**, esto es, una forma de mitigar el sobreajuste de las redes neuronales.\n",
    "\n",
    "El propósito del ruido es aplicar y añadir valores muestreados de una distribución normal a la entrada, salida o dentro de las capas escondidas de las redes neuronales. El resultado de esto es que se añade un término de regularización a la función de pérdida a minimizar, lo que provoca que la red neuronal sea más robusta a valores atípicos.\n",
    "\n",
    "## _Dropout_\n",
    "\n",
    "Uno de los métodos más revolucionarios en la historia del Deep Learning es el [artículo sobre Dropout](http://www.jmlr.org/papers/volume15/srivastava14a/srivastava14a.pdf?utm_content=buffer79b43&utm_medium=social&utm_source=twitter.com&utm_campaign=buffer). La idea detrás de este método es bastante simple: escoger aleatoriamente un subconjunto de unidades conectadas dentro de la red neuronal en cuestión, y evaluar muchas veces sobre diferentes subconjuntos. Esto crea un estimado muy robusto sobre los datos evaluados dado que se está haciendo una especie de _promedio_ sobre diferentes redes neuronales, lo mejor de esto es que esto no tiene efecto sobre el cálculo adicional de parámetros.\n",
    "\n",
    "Este método ha sido tan revolucionario que muchas de las arquitecturas más poderosas y eficientes lo utilizan, hasta el momento en que surgió _Batch Normalization,_ sin embargo sigue siendo uno de los métodos básicos para mitigar el sobreajuste en CNN. En este documento se demostrará su eficacia al ser comparado con la regularización por ruido."
   ]
  },
  {
   "cell_type": "code",
   "execution_count": 35,
   "metadata": {},
   "outputs": [],
   "source": [
    "from keras.datasets import fashion_mnist\n",
    "from keras.layers import Dense, BatchNormalization, Activation\n",
    "from keras.layers import Conv2D, MaxPooling2D, Flatten, GaussianNoise\n",
    "from keras.utils import to_categorical\n",
    "from keras.models import Sequential\n",
    "from keras.optimizers import SGD\n",
    "import matplotlib.pyplot as plt"
   ]
  },
  {
   "cell_type": "markdown",
   "metadata": {},
   "source": [
    "## Fashion-MNIST\n",
    "\n",
    "El conjunto de datos empleado es el [Fashion-MNIST](https://github.com/zalandoresearch/fashion-mnist) que tiene 10 clases, cada una pertenece a un tipo de prenda o de calzado. La idea de este conjunto de datos (en realidad son imágenes) es que sirva como un reemplazo para el famoso conjunto de datos de dígitos escritos a mano del MNIST.\n",
    "\n",
    "Las imágenes tienen un tamaño de $28 \\times 28$ y están en tono de grises."
   ]
  },
  {
   "cell_type": "code",
   "execution_count": 59,
   "metadata": {},
   "outputs": [],
   "source": [
    "(x_train, y_train), (x_test, y_test) = fashion_mnist.load_data()"
   ]
  },
  {
   "cell_type": "code",
   "execution_count": 60,
   "metadata": {},
   "outputs": [],
   "source": [
    "# Tamaño de lote para el optimizador\n",
    "batch_size = 128\n",
    "# Número de clases, ya se sabe por que se conoce el conjunto de datos\n",
    "# pero si no, se puede hacer de forma programática\n",
    "num_classes = 10\n",
    "# Número de épocas, dejar como está porque es suficiente\n",
    "epocas = 50\n",
    "\n",
    "# Tamaño de las imágenes, ancho y alto\n",
    "img_rows, img_cols = 28, 28"
   ]
  },
  {
   "cell_type": "code",
   "execution_count": 61,
   "metadata": {},
   "outputs": [
    {
     "data": {
      "text/plain": [
       "(60000, 28, 28)"
      ]
     },
     "execution_count": 61,
     "metadata": {},
     "output_type": "execute_result"
    }
   ],
   "source": [
    "# Para verificar el tamaño de las imágenes y el número de imágenes\n",
    "x_train.shape"
   ]
  },
  {
   "cell_type": "code",
   "execution_count": 62,
   "metadata": {},
   "outputs": [
    {
     "data": {
      "text/plain": [
       "<matplotlib.image.AxesImage at 0x7f4fc41ccc10>"
      ]
     },
     "execution_count": 62,
     "metadata": {},
     "output_type": "execute_result"
    },
    {
     "data": {
      "image/png": "[encoded data removed]",
      "text/plain": [
       "<Figure size 432x288 with 1 Axes>"
      ]
     },
     "metadata": {
      "needs_background": "light"
     },
     "output_type": "display_data"
    }
   ],
   "source": [
    "# Se puede visualizar una de estas imágenes para conocer el conjunto de datos\n",
    "plt.imshow(x_train[20, :, :], cmap=\"gray\")"
   ]
  },
  {
   "cell_type": "markdown",
   "metadata": {},
   "source": [
    "Por ejemplo, en este caso se muestra un ejemplo de un _vestido,_ una de las 10 clases del conjunto de datos con el que se está trabajando."
   ]
  },
  {
   "cell_type": "code",
   "execution_count": 40,
   "metadata": {},
   "outputs": [],
   "source": [
    "# Reajustar las imágenes para asegurar que solamente es un canal de color\n",
    "x_train = x_train.reshape(x_train.shape[0], img_rows, img_cols, 1)\n",
    "x_test = x_test.reshape(x_test.shape[0], img_rows, img_cols, 1)\n",
    "# Tamaño de la entrada, en forma de tupla siempre\n",
    "input_shape = (img_rows, img_cols, 1)"
   ]
  },
  {
   "cell_type": "code",
   "execution_count": 41,
   "metadata": {},
   "outputs": [],
   "source": [
    "# Convertir a float32 para mejor manejo\n",
    "x_train = x_train.astype(\"float32\")\n",
    "x_test = x_test.astype(\"float32\")\n",
    "# Normalizar los valores de las imágenes\n",
    "x_train /= 255\n",
    "x_test /= 255"
   ]
  },
  {
   "cell_type": "code",
   "execution_count": 42,
   "metadata": {},
   "outputs": [
    {
     "name": "stdout",
     "output_type": "stream",
     "text": [
      "Tamaño del conjunto de entrenamiento: (60000, 28, 28, 1)\n",
      "60000 Muestras de entrenamiento\n",
      "10000 Muestras de prueba\n"
     ]
    }
   ],
   "source": [
    "print(\"Tamaño del conjunto de entrenamiento:\", x_train.shape)\n",
    "print(x_train.shape[0], \"Muestras de entrenamiento\")\n",
    "print(x_test.shape[0], \"Muestras de prueba\")"
   ]
  },
  {
   "cell_type": "code",
   "execution_count": 43,
   "metadata": {},
   "outputs": [],
   "source": [
    "# Codificación One Hot para las etiquetas\n",
    "y_train = to_categorical(y_train, num_classes)\n",
    "y_test = to_categorical(y_test, num_classes)"
   ]
  },
  {
   "cell_type": "markdown",
   "metadata": {},
   "source": [
    "## Arquitecturas de las CNN\n",
    "\n",
    "Todas las arquitecturas tienen la misma forma en común, que proviene del [ejemplo de `keras`](https://keras.io/examples/cifar10_cnn/) para la clasificación del conjunto de datos CIFAR-10, solamente que en este caso se emplea otro conjunto de datos como ya se ha mostrado.\n",
    "\n",
    "Sin embargo, para cada caso se modificará la arquitectura, específicamente:\n",
    "\n",
    "1. **Ruido en la entrada:** Cuando las imágenes entren a la CNN se les agregará ruido gaussiano, muestreado de una distribución normal con media $\\mu = 0.0$ y desviación estándar $\\sigma^2 = 0.01$.\n",
    "\n",
    "2. **Ruido en las capas escondidas:** Las imágenes entrarán a la CNN de forma normal, pero antes de cada función de activación existirá un aplicación de ruido gaussiano, muestreado de una distribución normal con media $\\mu = 0.0$ y desviación estándar $\\sigma^2 = 0.01$.\n",
    "\n",
    "3. **Dropout:** Se aplicará _dropout_ después de cada etapa de extracción de características, esto es cuando se ha aplicado _pooling,_ y al final de la capa totalmente conectada. Para la parte de características, se escoge el 25% de unidades dentro de la capa, mientras que para la capa totalmente conectada se escogen 50% del total de las unidades."
   ]
  },
  {
   "cell_type": "code",
   "execution_count": 44,
   "metadata": {},
   "outputs": [],
   "source": [
    "# La entrada de la red tiene ruido solamente\n",
    "arquitectura_ruido_entrada = [\n",
    "    GaussianNoise(0.01, input_shape=x_train.shape[1:]),\n",
    "    # Capa de entrada, primera capa de características\n",
    "    Conv2D(32, kernel_size=(3, 3), padding=\"same\"),\n",
    "    Activation(\"relu\"),\n",
    "    Conv2D(32, (3, 3)),\n",
    "    Activation(\"relu\"),\n",
    "    MaxPooling2D(pool_size=(2, 2)),\n",
    "    # Segunda capa de características\n",
    "    Conv2D(64, kernel_size=(3, 3), padding=\"same\"),\n",
    "    Activation(\"relu\"),\n",
    "    Conv2D(64, (3, 3)),\n",
    "    Activation(\"relu\"),\n",
    "    MaxPooling2D(pool_size=(2, 2)),\n",
    "    # Capa totalmente conectada\n",
    "    Flatten(),\n",
    "    Dense(512),\n",
    "    Activation(\"relu\"),\n",
    "    # Capa de salida\n",
    "    Dense(num_classes, activation=\"softmax\")\n",
    "]"
   ]
  },
  {
   "cell_type": "code",
   "execution_count": 45,
   "metadata": {},
   "outputs": [],
   "source": [
    "# Las capas escondidas tienen ruido\n",
    "arquitectura_ruido_capas = [\n",
    "    # Capa de entrada, primera capa de características\n",
    "    Conv2D(32, kernel_size=(3, 3),\n",
    "           padding=\"same\",\n",
    "           input_shape=x_train.shape[1:]),\n",
    "    GaussianNoise(0.01),\n",
    "    Activation(\"relu\"),\n",
    "    Conv2D(32, (3, 3)),\n",
    "    GaussianNoise(0.01),\n",
    "    Activation(\"relu\"),\n",
    "    MaxPooling2D(pool_size=(2, 2)),\n",
    "    # Segunda capa de características\n",
    "    Conv2D(64, kernel_size=(3, 3), padding=\"same\"),\n",
    "    GaussianNoise(0.01),\n",
    "    Activation(\"relu\"),\n",
    "    Conv2D(64, (3, 3)),\n",
    "    GaussianNoise(0.01),\n",
    "    Activation(\"relu\"),\n",
    "    MaxPooling2D(pool_size=(2, 2)),\n",
    "    # Capa totalmente conectada\n",
    "    Flatten(),\n",
    "    Dense(512),\n",
    "    GaussianNoise(0.01),\n",
    "    Activation(\"relu\"),\n",
    "    # Capa de salida\n",
    "    Dense(num_classes, activation=\"softmax\")\n",
    "]"
   ]
  },
  {
   "cell_type": "code",
   "execution_count": 46,
   "metadata": {},
   "outputs": [],
   "source": [
    "# Se aplica dropout al final de cada capa de características y en la\n",
    "# capa totalmente conectada\n",
    "arquitectura_dropout = [\n",
    "    # Capa de entrada, primera capa de características\n",
    "    Conv2D(32, kernel_size=(3, 3),\n",
    "           padding=\"same\",\n",
    "           input_shape=x_train.shape[1:]),\n",
    "    Activation(\"relu\"),\n",
    "    Conv2D(32, (3, 3)),\n",
    "    Activation(\"relu\"),\n",
    "    MaxPooling2D(pool_size=(2, 2)),\n",
    "    Dropout(0.25),\n",
    "    # Segunda capa de características\n",
    "    Conv2D(64, kernel_size=(3, 3), padding=\"same\"),\n",
    "    Activation(\"relu\"),\n",
    "    Conv2D(64, (3, 3)),\n",
    "    Activation(\"relu\"),\n",
    "    MaxPooling2D(pool_size=(2, 2)),\n",
    "    Dropout(0.25),\n",
    "    # Capa totalmente conectada\n",
    "    Flatten(),\n",
    "    Dense(512),\n",
    "    Dropout(0.5),\n",
    "    Activation(\"relu\"),\n",
    "    # Capa de salida\n",
    "    Dense(num_classes, activation=\"softmax\")\n",
    "]"
   ]
  },
  {
   "cell_type": "code",
   "execution_count": 47,
   "metadata": {},
   "outputs": [],
   "source": [
    "# Se construyen los modelos con esta arquitectura\n",
    "modelo_dropout = Sequential(arquitectura_dropout)\n",
    "modelo_ruido_entrada = Sequential(arquitectura_ruido_entrada)\n",
    "modelo_ruido_capas = Sequential(arquitectura_ruido_capas)"
   ]
  },
  {
   "cell_type": "markdown",
   "metadata": {},
   "source": [
    "### Ruido a la entrada\n",
    "\n",
    "En esta parte se emplea el modelo que tiene ruido a la entrada de la CNN. El optimizador utilizado es el muy robusto y clásico descenso de gradiente estocástico, con un ratio de aprendizaje de 0.001 y momento de 0.9, para acelerar el aprendizaje."
   ]
  },
  {
   "cell_type": "code",
   "execution_count": 48,
   "metadata": {},
   "outputs": [
    {
     "name": "stdout",
     "output_type": "stream",
     "text": [
      "Train on 48000 samples, validate on 12000 samples\n",
      "Epoch 1/50\n",
      "48000/48000 [==============================] - 60s 1ms/step - loss: 1.5956 - acc: 0.4708 - val_loss: 0.7576 - val_acc: 0.7178\n",
      "Epoch 2/50\n",
      "48000/48000 [==============================] - 60s 1ms/step - loss: 0.6852 - acc: 0.7504 - val_loss: 0.6462 - val_acc: 0.7740\n",
      "Epoch 3/50\n",
      "48000/48000 [==============================] - 58s 1ms/step - loss: 0.5707 - acc: 0.7914 - val_loss: 0.5538 - val_acc: 0.8003\n",
      "Epoch 4/50\n",
      "48000/48000 [==============================] - 56s 1ms/step - loss: 0.5064 - acc: 0.8179 - val_loss: 0.4975 - val_acc: 0.8172\n",
      "Epoch 5/50\n",
      "48000/48000 [==============================] - 55s 1ms/step - loss: 0.4676 - acc: 0.8316 - val_loss: 0.4543 - val_acc: 0.8377\n",
      "Epoch 6/50\n",
      "48000/48000 [==============================] - 62s 1ms/step - loss: 0.4392 - acc: 0.8420 - val_loss: 0.4355 - val_acc: 0.8484\n",
      "Epoch 7/50\n",
      "48000/48000 [==============================] - 64s 1ms/step - loss: 0.4177 - acc: 0.8504 - val_loss: 0.4280 - val_acc: 0.8446\n",
      "Epoch 8/50\n",
      "48000/48000 [==============================] - 58s 1ms/step - loss: 0.4019 - acc: 0.8563 - val_loss: 0.4133 - val_acc: 0.8532\n",
      "Epoch 9/50\n",
      "48000/48000 [==============================] - 59s 1ms/step - loss: 0.3824 - acc: 0.8625 - val_loss: 0.3967 - val_acc: 0.8555\n",
      "Epoch 10/50\n",
      "48000/48000 [==============================] - 55s 1ms/step - loss: 0.3717 - acc: 0.8653 - val_loss: 0.3811 - val_acc: 0.8652\n",
      "Epoch 11/50\n",
      "48000/48000 [==============================] - 59s 1ms/step - loss: 0.3621 - acc: 0.8700 - val_loss: 0.3797 - val_acc: 0.8648\n",
      "Epoch 12/50\n",
      "48000/48000 [==============================] - 64s 1ms/step - loss: 0.3482 - acc: 0.8761 - val_loss: 0.3616 - val_acc: 0.8707\n",
      "Epoch 13/50\n",
      "48000/48000 [==============================] - 63s 1ms/step - loss: 0.3401 - acc: 0.8776 - val_loss: 0.3688 - val_acc: 0.8663\n",
      "Epoch 14/50\n",
      "48000/48000 [==============================] - 62s 1ms/step - loss: 0.3352 - acc: 0.8791 - val_loss: 0.3668 - val_acc: 0.8707\n",
      "Epoch 15/50\n",
      "48000/48000 [==============================] - 56s 1ms/step - loss: 0.3266 - acc: 0.8833 - val_loss: 0.3435 - val_acc: 0.8765\n",
      "Epoch 16/50\n",
      "48000/48000 [==============================] - 57s 1ms/step - loss: 0.3174 - acc: 0.8856 - val_loss: 0.3540 - val_acc: 0.8718\n",
      "Epoch 17/50\n",
      "48000/48000 [==============================] - 65s 1ms/step - loss: 0.3101 - acc: 0.8861 - val_loss: 0.3286 - val_acc: 0.8823\n",
      "Epoch 18/50\n",
      "48000/48000 [==============================] - 63s 1ms/step - loss: 0.3037 - acc: 0.8896 - val_loss: 0.3398 - val_acc: 0.8788\n",
      "Epoch 19/50\n",
      "48000/48000 [==============================] - 59s 1ms/step - loss: 0.2961 - acc: 0.8926 - val_loss: 0.3372 - val_acc: 0.8792\n",
      "Epoch 20/50\n",
      "48000/48000 [==============================] - 58s 1ms/step - loss: 0.2892 - acc: 0.8958 - val_loss: 0.3278 - val_acc: 0.8830\n",
      "Epoch 21/50\n",
      "48000/48000 [==============================] - 53s 1ms/step - loss: 0.2850 - acc: 0.8961 - val_loss: 0.3232 - val_acc: 0.8879\n",
      "Epoch 22/50\n",
      "48000/48000 [==============================] - 56s 1ms/step - loss: 0.2784 - acc: 0.8979 - val_loss: 0.3305 - val_acc: 0.8817\n",
      "Epoch 23/50\n",
      "48000/48000 [==============================] - 61s 1ms/step - loss: 0.2736 - acc: 0.8996 - val_loss: 0.3431 - val_acc: 0.8773\n",
      "Epoch 24/50\n",
      "48000/48000 [==============================] - 68s 1ms/step - loss: 0.2711 - acc: 0.9012 - val_loss: 0.3183 - val_acc: 0.8872\n",
      "Epoch 25/50\n",
      "48000/48000 [==============================] - 61s 1ms/step - loss: 0.2615 - acc: 0.9062 - val_loss: 0.3294 - val_acc: 0.8844\n",
      "Epoch 26/50\n",
      "48000/48000 [==============================] - 59s 1ms/step - loss: 0.2589 - acc: 0.9043 - val_loss: 0.3201 - val_acc: 0.8864\n",
      "Epoch 27/50\n",
      "48000/48000 [==============================] - 67s 1ms/step - loss: 0.2491 - acc: 0.9090 - val_loss: 0.3261 - val_acc: 0.8853\n",
      "Epoch 28/50\n",
      "48000/48000 [==============================] - 63s 1ms/step - loss: 0.2494 - acc: 0.9088 - val_loss: 0.3187 - val_acc: 0.8858\n",
      "Epoch 29/50\n",
      "48000/48000 [==============================] - 66s 1ms/step - loss: 0.2434 - acc: 0.9111 - val_loss: 0.2948 - val_acc: 0.8964\n",
      "Epoch 30/50\n",
      "48000/48000 [==============================] - 63s 1ms/step - loss: 0.2376 - acc: 0.9128 - val_loss: 0.2994 - val_acc: 0.8937\n",
      "Epoch 31/50\n",
      "48000/48000 [==============================] - 66s 1ms/step - loss: 0.2339 - acc: 0.9140 - val_loss: 0.2950 - val_acc: 0.8975\n",
      "Epoch 32/50\n",
      "48000/48000 [==============================] - 69s 1ms/step - loss: 0.2295 - acc: 0.9156 - val_loss: 0.2954 - val_acc: 0.8963\n",
      "Epoch 33/50\n",
      "48000/48000 [==============================] - 68s 1ms/step - loss: 0.2259 - acc: 0.9162 - val_loss: 0.2979 - val_acc: 0.8942\n",
      "Epoch 34/50\n",
      "48000/48000 [==============================] - 65s 1ms/step - loss: 0.2251 - acc: 0.9177 - val_loss: 0.3079 - val_acc: 0.8912\n",
      "Epoch 35/50\n",
      "48000/48000 [==============================] - 64s 1ms/step - loss: 0.2170 - acc: 0.9201 - val_loss: 0.2938 - val_acc: 0.8974\n",
      "Epoch 36/50\n",
      "48000/48000 [==============================] - 63s 1ms/step - loss: 0.2121 - acc: 0.9213 - val_loss: 0.3058 - val_acc: 0.8936\n",
      "Epoch 37/50\n",
      "48000/48000 [==============================] - 63s 1ms/step - loss: 0.2086 - acc: 0.9228 - val_loss: 0.3199 - val_acc: 0.8878\n",
      "Epoch 38/50\n",
      "48000/48000 [==============================] - 64s 1ms/step - loss: 0.2087 - acc: 0.9235 - val_loss: 0.2965 - val_acc: 0.8988\n",
      "Epoch 39/50\n",
      "48000/48000 [==============================] - 64s 1ms/step - loss: 0.1997 - acc: 0.9266 - val_loss: 0.3150 - val_acc: 0.8892\n",
      "Epoch 40/50\n",
      "48000/48000 [==============================] - 63s 1ms/step - loss: 0.1987 - acc: 0.9270 - val_loss: 0.3083 - val_acc: 0.8958\n",
      "Epoch 41/50\n",
      "48000/48000 [==============================] - 63s 1ms/step - loss: 0.1976 - acc: 0.9273 - val_loss: 0.2965 - val_acc: 0.8972\n",
      "Epoch 42/50\n",
      "48000/48000 [==============================] - 63s 1ms/step - loss: 0.1885 - acc: 0.9296 - val_loss: 0.3008 - val_acc: 0.8975\n",
      "Epoch 43/50\n",
      "48000/48000 [==============================] - 65s 1ms/step - loss: 0.1849 - acc: 0.9318 - val_loss: 0.3109 - val_acc: 0.8958\n",
      "Epoch 44/50\n",
      "48000/48000 [==============================] - 62s 1ms/step - loss: 0.1859 - acc: 0.9315 - val_loss: 0.3215 - val_acc: 0.8938\n",
      "Epoch 45/50\n",
      "48000/48000 [==============================] - 65s 1ms/step - loss: 0.1819 - acc: 0.9312 - val_loss: 0.2946 - val_acc: 0.8991\n",
      "Epoch 46/50\n",
      "48000/48000 [==============================] - 65s 1ms/step - loss: 0.1773 - acc: 0.9351 - val_loss: 0.3243 - val_acc: 0.8917\n",
      "Epoch 47/50\n",
      "48000/48000 [==============================] - 65s 1ms/step - loss: 0.1739 - acc: 0.9356 - val_loss: 0.3234 - val_acc: 0.8926\n",
      "Epoch 48/50\n",
      "48000/48000 [==============================] - 65s 1ms/step - loss: 0.1656 - acc: 0.9392 - val_loss: 0.3081 - val_acc: 0.8989\n",
      "Epoch 49/50\n",
      "48000/48000 [==============================] - 65s 1ms/step - loss: 0.1685 - acc: 0.9367 - val_loss: 0.3516 - val_acc: 0.8836\n",
      "Epoch 50/50\n",
      "48000/48000 [==============================] - 65s 1ms/step - loss: 0.1664 - acc: 0.9395 - val_loss: 0.3087 - val_acc: 0.8975\n"
     ]
    }
   ],
   "source": [
    "modelo_ruido_entrada.compile(loss=\"categorical_crossentropy\",\n",
    "                            optimizer=SGD(lr=0.001, momentum=0.9),\n",
    "                            metrics=[\"accuracy\"])\n",
    "historia_ruido_entrada = modelo_ruido_entrada.fit(x_train, y_train, batch_size=batch_size,\n",
    "                        validation_split=0.2,\n",
    "                        epochs=epocas)"
   ]
  },
  {
   "cell_type": "code",
   "execution_count": 49,
   "metadata": {},
   "outputs": [
    {
     "data": {
      "image/png": "[encoded data removed]",
      "text/plain": [
       "<Figure size 936x648 with 1 Axes>"
      ]
     },
     "metadata": {
      "needs_background": "light"
     },
     "output_type": "display_data"
    }
   ],
   "source": [
    "# Graficar los valores de pérdida en el entrenamiento\n",
    "plt.figure(figsize=(13, 9))\n",
    "plt.plot(historia_ruido_entrada.history['loss'])\n",
    "plt.plot(historia_ruido_entrada.history['val_loss'])\n",
    "plt.legend([\"Entrenamiento\", \"Validación\"], loc='upper left')\n",
    "plt.show()"
   ]
  },
  {
   "cell_type": "markdown",
   "metadata": {},
   "source": [
    "Después de 50 épocas de entrenamiento se puede ver como se ha mitigado el sobreajuste, o al menos se ha controlado en cierta forma. Esta es una de las formas más generales de reducir el sobreajuste, aunque no es muy común. Este método es más común como un tipo de _aumento de datos,_ que será discutido en otro documento."
   ]
  },
  {
   "cell_type": "code",
   "execution_count": 50,
   "metadata": {},
   "outputs": [
    {
     "name": "stdout",
     "output_type": "stream",
     "text": [
      "10000/10000 [==============================] - 5s 534us/step\n"
     ]
    },
    {
     "data": {
      "text/plain": [
       "[0.3214071528300643, 0.8938]"
      ]
     },
     "execution_count": 50,
     "metadata": {},
     "output_type": "execute_result"
    }
   ],
   "source": [
    "modelo_ruido_entrada.evaluate(x_test, y_test)"
   ]
  },
  {
   "cell_type": "markdown",
   "metadata": {},
   "source": [
    "La precisión de este modelo no es estado del arte, pero para ser una arquitectura muy simple, con solamente este tipo de regularización se ha desempeñado bastante bien."
   ]
  },
  {
   "cell_type": "markdown",
   "metadata": {},
   "source": [
    "## Regularización en las capas escondidas\n",
    "\n",
    "En este modelo se emplea nuevamente descenso de gradiente estocástico con ratio de aprendizaje 0.001 y momento de 0.9."
   ]
  },
  {
   "cell_type": "code",
   "execution_count": 51,
   "metadata": {},
   "outputs": [
    {
     "name": "stdout",
     "output_type": "stream",
     "text": [
      "Train on 48000 samples, validate on 12000 samples\n",
      "Epoch 1/50\n",
      "48000/48000 [==============================] - 148s 3ms/step - loss: 1.5270 - acc: 0.4599 - val_loss: 0.7547 - val_acc: 0.7167\n",
      "Epoch 2/50\n",
      "48000/48000 [==============================] - 149s 3ms/step - loss: 0.6889 - acc: 0.7459 - val_loss: 0.6047 - val_acc: 0.7735\n",
      "Epoch 3/50\n",
      "48000/48000 [==============================] - 153s 3ms/step - loss: 0.5731 - acc: 0.7897 - val_loss: 0.5209 - val_acc: 0.8095\n",
      "Epoch 4/50\n",
      "48000/48000 [==============================] - 158s 3ms/step - loss: 0.5054 - acc: 0.8168 - val_loss: 0.4846 - val_acc: 0.8279\n",
      "Epoch 5/50\n",
      "48000/48000 [==============================] - 156s 3ms/step - loss: 0.4640 - acc: 0.8341 - val_loss: 0.4492 - val_acc: 0.8381\n",
      "Epoch 6/50\n",
      "48000/48000 [==============================] - 157s 3ms/step - loss: 0.4340 - acc: 0.8441 - val_loss: 0.4397 - val_acc: 0.8443\n",
      "Epoch 7/50\n",
      "48000/48000 [==============================] - 157s 3ms/step - loss: 0.4158 - acc: 0.8501 - val_loss: 0.4321 - val_acc: 0.8448\n",
      "Epoch 8/50\n",
      "48000/48000 [==============================] - 155s 3ms/step - loss: 0.4011 - acc: 0.8559 - val_loss: 0.4120 - val_acc: 0.8525\n",
      "Epoch 9/50\n",
      "48000/48000 [==============================] - 156s 3ms/step - loss: 0.3829 - acc: 0.8633 - val_loss: 0.4011 - val_acc: 0.8569\n",
      "Epoch 10/50\n",
      "48000/48000 [==============================] - 157s 3ms/step - loss: 0.3743 - acc: 0.8665 - val_loss: 0.3805 - val_acc: 0.8639\n",
      "Epoch 11/50\n",
      "48000/48000 [==============================] - 158s 3ms/step - loss: 0.3622 - acc: 0.8694 - val_loss: 0.3637 - val_acc: 0.8723\n",
      "Epoch 12/50\n",
      "48000/48000 [==============================] - 141s 3ms/step - loss: 0.3491 - acc: 0.8735 - val_loss: 0.3589 - val_acc: 0.8721\n",
      "Epoch 13/50\n",
      "48000/48000 [==============================] - 140s 3ms/step - loss: 0.3405 - acc: 0.8771 - val_loss: 0.3540 - val_acc: 0.8748\n",
      "Epoch 14/50\n",
      "48000/48000 [==============================] - 143s 3ms/step - loss: 0.3317 - acc: 0.8803 - val_loss: 0.3622 - val_acc: 0.8722\n",
      "Epoch 15/50\n",
      "48000/48000 [==============================] - 140s 3ms/step - loss: 0.3234 - acc: 0.8814 - val_loss: 0.3509 - val_acc: 0.8772\n",
      "Epoch 16/50\n",
      "48000/48000 [==============================] - 143s 3ms/step - loss: 0.3179 - acc: 0.8852 - val_loss: 0.3454 - val_acc: 0.8792\n",
      "Epoch 17/50\n",
      "48000/48000 [==============================] - 137s 3ms/step - loss: 0.3089 - acc: 0.8892 - val_loss: 0.3358 - val_acc: 0.8798\n",
      "Epoch 18/50\n",
      "48000/48000 [==============================] - 138s 3ms/step - loss: 0.3034 - acc: 0.8914 - val_loss: 0.3357 - val_acc: 0.8756\n",
      "Epoch 19/50\n",
      "48000/48000 [==============================] - 138s 3ms/step - loss: 0.2989 - acc: 0.8916 - val_loss: 0.3331 - val_acc: 0.8808\n",
      "Epoch 20/50\n",
      "48000/48000 [==============================] - 136s 3ms/step - loss: 0.2907 - acc: 0.8952 - val_loss: 0.3287 - val_acc: 0.8854\n",
      "Epoch 21/50\n",
      "48000/48000 [==============================] - 139s 3ms/step - loss: 0.2871 - acc: 0.8958 - val_loss: 0.3209 - val_acc: 0.8849\n",
      "Epoch 22/50\n",
      "48000/48000 [==============================] - 138s 3ms/step - loss: 0.2813 - acc: 0.8971 - val_loss: 0.3199 - val_acc: 0.8863\n",
      "Epoch 23/50\n",
      "48000/48000 [==============================] - 139s 3ms/step - loss: 0.2738 - acc: 0.9014 - val_loss: 0.3087 - val_acc: 0.8892\n",
      "Epoch 24/50\n",
      "48000/48000 [==============================] - 137s 3ms/step - loss: 0.2661 - acc: 0.9032 - val_loss: 0.3065 - val_acc: 0.8892\n",
      "Epoch 25/50\n",
      "48000/48000 [==============================] - 140s 3ms/step - loss: 0.2636 - acc: 0.9037 - val_loss: 0.3158 - val_acc: 0.8860\n",
      "Epoch 26/50\n",
      "48000/48000 [==============================] - 136s 3ms/step - loss: 0.2565 - acc: 0.9056 - val_loss: 0.3220 - val_acc: 0.8856\n",
      "Epoch 27/50\n",
      "48000/48000 [==============================] - 136s 3ms/step - loss: 0.2521 - acc: 0.9079 - val_loss: 0.3038 - val_acc: 0.8903\n",
      "Epoch 28/50\n",
      "48000/48000 [==============================] - 142s 3ms/step - loss: 0.2522 - acc: 0.9068 - val_loss: 0.3162 - val_acc: 0.8892\n",
      "Epoch 29/50\n",
      "48000/48000 [==============================] - 144s 3ms/step - loss: 0.2444 - acc: 0.9106 - val_loss: 0.3002 - val_acc: 0.8928\n",
      "Epoch 30/50\n",
      "48000/48000 [==============================] - 144s 3ms/step - loss: 0.2388 - acc: 0.9128 - val_loss: 0.3310 - val_acc: 0.8817\n",
      "Epoch 31/50\n",
      "48000/48000 [==============================] - 143s 3ms/step - loss: 0.2332 - acc: 0.9146 - val_loss: 0.2935 - val_acc: 0.8948\n",
      "Epoch 32/50\n",
      "48000/48000 [==============================] - 144s 3ms/step - loss: 0.2319 - acc: 0.9155 - val_loss: 0.3021 - val_acc: 0.8930\n",
      "Epoch 33/50\n",
      "48000/48000 [==============================] - 147s 3ms/step - loss: 0.2229 - acc: 0.9181 - val_loss: 0.3039 - val_acc: 0.8945\n",
      "Epoch 34/50\n",
      "48000/48000 [==============================] - 144s 3ms/step - loss: 0.2272 - acc: 0.9152 - val_loss: 0.2983 - val_acc: 0.8975\n",
      "Epoch 35/50\n",
      "48000/48000 [==============================] - 145s 3ms/step - loss: 0.2169 - acc: 0.9198 - val_loss: 0.2942 - val_acc: 0.8966\n",
      "Epoch 36/50\n",
      "48000/48000 [==============================] - 143s 3ms/step - loss: 0.2106 - acc: 0.9231 - val_loss: 0.3077 - val_acc: 0.8948\n",
      "Epoch 37/50\n",
      "48000/48000 [==============================] - 141s 3ms/step - loss: 0.2091 - acc: 0.9244 - val_loss: 0.2981 - val_acc: 0.8968\n",
      "Epoch 38/50\n",
      "48000/48000 [==============================] - 137s 3ms/step - loss: 0.2076 - acc: 0.9235 - val_loss: 0.2981 - val_acc: 0.8984\n",
      "Epoch 39/50\n",
      "48000/48000 [==============================] - 136s 3ms/step - loss: 0.2011 - acc: 0.9260 - val_loss: 0.3019 - val_acc: 0.8966\n",
      "Epoch 40/50\n",
      "48000/48000 [==============================] - 136s 3ms/step - loss: 0.1985 - acc: 0.9269 - val_loss: 0.3098 - val_acc: 0.8903\n",
      "Epoch 41/50\n",
      "48000/48000 [==============================] - 138s 3ms/step - loss: 0.1941 - acc: 0.9284 - val_loss: 0.2934 - val_acc: 0.8988\n",
      "Epoch 42/50\n",
      "48000/48000 [==============================] - 135s 3ms/step - loss: 0.1900 - acc: 0.9303 - val_loss: 0.3046 - val_acc: 0.8946\n",
      "Epoch 43/50\n",
      "48000/48000 [==============================] - 135s 3ms/step - loss: 0.1851 - acc: 0.9326 - val_loss: 0.3128 - val_acc: 0.8898\n",
      "Epoch 44/50\n",
      "48000/48000 [==============================] - 135s 3ms/step - loss: 0.1853 - acc: 0.9309 - val_loss: 0.3210 - val_acc: 0.8916\n",
      "Epoch 45/50\n",
      "48000/48000 [==============================] - 135s 3ms/step - loss: 0.1787 - acc: 0.9332 - val_loss: 0.3045 - val_acc: 0.8945\n",
      "Epoch 46/50\n",
      "48000/48000 [==============================] - 135s 3ms/step - loss: 0.1769 - acc: 0.9353 - val_loss: 0.3224 - val_acc: 0.8941\n",
      "Epoch 47/50\n",
      "48000/48000 [==============================] - 135s 3ms/step - loss: 0.1734 - acc: 0.9357 - val_loss: 0.3123 - val_acc: 0.8952\n",
      "Epoch 48/50\n",
      "48000/48000 [==============================] - 135s 3ms/step - loss: 0.1689 - acc: 0.9369 - val_loss: 0.3084 - val_acc: 0.8977\n",
      "Epoch 49/50\n",
      "48000/48000 [==============================] - 135s 3ms/step - loss: 0.1651 - acc: 0.9395 - val_loss: 0.3170 - val_acc: 0.8944\n",
      "Epoch 50/50\n",
      "48000/48000 [==============================] - 134s 3ms/step - loss: 0.1592 - acc: 0.9412 - val_loss: 0.3248 - val_acc: 0.8943\n"
     ]
    }
   ],
   "source": [
    "modelo_ruido_capas.compile(loss=\"categorical_crossentropy\",\n",
    "                            optimizer=SGD(lr=0.001, momentum=0.9),\n",
    "                            metrics=[\"accuracy\"])\n",
    "historia_ruido_capas = modelo_ruido_capas.fit(x_train, y_train, batch_size=batch_size,\n",
    "                        validation_split=0.2,\n",
    "                        epochs=epocas)"
   ]
  },
  {
   "cell_type": "code",
   "execution_count": 52,
   "metadata": {},
   "outputs": [
    {
     "data": {
      "image/png": "[encoded data removed]",
      "text/plain": [
       "<Figure size 936x648 with 1 Axes>"
      ]
     },
     "metadata": {
      "needs_background": "light"
     },
     "output_type": "display_data"
    }
   ],
   "source": [
    "# Graficar los valores de pérdida en el entrenamiento\n",
    "plt.figure(figsize=(13, 9))\n",
    "plt.plot(historia_ruido_capas.history['loss'])\n",
    "plt.plot(historia_ruido_capas.history['val_loss'])\n",
    "plt.legend([\"Entrenamiento\", \"Validación\"], loc='upper left')\n",
    "plt.show()"
   ]
  },
  {
   "cell_type": "markdown",
   "metadata": {},
   "source": [
    "Este modelo tiene mayor susceptibilidad a ser sobreajustado. Es fácil de ver dado que las curvas comienzan a separarse en las últimas épocas de entrenamiento. Esto implica que introducir tanto ruido en la CNN no es conveniente."
   ]
  },
  {
   "cell_type": "code",
   "execution_count": 53,
   "metadata": {},
   "outputs": [
    {
     "name": "stdout",
     "output_type": "stream",
     "text": [
      "10000/10000 [==============================] - 5s 507us/step\n"
     ]
    },
    {
     "data": {
      "text/plain": [
       "[0.3443442437648773, 0.8858]"
      ]
     },
     "execution_count": 53,
     "metadata": {},
     "output_type": "execute_result"
    }
   ],
   "source": [
    "modelo_ruido_capas.evaluate(x_test, y_test)"
   ]
  },
  {
   "cell_type": "markdown",
   "metadata": {},
   "source": [
    "Como se ve, el resultado empeoró con el simple hecho de ingresar tanto ruido a la red neuronal."
   ]
  },
  {
   "cell_type": "markdown",
   "metadata": {},
   "source": [
    "## Dropout\n",
    "\n",
    "Nuevamente, se emplea descenso de gradiente estocástico con ratio de aprendizaje de 0.001 y momento de 0.9."
   ]
  },
  {
   "cell_type": "code",
   "execution_count": 55,
   "metadata": {},
   "outputs": [
    {
     "name": "stdout",
     "output_type": "stream",
     "text": [
      "Train on 48000 samples, validate on 12000 samples\n",
      "Epoch 1/50\n",
      "48000/48000 [==============================] - 59s 1ms/step - loss: 1.8055 - acc: 0.3283 - val_loss: 0.9461 - val_acc: 0.6562\n",
      "Epoch 2/50\n",
      "48000/48000 [==============================] - 63s 1ms/step - loss: 0.9995 - acc: 0.6230 - val_loss: 0.7473 - val_acc: 0.7317\n",
      "Epoch 3/50\n",
      "48000/48000 [==============================] - 83s 2ms/step - loss: 0.8269 - acc: 0.6896 - val_loss: 0.6748 - val_acc: 0.7535\n",
      "Epoch 4/50\n",
      "48000/48000 [==============================] - 88s 2ms/step - loss: 0.7419 - acc: 0.7184 - val_loss: 0.6113 - val_acc: 0.7777\n",
      "Epoch 5/50\n",
      "48000/48000 [==============================] - 84s 2ms/step - loss: 0.6877 - acc: 0.7422 - val_loss: 0.5725 - val_acc: 0.7881\n",
      "Epoch 6/50\n",
      "48000/48000 [==============================] - 69s 1ms/step - loss: 0.6424 - acc: 0.7576 - val_loss: 0.5438 - val_acc: 0.7960\n",
      "Epoch 7/50\n",
      "48000/48000 [==============================] - 63s 1ms/step - loss: 0.6080 - acc: 0.7717 - val_loss: 0.5195 - val_acc: 0.8037\n",
      "Epoch 8/50\n",
      "48000/48000 [==============================] - 57s 1ms/step - loss: 0.5851 - acc: 0.7795 - val_loss: 0.4956 - val_acc: 0.8171\n",
      "Epoch 9/50\n",
      "48000/48000 [==============================] - 56s 1ms/step - loss: 0.5646 - acc: 0.7877 - val_loss: 0.4881 - val_acc: 0.8228\n",
      "Epoch 10/50\n",
      "48000/48000 [==============================] - 60s 1ms/step - loss: 0.5454 - acc: 0.7969 - val_loss: 0.4711 - val_acc: 0.8242\n",
      "Epoch 11/50\n",
      "48000/48000 [==============================] - 62s 1ms/step - loss: 0.5312 - acc: 0.8030 - val_loss: 0.4532 - val_acc: 0.8377\n",
      "Epoch 12/50\n",
      "48000/48000 [==============================] - 60s 1ms/step - loss: 0.5192 - acc: 0.8051 - val_loss: 0.4433 - val_acc: 0.8432\n",
      "Epoch 13/50\n",
      "48000/48000 [==============================] - 58s 1ms/step - loss: 0.5083 - acc: 0.8094 - val_loss: 0.4366 - val_acc: 0.8440\n",
      "Epoch 14/50\n",
      "48000/48000 [==============================] - 69s 1ms/step - loss: 0.4968 - acc: 0.8137 - val_loss: 0.4246 - val_acc: 0.8480\n",
      "Epoch 15/50\n",
      "48000/48000 [==============================] - 62s 1ms/step - loss: 0.4873 - acc: 0.8197 - val_loss: 0.4206 - val_acc: 0.8474\n",
      "Epoch 16/50\n",
      "48000/48000 [==============================] - 58s 1ms/step - loss: 0.4746 - acc: 0.8244 - val_loss: 0.4200 - val_acc: 0.8492\n",
      "Epoch 17/50\n",
      "48000/48000 [==============================] - 57s 1ms/step - loss: 0.4664 - acc: 0.8280 - val_loss: 0.4010 - val_acc: 0.8563\n",
      "Epoch 18/50\n",
      "48000/48000 [==============================] - 57s 1ms/step - loss: 0.4602 - acc: 0.8306 - val_loss: 0.4029 - val_acc: 0.8541\n",
      "Epoch 19/50\n",
      "48000/48000 [==============================] - 57s 1ms/step - loss: 0.4535 - acc: 0.8336 - val_loss: 0.3925 - val_acc: 0.8622\n",
      "Epoch 20/50\n",
      "48000/48000 [==============================] - 60s 1ms/step - loss: 0.4445 - acc: 0.8379 - val_loss: 0.3896 - val_acc: 0.8610\n",
      "Epoch 21/50\n",
      "48000/48000 [==============================] - 57s 1ms/step - loss: 0.4371 - acc: 0.8379 - val_loss: 0.3816 - val_acc: 0.8662\n",
      "Epoch 22/50\n",
      "48000/48000 [==============================] - 58s 1ms/step - loss: 0.4305 - acc: 0.8428 - val_loss: 0.3841 - val_acc: 0.8603\n",
      "Epoch 23/50\n",
      "48000/48000 [==============================] - 58s 1ms/step - loss: 0.4262 - acc: 0.8438 - val_loss: 0.3707 - val_acc: 0.8691\n",
      "Epoch 24/50\n",
      "48000/48000 [==============================] - 57s 1ms/step - loss: 0.4193 - acc: 0.8459 - val_loss: 0.3669 - val_acc: 0.8698\n",
      "Epoch 25/50\n",
      "48000/48000 [==============================] - 57s 1ms/step - loss: 0.4134 - acc: 0.8476 - val_loss: 0.3680 - val_acc: 0.8680\n",
      "Epoch 26/50\n",
      "48000/48000 [==============================] - 58s 1ms/step - loss: 0.4115 - acc: 0.8510 - val_loss: 0.3626 - val_acc: 0.8708\n",
      "Epoch 27/50\n",
      "48000/48000 [==============================] - 58s 1ms/step - loss: 0.4021 - acc: 0.8527 - val_loss: 0.3544 - val_acc: 0.8726\n",
      "Epoch 28/50\n",
      "48000/48000 [==============================] - 58s 1ms/step - loss: 0.4015 - acc: 0.8532 - val_loss: 0.3486 - val_acc: 0.8760\n",
      "Epoch 29/50\n",
      "48000/48000 [==============================] - 58s 1ms/step - loss: 0.3959 - acc: 0.8550 - val_loss: 0.3437 - val_acc: 0.8763\n",
      "Epoch 30/50\n",
      "48000/48000 [==============================] - 58s 1ms/step - loss: 0.3916 - acc: 0.8571 - val_loss: 0.3441 - val_acc: 0.8780\n",
      "Epoch 31/50\n",
      "48000/48000 [==============================] - 58s 1ms/step - loss: 0.3860 - acc: 0.8580 - val_loss: 0.3362 - val_acc: 0.8796\n",
      "Epoch 32/50\n",
      "48000/48000 [==============================] - 58s 1ms/step - loss: 0.3832 - acc: 0.8604 - val_loss: 0.3341 - val_acc: 0.8804\n",
      "Epoch 33/50\n",
      "48000/48000 [==============================] - 58s 1ms/step - loss: 0.3780 - acc: 0.8631 - val_loss: 0.3312 - val_acc: 0.8804\n",
      "Epoch 34/50\n",
      "48000/48000 [==============================] - 58s 1ms/step - loss: 0.3746 - acc: 0.8636 - val_loss: 0.3255 - val_acc: 0.8822\n",
      "Epoch 35/50\n",
      "48000/48000 [==============================] - 59s 1ms/step - loss: 0.3739 - acc: 0.8631 - val_loss: 0.3216 - val_acc: 0.8834\n",
      "Epoch 36/50\n",
      "48000/48000 [==============================] - 56s 1ms/step - loss: 0.3666 - acc: 0.8658 - val_loss: 0.3202 - val_acc: 0.8840\n",
      "Epoch 37/50\n",
      "48000/48000 [==============================] - 57s 1ms/step - loss: 0.3626 - acc: 0.8675 - val_loss: 0.3196 - val_acc: 0.8835\n",
      "Epoch 38/50\n",
      "48000/48000 [==============================] - 65s 1ms/step - loss: 0.3632 - acc: 0.8669 - val_loss: 0.3145 - val_acc: 0.8874\n",
      "Epoch 39/50\n",
      "48000/48000 [==============================] - 58s 1ms/step - loss: 0.3578 - acc: 0.8690 - val_loss: 0.3146 - val_acc: 0.8844\n",
      "Epoch 40/50\n",
      "48000/48000 [==============================] - 57s 1ms/step - loss: 0.3553 - acc: 0.8694 - val_loss: 0.3116 - val_acc: 0.8872\n",
      "Epoch 41/50\n",
      "48000/48000 [==============================] - 58s 1ms/step - loss: 0.3515 - acc: 0.8726 - val_loss: 0.3067 - val_acc: 0.8862\n",
      "Epoch 42/50\n",
      "48000/48000 [==============================] - 57s 1ms/step - loss: 0.3478 - acc: 0.8727 - val_loss: 0.3036 - val_acc: 0.8883\n",
      "Epoch 43/50\n",
      "48000/48000 [==============================] - 57s 1ms/step - loss: 0.3454 - acc: 0.8756 - val_loss: 0.3024 - val_acc: 0.8908\n",
      "Epoch 44/50\n",
      "48000/48000 [==============================] - 57s 1ms/step - loss: 0.3410 - acc: 0.8746 - val_loss: 0.3024 - val_acc: 0.8886\n",
      "Epoch 45/50\n",
      "48000/48000 [==============================] - 59s 1ms/step - loss: 0.3393 - acc: 0.8751 - val_loss: 0.2995 - val_acc: 0.8910\n",
      "Epoch 46/50\n",
      "48000/48000 [==============================] - 62s 1ms/step - loss: 0.3367 - acc: 0.8771 - val_loss: 0.2956 - val_acc: 0.8910\n",
      "Epoch 47/50\n",
      "48000/48000 [==============================] - 58s 1ms/step - loss: 0.3362 - acc: 0.8777 - val_loss: 0.2942 - val_acc: 0.8928\n",
      "Epoch 48/50\n",
      "48000/48000 [==============================] - 57s 1ms/step - loss: 0.3329 - acc: 0.8793 - val_loss: 0.2900 - val_acc: 0.8948\n",
      "Epoch 49/50\n",
      "48000/48000 [==============================] - 57s 1ms/step - loss: 0.3287 - acc: 0.8807 - val_loss: 0.2911 - val_acc: 0.8932\n",
      "Epoch 50/50\n",
      "48000/48000 [==============================] - 57s 1ms/step - loss: 0.3298 - acc: 0.8788 - val_loss: 0.2872 - val_acc: 0.8933\n"
     ]
    }
   ],
   "source": [
    "modelo_dropout.compile(loss=\"categorical_crossentropy\",\n",
    "                            optimizer=SGD(lr=0.001, momentum=0.9),\n",
    "                            metrics=[\"accuracy\"])\n",
    "historia_dropout = modelo_dropout.fit(x_train, y_train, batch_size=batch_size,\n",
    "                        validation_split=0.2,\n",
    "                        epochs=epocas)"
   ]
  },
  {
   "cell_type": "code",
   "execution_count": 56,
   "metadata": {},
   "outputs": [
    {
     "data": {
      "image/png": "[encoded data removed]",
      "text/plain": [
       "<Figure size 936x648 with 1 Axes>"
      ]
     },
     "metadata": {
      "needs_background": "light"
     },
     "output_type": "display_data"
    }
   ],
   "source": [
    "# Graficar los valores de pérdida en el entrenamiento\n",
    "plt.figure(figsize=(13, 9))\n",
    "plt.plot(historia_dropout.history['loss'])\n",
    "plt.plot(historia_dropout.history['val_loss'])\n",
    "plt.legend([\"Entrenamiento\", \"Validación\"], loc='upper left')\n",
    "plt.show()"
   ]
  },
  {
   "cell_type": "markdown",
   "metadata": {},
   "source": [
    "El sobreajuste es mínimo, casi imperceptible. El método de _dropout_ es simplemente robusto y excelente, además de rápido. La comparación con el modelo de ruido en cada capa escondida a este es sustancial: el tiempo es casi el doble, y el resultado es peor.\n",
    "\n",
    "El método de _dropout_ sigue siendo una técnica clásica que se sigue utilizando con mucha frecuencia."
   ]
  },
  {
   "cell_type": "code",
   "execution_count": 57,
   "metadata": {},
   "outputs": [
    {
     "name": "stdout",
     "output_type": "stream",
     "text": [
      "10000/10000 [==============================] - 4s 396us/step\n"
     ]
    },
    {
     "data": {
      "text/plain": [
       "[0.303134421813488, 0.8905]"
      ]
     },
     "execution_count": 57,
     "metadata": {},
     "output_type": "execute_result"
    }
   ],
   "source": [
    "modelo_dropout.evaluate(x_test, y_test)"
   ]
  },
  {
   "cell_type": "markdown",
   "metadata": {},
   "source": [
    "El resultado es mucho mejor que cualquiera de los otros modelos, el valor de la pérdida es menor y el valor de la precisión es adecuado, al menos se está casi seguro de que no hay tanto sobreajuste."
   ]
  },
  {
   "cell_type": "markdown",
   "metadata": {},
   "source": [
    "## Ejercicios\n",
    "\n",
    "1. Probar combinando las diferentes técnicas mostradas aquí para obtener mejores resultados."
   ]
  }
 ],
 "metadata": {
  "kernelspec": {
   "display_name": "Python 3",
   "language": "python",
   "name": "python3"
  },
  "language_info": {
   "codemirror_mode": {
    "name": "ipython",
    "version": 3
   },
   "file_extension": ".py",
   "mimetype": "text/x-python",
   "name": "python",
   "nbconvert_exporter": "python",
   "pygments_lexer": "ipython3",
   "version": "3.7.4"
  }
 },
 "nbformat": 4,
 "nbformat_minor": 2
}
