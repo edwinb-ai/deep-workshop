{
 "cells": [
  {
   "cell_type": "markdown",
   "metadata": {},
   "source": [
    "# Regularización por ruido y _Dropout_\n",
    "\n",
    "Las redes neuronales, y sobre todo las convolucionales (CNN), son muy susceptibles al sobreajuste. El **sobreajuste** es un problema de generalización donde las redes neuronales aprenden y reconocen todas las propiedades del conjunto de prueba, sin embargo cuando son evaluadas en datos que han observado tienen una muy baja precisión de reconocimiento.\n",
    "\n",
    "Esto se debe a que las redes neuronales _memorizan_ o reconocen solamente las características del conjunto de prueba. A lo largo de los años los científicos han trabajado en mitigar este problema y han surgido dos metodologías que serán presentadas en este documento; existen muchas más metodologías que serán cubiertas en otros documentos.\n",
    "\n",
    "## Regularización por ruido\n",
    "\n",
    "Siguiendo un [artículo](https://eprint.iacr.org/2018/1023.pdf) y el [libro de Deep Learning](http://www.deeplearningbook.org/) se propone utilizar ruido como una forma de **regularización**, esto es, una forma de mitigar el sobreajuste de las redes neuronales.\n",
    "\n",
    "El propósito del ruido es aplicar y añadir valores muestreados de una distribución normal a la entrada, salida o dentro de las capas escondidas de las redes neuronales. El resultado de esto es que se añade un término de regularización a la función de pérdida a minimizar, lo que provoca que la red neuronal sea más robusta a valores atípicos.\n",
    "\n",
    "## _Dropout_\n",
    "\n",
    "Uno de los métodos más revolucionarios en la historia del Deep Learning es el [artículo sobre Dropout](http://www.jmlr.org/papers/volume15/srivastava14a/srivastava14a.pdf?utm_content=buffer79b43&utm_medium=social&utm_source=twitter.com&utm_campaign=buffer). La idea detrás de este método es bastante simple: escoger aleatoriamente un subconjunto de unidades conectadas dentro de la red neuronal en cuestión, y evaluar muchas veces sobre diferentes subconjuntos. Esto crea un estimado muy robusto sobre los datos evaluados dado que se está haciendo una especie de _promedio_ sobre diferentes redes neuronales, lo mejor de esto es que esto no tiene efecto sobre el cálculo adicional de parámetros.\n",
    "\n",
    "Este método ha sido tan revolucionario que muchas de las arquitecturas más poderosas y eficientes lo utilizan, hasta el momento en que surgió _Batch Normalization,_ sin embargo sigue siendo uno de los métodos básicos para mitigar el sobreajuste en CNN. En este documento se demostrará su eficacia al ser comparado con la regularización por ruido."
   ]
  },
  {
   "cell_type": "code",
   "execution_count": 23,
   "metadata": {},
   "outputs": [],
   "source": [
    "from keras.datasets import fashion_mnist\n",
    "from keras.layers import Dense, BatchNormalization, Activation, Dropout\n",
    "from keras.layers import Conv2D, MaxPooling2D, Flatten, GaussianNoise\n",
    "from keras.utils import to_categorical\n",
    "from keras.models import Sequential\n",
    "from keras.optimizers import SGD\n",
    "import matplotlib.pyplot as plt"
   ]
  },
  {
   "cell_type": "markdown",
   "metadata": {},
   "source": [
    "## Fashion-MNIST\n",
    "\n",
    "El conjunto de datos empleado es el [Fashion-MNIST](https://github.com/zalandoresearch/fashion-mnist) que tiene 10 clases, cada una pertenece a un tipo de prenda o de calzado. La idea de este conjunto de datos (en realidad son imágenes) es que sirva como un reemplazo para el famoso conjunto de datos de dígitos escritos a mano del MNIST.\n",
    "\n",
    "Las imágenes tienen un tamaño de $28 \\times 28$ y están en tono de grises."
   ]
  },
  {
   "cell_type": "code",
   "execution_count": 24,
   "metadata": {},
   "outputs": [],
   "source": [
    "(x_train, y_train), (x_test, y_test) = fashion_mnist.load_data()"
   ]
  },
  {
   "cell_type": "code",
   "execution_count": 25,
   "metadata": {},
   "outputs": [],
   "source": [
    "# Tamaño de lote para el optimizador\n",
    "batch_size = 128\n",
    "# Número de clases, ya se sabe por que se conoce el conjunto de datos\n",
    "# pero si no, se puede hacer de forma programática\n",
    "num_classes = 10\n",
    "# Número de épocas, dejar como está porque es suficiente\n",
    "epocas = 70\n",
    "\n",
    "# Tamaño de las imágenes, ancho y alto\n",
    "img_rows, img_cols = 28, 28"
   ]
  },
  {
   "cell_type": "code",
   "execution_count": 26,
   "metadata": {},
   "outputs": [
    {
     "data": {
      "text/plain": [
       "(60000, 28, 28)"
      ]
     },
     "execution_count": 26,
     "metadata": {},
     "output_type": "execute_result"
    }
   ],
   "source": [
    "# Para verificar el tamaño de las imágenes y el número de imágenes\n",
    "x_train.shape"
   ]
  },
  {
   "cell_type": "code",
   "execution_count": 27,
   "metadata": {},
   "outputs": [
    {
     "data": {
      "text/plain": [
       "<matplotlib.image.AxesImage at 0x7f1ad8ab4590>"
      ]
     },
     "execution_count": 27,
     "metadata": {},
     "output_type": "execute_result"
    },
    {
     "data": {
      "image/png": "[encoded data removed]",
      "text/plain": [
       "<Figure size 432x288 with 1 Axes>"
      ]
     },
     "metadata": {
      "needs_background": "light"
     },
     "output_type": "display_data"
    }
   ],
   "source": [
    "# Se puede visualizar una de estas imágenes para conocer el conjunto de datos\n",
    "plt.imshow(x_train[20, :, :], cmap=\"gray\")"
   ]
  },
  {
   "cell_type": "markdown",
   "metadata": {},
   "source": [
    "Por ejemplo, en este caso se muestra un ejemplo de un _vestido,_ una de las 10 clases del conjunto de datos con el que se está trabajando."
   ]
  },
  {
   "cell_type": "code",
   "execution_count": 28,
   "metadata": {},
   "outputs": [],
   "source": [
    "# Reajustar las imágenes para asegurar que solamente es un canal de color\n",
    "x_train = x_train.reshape(x_train.shape[0], img_rows, img_cols, 1)\n",
    "x_test = x_test.reshape(x_test.shape[0], img_rows, img_cols, 1)\n",
    "# Tamaño de la entrada, en forma de tupla siempre\n",
    "input_shape = (img_rows, img_cols, 1)"
   ]
  },
  {
   "cell_type": "code",
   "execution_count": 29,
   "metadata": {},
   "outputs": [],
   "source": [
    "# Convertir a float32 para mejor manejo\n",
    "x_train = x_train.astype(\"float32\")\n",
    "x_test = x_test.astype(\"float32\")\n",
    "# Normalizar los valores de las imágenes\n",
    "x_train /= 255\n",
    "x_test /= 255"
   ]
  },
  {
   "cell_type": "code",
   "execution_count": 30,
   "metadata": {},
   "outputs": [
    {
     "name": "stdout",
     "output_type": "stream",
     "text": [
      "Tamaño del conjunto de entrenamiento: (60000, 28, 28, 1)\n",
      "60000 Muestras de entrenamiento\n",
      "10000 Muestras de prueba\n"
     ]
    }
   ],
   "source": [
    "print(\"Tamaño del conjunto de entrenamiento:\", x_train.shape)\n",
    "print(x_train.shape[0], \"Muestras de entrenamiento\")\n",
    "print(x_test.shape[0], \"Muestras de prueba\")"
   ]
  },
  {
   "cell_type": "code",
   "execution_count": 31,
   "metadata": {},
   "outputs": [],
   "source": [
    "# Codificación One Hot para las etiquetas\n",
    "y_train = to_categorical(y_train, num_classes)\n",
    "y_test = to_categorical(y_test, num_classes)"
   ]
  },
  {
   "cell_type": "markdown",
   "metadata": {},
   "source": [
    "## Arquitecturas de las CNN\n",
    "\n",
    "Todas las arquitecturas tienen la misma forma en común, que proviene del [ejemplo de `keras`](https://keras.io/examples/cifar10_cnn/) para la clasificación del conjunto de datos CIFAR-10, solamente que en este caso se emplea otro conjunto de datos como ya se ha mostrado.\n",
    "\n",
    "Sin embargo, para cada caso se modificará la arquitectura, específicamente:\n",
    "\n",
    "1. **Ruido en la entrada:** Cuando las imágenes entren a la CNN se les agregará ruido gaussiano, muestreado de una distribución normal con media $\\mu = 0.0$ y desviación estándar $\\sigma^2 = 0.01$.\n",
    "\n",
    "2. **Ruido en las capas escondidas:** Las imágenes entrarán a la CNN de forma normal, pero antes de cada función de activación existirá un aplicación de ruido gaussiano, muestreado de una distribución normal con media $\\mu = 0.0$ y desviación estándar $\\sigma^2 = 0.01$.\n",
    "\n",
    "3. **Dropout:** Se aplicará _dropout_ después de cada etapa de extracción de características, esto es cuando se ha aplicado _pooling,_ y al final de la capa totalmente conectada. Para la parte de características, se escoge el 25% de unidades dentro de la capa, mientras que para la capa totalmente conectada se escogen 50% del total de las unidades."
   ]
  },
  {
   "cell_type": "code",
   "execution_count": 32,
   "metadata": {},
   "outputs": [],
   "source": [
    "# Se aplica dropout al final de cada capa de características y en la\n",
    "# capa totalmente conectada\n",
    "arquitectura_dropout = [\n",
    "    GaussianNoise(0.1, input_shape=x_train.shape[1:]),\n",
    "    # Capa de entrada, primera capa de características\n",
    "    Conv2D(32, kernel_size=(3, 3), padding=\"same\"),\n",
    "    Activation(\"relu\"),\n",
    "    Conv2D(32, (3, 3)),\n",
    "    Activation(\"relu\"),\n",
    "    MaxPooling2D(pool_size=(2, 2)),\n",
    "    Dropout(0.25),\n",
    "    # Segunda capa de características\n",
    "    Conv2D(64, kernel_size=(3, 3), padding=\"same\"),\n",
    "    Activation(\"relu\"),\n",
    "    Conv2D(64, (3, 3)),\n",
    "    Activation(\"relu\"),\n",
    "    MaxPooling2D(pool_size=(2, 2)),\n",
    "    Dropout(0.25),\n",
    "    # Capa totalmente conectada\n",
    "    Flatten(),\n",
    "    Dense(512),\n",
    "    Dropout(0.5),\n",
    "    Activation(\"relu\"),\n",
    "    # Capa de salida\n",
    "    Dense(num_classes, activation=\"softmax\")\n",
    "]"
   ]
  },
  {
   "cell_type": "code",
   "execution_count": 33,
   "metadata": {},
   "outputs": [],
   "source": [
    "# Se construyen los modelos con esta arquitectura\n",
    "modelo_dropout = Sequential(arquitectura_dropout)"
   ]
  },
  {
   "cell_type": "markdown",
   "metadata": {},
   "source": [
    "Después de 50 épocas de entrenamiento se puede ver como se ha mitigado el sobreajuste, o al menos se ha controlado en cierta forma. Esta es una de las formas más generales de reducir el sobreajuste, aunque no es muy común. Este método es más común como un tipo de _aumento de datos,_ que será discutido en otro documento."
   ]
  },
  {
   "cell_type": "markdown",
   "metadata": {},
   "source": [
    "## Dropout\n",
    "\n",
    "Nuevamente, se emplea descenso de gradiente estocástico con ratio de aprendizaje de 0.001 y momento de 0.9."
   ]
  },
  {
   "cell_type": "code",
   "execution_count": 34,
   "metadata": {},
   "outputs": [
    {
     "name": "stdout",
     "output_type": "stream",
     "text": [
      "Train on 48000 samples, validate on 12000 samples\n",
      "Epoch 1/70\n",
      "48000/48000 [==============================] - 61s 1ms/step - loss: 1.7670 - acc: 0.3551 - val_loss: 0.9114 - val_acc: 0.6882\n",
      "Epoch 2/70\n",
      "48000/48000 [==============================] - 58s 1ms/step - loss: 0.9763 - acc: 0.6367 - val_loss: 0.7458 - val_acc: 0.7257\n",
      "Epoch 3/70\n",
      "48000/48000 [==============================] - 56s 1ms/step - loss: 0.8185 - acc: 0.6925 - val_loss: 0.6652 - val_acc: 0.7577\n",
      "Epoch 4/70\n",
      "48000/48000 [==============================] - 56s 1ms/step - loss: 0.7379 - acc: 0.7227 - val_loss: 0.6128 - val_acc: 0.7664\n",
      "Epoch 5/70\n",
      "48000/48000 [==============================] - 56s 1ms/step - loss: 0.6939 - acc: 0.7382 - val_loss: 0.5822 - val_acc: 0.7868\n",
      "Epoch 6/70\n",
      "48000/48000 [==============================] - 57s 1ms/step - loss: 0.6499 - acc: 0.7543 - val_loss: 0.5541 - val_acc: 0.7914\n",
      "Epoch 7/70\n",
      "48000/48000 [==============================] - 56s 1ms/step - loss: 0.6200 - acc: 0.7645 - val_loss: 0.5400 - val_acc: 0.7985\n",
      "Epoch 8/70\n",
      "48000/48000 [==============================] - 56s 1ms/step - loss: 0.5992 - acc: 0.7744 - val_loss: 0.5061 - val_acc: 0.8184\n",
      "Epoch 9/70\n",
      "48000/48000 [==============================] - 56s 1ms/step - loss: 0.5736 - acc: 0.7840 - val_loss: 0.5091 - val_acc: 0.8144\n",
      "Epoch 10/70\n",
      "48000/48000 [==============================] - 56s 1ms/step - loss: 0.5594 - acc: 0.7892 - val_loss: 0.4880 - val_acc: 0.8173\n",
      "Epoch 11/70\n",
      "48000/48000 [==============================] - 57s 1ms/step - loss: 0.5453 - acc: 0.7950 - val_loss: 0.4680 - val_acc: 0.8327\n",
      "Epoch 12/70\n",
      "48000/48000 [==============================] - 57s 1ms/step - loss: 0.5360 - acc: 0.8009 - val_loss: 0.4614 - val_acc: 0.8352\n",
      "Epoch 13/70\n",
      "48000/48000 [==============================] - 57s 1ms/step - loss: 0.5209 - acc: 0.8045 - val_loss: 0.4487 - val_acc: 0.8427\n",
      "Epoch 14/70\n",
      "48000/48000 [==============================] - 57s 1ms/step - loss: 0.5124 - acc: 0.8068 - val_loss: 0.4388 - val_acc: 0.8470\n",
      "Epoch 15/70\n",
      "48000/48000 [==============================] - 57s 1ms/step - loss: 0.5063 - acc: 0.8107 - val_loss: 0.4424 - val_acc: 0.8425\n",
      "Epoch 16/70\n",
      "48000/48000 [==============================] - 57s 1ms/step - loss: 0.4937 - acc: 0.8155 - val_loss: 0.4267 - val_acc: 0.8473\n",
      "Epoch 17/70\n",
      "48000/48000 [==============================] - 57s 1ms/step - loss: 0.4858 - acc: 0.8201 - val_loss: 0.4171 - val_acc: 0.8525\n",
      "Epoch 18/70\n",
      "48000/48000 [==============================] - 57s 1ms/step - loss: 0.4774 - acc: 0.8228 - val_loss: 0.4128 - val_acc: 0.8551\n",
      "Epoch 19/70\n",
      "48000/48000 [==============================] - 57s 1ms/step - loss: 0.4709 - acc: 0.8245 - val_loss: 0.4119 - val_acc: 0.8526\n",
      "Epoch 20/70\n",
      "48000/48000 [==============================] - 57s 1ms/step - loss: 0.4623 - acc: 0.8294 - val_loss: 0.4025 - val_acc: 0.8564\n",
      "Epoch 21/70\n",
      "48000/48000 [==============================] - 57s 1ms/step - loss: 0.4569 - acc: 0.8304 - val_loss: 0.3932 - val_acc: 0.8598\n",
      "Epoch 22/70\n",
      "48000/48000 [==============================] - 57s 1ms/step - loss: 0.4507 - acc: 0.8326 - val_loss: 0.3855 - val_acc: 0.8605\n",
      "Epoch 23/70\n",
      "48000/48000 [==============================] - 57s 1ms/step - loss: 0.4461 - acc: 0.8359 - val_loss: 0.3832 - val_acc: 0.8598\n",
      "Epoch 24/70\n",
      "48000/48000 [==============================] - 58s 1ms/step - loss: 0.4411 - acc: 0.8371 - val_loss: 0.3760 - val_acc: 0.8660\n",
      "Epoch 25/70\n",
      "48000/48000 [==============================] - 57s 1ms/step - loss: 0.4340 - acc: 0.8390 - val_loss: 0.3732 - val_acc: 0.8651\n",
      "Epoch 26/70\n",
      "48000/48000 [==============================] - 57s 1ms/step - loss: 0.4302 - acc: 0.8404 - val_loss: 0.3675 - val_acc: 0.8675\n",
      "Epoch 27/70\n",
      "48000/48000 [==============================] - 57s 1ms/step - loss: 0.4235 - acc: 0.8438 - val_loss: 0.3666 - val_acc: 0.8666\n",
      "Epoch 28/70\n",
      "48000/48000 [==============================] - 57s 1ms/step - loss: 0.4191 - acc: 0.8446 - val_loss: 0.3633 - val_acc: 0.8681\n",
      "Epoch 29/70\n",
      "48000/48000 [==============================] - 58s 1ms/step - loss: 0.4160 - acc: 0.8449 - val_loss: 0.3569 - val_acc: 0.8688\n",
      "Epoch 30/70\n",
      "48000/48000 [==============================] - 57s 1ms/step - loss: 0.4129 - acc: 0.8482 - val_loss: 0.3522 - val_acc: 0.8728\n",
      "Epoch 31/70\n",
      "48000/48000 [==============================] - 57s 1ms/step - loss: 0.4055 - acc: 0.8508 - val_loss: 0.3591 - val_acc: 0.8682\n",
      "Epoch 32/70\n",
      "48000/48000 [==============================] - 57s 1ms/step - loss: 0.4032 - acc: 0.8517 - val_loss: 0.3464 - val_acc: 0.8728\n",
      "Epoch 33/70\n",
      "48000/48000 [==============================] - 58s 1ms/step - loss: 0.4007 - acc: 0.8520 - val_loss: 0.3482 - val_acc: 0.8745\n",
      "Epoch 34/70\n",
      "48000/48000 [==============================] - 57s 1ms/step - loss: 0.3952 - acc: 0.8535 - val_loss: 0.3482 - val_acc: 0.8733\n",
      "Epoch 35/70\n",
      "48000/48000 [==============================] - 57s 1ms/step - loss: 0.3933 - acc: 0.8559 - val_loss: 0.3404 - val_acc: 0.8752\n",
      "Epoch 36/70\n",
      "48000/48000 [==============================] - 57s 1ms/step - loss: 0.3901 - acc: 0.8543 - val_loss: 0.3397 - val_acc: 0.8753\n",
      "Epoch 37/70\n",
      "48000/48000 [==============================] - 57s 1ms/step - loss: 0.3864 - acc: 0.8571 - val_loss: 0.3377 - val_acc: 0.8767\n",
      "Epoch 38/70\n",
      "48000/48000 [==============================] - 57s 1ms/step - loss: 0.3805 - acc: 0.8591 - val_loss: 0.3299 - val_acc: 0.8780\n",
      "Epoch 39/70\n",
      "48000/48000 [==============================] - 57s 1ms/step - loss: 0.3798 - acc: 0.8608 - val_loss: 0.3348 - val_acc: 0.8757\n",
      "Epoch 40/70\n",
      "48000/48000 [==============================] - 57s 1ms/step - loss: 0.3765 - acc: 0.8609 - val_loss: 0.3249 - val_acc: 0.8795\n",
      "Epoch 41/70\n",
      "48000/48000 [==============================] - 57s 1ms/step - loss: 0.3748 - acc: 0.8617 - val_loss: 0.3287 - val_acc: 0.8778\n",
      "Epoch 42/70\n",
      "48000/48000 [==============================] - 57s 1ms/step - loss: 0.3720 - acc: 0.8627 - val_loss: 0.3206 - val_acc: 0.8806\n",
      "Epoch 43/70\n",
      "48000/48000 [==============================] - 57s 1ms/step - loss: 0.3709 - acc: 0.8640 - val_loss: 0.3194 - val_acc: 0.8806\n",
      "Epoch 44/70\n",
      "48000/48000 [==============================] - 57s 1ms/step - loss: 0.3646 - acc: 0.8653 - val_loss: 0.3190 - val_acc: 0.8795\n",
      "Epoch 45/70\n",
      "48000/48000 [==============================] - 57s 1ms/step - loss: 0.3632 - acc: 0.8651 - val_loss: 0.3211 - val_acc: 0.8819\n",
      "Epoch 46/70\n",
      "48000/48000 [==============================] - 57s 1ms/step - loss: 0.3581 - acc: 0.8659 - val_loss: 0.3152 - val_acc: 0.8832\n",
      "Epoch 47/70\n",
      "48000/48000 [==============================] - 57s 1ms/step - loss: 0.3578 - acc: 0.8667 - val_loss: 0.3148 - val_acc: 0.8827\n",
      "Epoch 48/70\n",
      "48000/48000 [==============================] - 57s 1ms/step - loss: 0.3555 - acc: 0.8676 - val_loss: 0.3149 - val_acc: 0.8829\n",
      "Epoch 49/70\n",
      "48000/48000 [==============================] - 57s 1ms/step - loss: 0.3540 - acc: 0.8699 - val_loss: 0.3139 - val_acc: 0.8816\n",
      "Epoch 50/70\n",
      "48000/48000 [==============================] - 57s 1ms/step - loss: 0.3531 - acc: 0.8684 - val_loss: 0.3070 - val_acc: 0.8859\n",
      "Epoch 51/70\n",
      "48000/48000 [==============================] - 57s 1ms/step - loss: 0.3504 - acc: 0.8693 - val_loss: 0.3054 - val_acc: 0.8857\n",
      "Epoch 52/70\n",
      "48000/48000 [==============================] - 57s 1ms/step - loss: 0.3471 - acc: 0.8730 - val_loss: 0.3095 - val_acc: 0.8839\n",
      "Epoch 53/70\n",
      "48000/48000 [==============================] - 57s 1ms/step - loss: 0.3481 - acc: 0.8713 - val_loss: 0.3072 - val_acc: 0.8849\n",
      "Epoch 54/70\n",
      "48000/48000 [==============================] - 57s 1ms/step - loss: 0.3467 - acc: 0.8716 - val_loss: 0.3078 - val_acc: 0.8847\n",
      "Epoch 55/70\n",
      "48000/48000 [==============================] - 57s 1ms/step - loss: 0.3408 - acc: 0.8719 - val_loss: 0.3063 - val_acc: 0.8855\n",
      "Epoch 56/70\n",
      "48000/48000 [==============================] - 57s 1ms/step - loss: 0.3406 - acc: 0.8729 - val_loss: 0.3029 - val_acc: 0.8853\n",
      "Epoch 57/70\n",
      "48000/48000 [==============================] - 57s 1ms/step - loss: 0.3417 - acc: 0.8734 - val_loss: 0.3052 - val_acc: 0.8857\n",
      "Epoch 58/70\n",
      "48000/48000 [==============================] - 57s 1ms/step - loss: 0.3384 - acc: 0.8739 - val_loss: 0.3013 - val_acc: 0.8882\n",
      "Epoch 59/70\n",
      "48000/48000 [==============================] - 57s 1ms/step - loss: 0.3384 - acc: 0.8745 - val_loss: 0.3078 - val_acc: 0.8837\n",
      "Epoch 60/70\n"
     ]
    },
    {
     "name": "stdout",
     "output_type": "stream",
     "text": [
      "48000/48000 [==============================] - 56s 1ms/step - loss: 0.3375 - acc: 0.8745 - val_loss: 0.2963 - val_acc: 0.8897\n",
      "Epoch 61/70\n",
      "48000/48000 [==============================] - 56s 1ms/step - loss: 0.3335 - acc: 0.8755 - val_loss: 0.2952 - val_acc: 0.8900\n",
      "Epoch 62/70\n",
      "48000/48000 [==============================] - 56s 1ms/step - loss: 0.3314 - acc: 0.8766 - val_loss: 0.3031 - val_acc: 0.8865\n",
      "Epoch 63/70\n",
      "48000/48000 [==============================] - 56s 1ms/step - loss: 0.3307 - acc: 0.8768 - val_loss: 0.2957 - val_acc: 0.8889\n",
      "Epoch 64/70\n",
      "48000/48000 [==============================] - 56s 1ms/step - loss: 0.3327 - acc: 0.8764 - val_loss: 0.2970 - val_acc: 0.8901\n",
      "Epoch 65/70\n",
      "48000/48000 [==============================] - 56s 1ms/step - loss: 0.3276 - acc: 0.8790 - val_loss: 0.2996 - val_acc: 0.8884\n",
      "Epoch 66/70\n",
      "48000/48000 [==============================] - 56s 1ms/step - loss: 0.3248 - acc: 0.8795 - val_loss: 0.2896 - val_acc: 0.8922\n",
      "Epoch 67/70\n",
      "48000/48000 [==============================] - 56s 1ms/step - loss: 0.3241 - acc: 0.8793 - val_loss: 0.2893 - val_acc: 0.8910\n",
      "Epoch 68/70\n",
      "48000/48000 [==============================] - 56s 1ms/step - loss: 0.3227 - acc: 0.8801 - val_loss: 0.2916 - val_acc: 0.8932\n",
      "Epoch 69/70\n",
      "48000/48000 [==============================] - 56s 1ms/step - loss: 0.3224 - acc: 0.8794 - val_loss: 0.2971 - val_acc: 0.8892\n",
      "Epoch 70/70\n",
      "48000/48000 [==============================] - 56s 1ms/step - loss: 0.3247 - acc: 0.8810 - val_loss: 0.2978 - val_acc: 0.8888\n"
     ]
    }
   ],
   "source": [
    "modelo_dropout.compile(loss=\"categorical_crossentropy\",\n",
    "                            optimizer=SGD(lr=0.001, momentum=0.9),\n",
    "                            metrics=[\"accuracy\"])\n",
    "historia_dropout = modelo_dropout.fit(x_train, y_train, batch_size=batch_size,\n",
    "                        validation_split=0.2,\n",
    "                        epochs=epocas)"
   ]
  },
  {
   "cell_type": "code",
   "execution_count": 35,
   "metadata": {},
   "outputs": [
    {
     "data": {
      "image/png": "[encoded data removed]",
      "text/plain": [
       "<Figure size 936x648 with 1 Axes>"
      ]
     },
     "metadata": {
      "needs_background": "light"
     },
     "output_type": "display_data"
    }
   ],
   "source": [
    "# Graficar los valores de pérdida en el entrenamiento\n",
    "plt.figure(figsize=(13, 9))\n",
    "plt.plot(historia_dropout.history['loss'])\n",
    "plt.plot(historia_dropout.history['val_loss'])\n",
    "plt.legend([\"Entrenamiento\", \"Validación\"], loc='upper left')\n",
    "plt.show()"
   ]
  },
  {
   "cell_type": "markdown",
   "metadata": {},
   "source": [
    "El sobreajuste es mínimo, casi imperceptible. El método de _dropout_ es simplemente robusto y excelente, además de rápido. La comparación con el modelo de ruido en cada capa escondida a este es sustancial: el tiempo es casi el doble, y el resultado es peor.\n",
    "\n",
    "El método de _dropout_ sigue siendo una técnica clásica que se sigue utilizando con mucha frecuencia."
   ]
  },
  {
   "cell_type": "code",
   "execution_count": 36,
   "metadata": {},
   "outputs": [
    {
     "name": "stdout",
     "output_type": "stream",
     "text": [
      "10000/10000 [==============================] - 4s 381us/step\n"
     ]
    },
    {
     "data": {
      "text/plain": [
       "[0.31605980422496793, 0.8828]"
      ]
     },
     "execution_count": 36,
     "metadata": {},
     "output_type": "execute_result"
    }
   ],
   "source": [
    "modelo_dropout.evaluate(x_test, y_test)"
   ]
  },
  {
   "cell_type": "markdown",
   "metadata": {},
   "source": [
    "El resultado es mucho mejor que cualquiera de los otros modelos, el valor de la pérdida es menor y el valor de la precisión es adecuado, al menos se está casi seguro de que no hay tanto sobreajuste."
   ]
  },
  {
   "cell_type": "markdown",
   "metadata": {},
   "source": [
    "## Ejercicios\n",
    "\n",
    "1. Probar combinando las diferentes técnicas mostradas aquí para obtener mejores resultados."
   ]
  }
 ],
 "metadata": {
  "kernelspec": {
   "display_name": "Python 3",
   "language": "python",
   "name": "python3"
  },
  "language_info": {
   "codemirror_mode": {
    "name": "ipython",
    "version": 3
   },
   "file_extension": ".py",
   "mimetype": "text/x-python",
   "name": "python",
   "nbconvert_exporter": "python",
   "pygments_lexer": "ipython3",
   "version": "3.7.4"
  }
 },
 "nbformat": 4,
 "nbformat_minor": 2
}
