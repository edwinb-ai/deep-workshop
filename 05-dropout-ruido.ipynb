{
 "cells": [
  {
   "cell_type": "markdown",
   "metadata": {},
   "source": [
    "# Regularización por ruido y _Dropout_\n",
    "\n",
    "Las redes neuronales, y sobre todo las convolucionales (CNN), son muy susceptibles al sobreajuste. El **sobreajuste** es un problema de generalización donde las redes neuronales aprenden y reconocen todas las propiedades del conjunto de prueba, sin embargo cuando son evaluadas en datos que han observado tienen una muy baja precisión de reconocimiento.\n",
    "\n",
    "Esto se debe a que las redes neuronales _memorizan_ o reconocen solamente las características del conjunto de prueba. A lo largo de los años los científicos han trabajado en mitigar este problema y han surgido dos metodologías que serán presentadas en este documento; existen muchas más metodologías que serán cubiertas en otros documentos.\n",
    "\n",
    "## Regularización por ruido\n",
    "\n",
    "Siguiendo un [artículo](https://eprint.iacr.org/2018/1023.pdf) y el [libro de Deep Learning](http://www.deeplearningbook.org/) se propone utilizar ruido como una forma de **regularización**, esto es, una forma de mitigar el sobreajuste de las redes neuronales.\n",
    "\n",
    "El propósito del ruido es aplicar y añadir valores muestreados de una distribución normal a la entrada, salida o dentro de las capas escondidas de las redes neuronales. El resultado de esto es que se añade un término de regularización a la función de pérdida a minimizar, lo que provoca que la red neuronal sea más robusta a valores atípicos.\n",
    "\n",
    "## _Dropout_\n",
    "\n",
    "Uno de los métodos más revolucionarios en la historia del Deep Learning es el [artículo sobre Dropout](http://www.jmlr.org/papers/volume15/srivastava14a/srivastava14a.pdf?utm_content=buffer79b43&utm_medium=social&utm_source=twitter.com&utm_campaign=buffer). La idea detrás de este método es bastante simple: escoger aleatoriamente un subconjunto de unidades conectadas dentro de la red neuronal en cuestión, y evaluar muchas veces sobre diferentes subconjuntos. Esto crea un estimado muy robusto sobre los datos evaluados dado que se está haciendo una especie de _promedio_ sobre diferentes redes neuronales, lo mejor de esto es que esto no tiene efecto sobre el cálculo adicional de parámetros.\n",
    "\n",
    "Este método ha sido tan revolucionario que muchas de las arquitecturas más poderosas y eficientes lo utilizan, hasta el momento en que surgió _Batch Normalization,_ sin embargo sigue siendo uno de los métodos básicos para mitigar el sobreajuste en CNN. En este documento se demostrará su eficacia al ser comparado con la regularización por ruido."
   ]
  },
  {
   "cell_type": "code",
   "execution_count": 27,
   "metadata": {},
   "outputs": [],
   "source": [
    "from keras.datasets import fashion_mnist\n",
    "from keras.layers import Dense, BatchNormalization, Activation, Dropout\n",
    "from keras.layers import Conv2D, MaxPooling2D, Flatten, GaussianNoise\n",
    "from keras.utils import to_categorical\n",
    "from keras.models import Sequential\n",
    "from keras.optimizers import SGD\n",
    "import matplotlib.pyplot as plt"
   ]
  },
  {
   "cell_type": "markdown",
   "metadata": {},
   "source": [
    "## Fashion-MNIST\n",
    "\n",
    "El conjunto de datos empleado es el [Fashion-MNIST](https://github.com/zalandoresearch/fashion-mnist) que tiene 10 clases, cada una pertenece a un tipo de prenda o de calzado. La idea de este conjunto de datos (en realidad son imágenes) es que sirva como un reemplazo para el famoso conjunto de datos de dígitos escritos a mano del MNIST.\n",
    "\n",
    "Las imágenes tienen un tamaño de $28 \\times 28$ y están en tono de grises."
   ]
  },
  {
   "cell_type": "code",
   "execution_count": 28,
   "metadata": {},
   "outputs": [],
   "source": [
    "(x_train, y_train), (x_test, y_test) = fashion_mnist.load_data()"
   ]
  },
  {
   "cell_type": "code",
   "execution_count": 29,
   "metadata": {},
   "outputs": [],
   "source": [
    "# Tamaño de lote para el optimizador\n",
    "batch_size = 128\n",
    "# Número de clases, ya se sabe por que se conoce el conjunto de datos\n",
    "# pero si no, se puede hacer de forma programática\n",
    "num_classes = 10\n",
    "# Número de épocas, dejar como está porque es suficiente\n",
    "epocas = 50\n",
    "\n",
    "# Tamaño de las imágenes, ancho y alto\n",
    "img_rows, img_cols = 28, 28"
   ]
  },
  {
   "cell_type": "code",
   "execution_count": 30,
   "metadata": {},
   "outputs": [
    {
     "data": {
      "text/plain": [
       "(60000, 28, 28)"
      ]
     },
     "execution_count": 30,
     "metadata": {},
     "output_type": "execute_result"
    }
   ],
   "source": [
    "# Para verificar el tamaño de las imágenes y el número de imágenes\n",
    "x_train.shape"
   ]
  },
  {
   "cell_type": "code",
   "execution_count": 31,
   "metadata": {},
   "outputs": [
    {
     "data": {
      "text/plain": [
       "<matplotlib.image.AxesImage at 0x7f354081ad50>"
      ]
     },
     "execution_count": 31,
     "metadata": {},
     "output_type": "execute_result"
    },
    {
     "data": {
      "image/png": "[encoded data removed]",
      "text/plain": [
       "<Figure size 432x288 with 1 Axes>"
      ]
     },
     "metadata": {
      "needs_background": "light"
     },
     "output_type": "display_data"
    }
   ],
   "source": [
    "# Se puede visualizar una de estas imágenes para conocer el conjunto de datos\n",
    "plt.imshow(x_train[20, :, :], cmap=\"gray\")"
   ]
  },
  {
   "cell_type": "markdown",
   "metadata": {},
   "source": [
    "Por ejemplo, en este caso se muestra un ejemplo de un _vestido,_ una de las 10 clases del conjunto de datos con el que se está trabajando."
   ]
  },
  {
   "cell_type": "code",
   "execution_count": 32,
   "metadata": {},
   "outputs": [],
   "source": [
    "# Reajustar las imágenes para asegurar que solamente es un canal de color\n",
    "x_train = x_train.reshape(x_train.shape[0], img_rows, img_cols, 1)\n",
    "x_test = x_test.reshape(x_test.shape[0], img_rows, img_cols, 1)\n",
    "# Tamaño de la entrada, en forma de tupla siempre\n",
    "input_shape = (img_rows, img_cols, 1)"
   ]
  },
  {
   "cell_type": "code",
   "execution_count": 33,
   "metadata": {},
   "outputs": [],
   "source": [
    "# Convertir a float32 para mejor manejo\n",
    "x_train = x_train.astype(\"float32\")\n",
    "x_test = x_test.astype(\"float32\")\n",
    "# Normalizar los valores de las imágenes\n",
    "x_train /= 255\n",
    "x_test /= 255"
   ]
  },
  {
   "cell_type": "code",
   "execution_count": 34,
   "metadata": {},
   "outputs": [
    {
     "name": "stdout",
     "output_type": "stream",
     "text": [
      "Tamaño del conjunto de entrenamiento: (60000, 28, 28, 1)\n",
      "60000 Muestras de entrenamiento\n",
      "10000 Muestras de prueba\n"
     ]
    }
   ],
   "source": [
    "print(\"Tamaño del conjunto de entrenamiento:\", x_train.shape)\n",
    "print(x_train.shape[0], \"Muestras de entrenamiento\")\n",
    "print(x_test.shape[0], \"Muestras de prueba\")"
   ]
  },
  {
   "cell_type": "code",
   "execution_count": 35,
   "metadata": {},
   "outputs": [],
   "source": [
    "# Codificación One Hot para las etiquetas\n",
    "y_train = to_categorical(y_train, num_classes)\n",
    "y_test = to_categorical(y_test, num_classes)"
   ]
  },
  {
   "cell_type": "markdown",
   "metadata": {},
   "source": [
    "## Arquitecturas de las CNN\n",
    "\n",
    "Todas las arquitecturas tienen la misma forma en común, que proviene del [ejemplo de `keras`](https://keras.io/examples/cifar10_cnn/) para la clasificación del conjunto de datos CIFAR-10, solamente que en este caso se emplea otro conjunto de datos como ya se ha mostrado.\n",
    "\n",
    "Sin embargo, para cada caso se modificará la arquitectura, específicamente:\n",
    "\n",
    "1. **Ruido en la entrada:** Cuando las imágenes entren a la CNN se les agregará ruido gaussiano, muestreado de una distribución normal con media $\\mu = 0.0$ y desviación estándar $\\sigma^2 = 0.01$.\n",
    "\n",
    "2. **Ruido en las capas escondidas:** Las imágenes entrarán a la CNN de forma normal, pero antes de cada función de activación existirá un aplicación de ruido gaussiano, muestreado de una distribución normal con media $\\mu = 0.0$ y desviación estándar $\\sigma^2 = 0.01$.\n",
    "\n",
    "3. **Dropout:** Se aplicará _dropout_ después de cada etapa de extracción de características, esto es cuando se ha aplicado _pooling,_ y al final de la capa totalmente conectada. Para la parte de características, se escoge el 25% de unidades dentro de la capa, mientras que para la capa totalmente conectada se escogen 50% del total de las unidades."
   ]
  },
  {
   "cell_type": "code",
   "execution_count": 36,
   "metadata": {},
   "outputs": [],
   "source": [
    "# La entrada de la red tiene ruido solamente\n",
    "arquitectura_ruido_entrada = [\n",
    "    GaussianNoise(0.01, input_shape=x_train.shape[1:]),\n",
    "    # Capa de entrada, primera capa de características\n",
    "    Conv2D(32, kernel_size=(3, 3), padding=\"same\"),\n",
    "    Activation(\"relu\"),\n",
    "    Conv2D(32, (3, 3)),\n",
    "    Activation(\"relu\"),\n",
    "    MaxPooling2D(pool_size=(2, 2)),\n",
    "    # Segunda capa de características\n",
    "    Conv2D(64, kernel_size=(3, 3), padding=\"same\"),\n",
    "    Activation(\"relu\"),\n",
    "    Conv2D(64, (3, 3)),\n",
    "    Activation(\"relu\"),\n",
    "    MaxPooling2D(pool_size=(2, 2)),\n",
    "    # Capa totalmente conectada\n",
    "    Flatten(),\n",
    "    Dense(512),\n",
    "    Activation(\"relu\"),\n",
    "    # Capa de salida\n",
    "    Dense(num_classes, activation=\"softmax\")\n",
    "]"
   ]
  },
  {
   "cell_type": "code",
   "execution_count": 37,
   "metadata": {},
   "outputs": [],
   "source": [
    "# Las capas escondidas tienen ruido\n",
    "arquitectura_ruido_capas = [\n",
    "    # Capa de entrada, primera capa de características\n",
    "    Conv2D(32, kernel_size=(3, 3),\n",
    "           padding=\"same\",\n",
    "           input_shape=x_train.shape[1:]),\n",
    "    GaussianNoise(0.01),\n",
    "    Activation(\"relu\"),\n",
    "    Conv2D(32, (3, 3)),\n",
    "    GaussianNoise(0.01),\n",
    "    Activation(\"relu\"),\n",
    "    MaxPooling2D(pool_size=(2, 2)),\n",
    "    # Segunda capa de características\n",
    "    Conv2D(64, kernel_size=(3, 3), padding=\"same\"),\n",
    "    GaussianNoise(0.01),\n",
    "    Activation(\"relu\"),\n",
    "    Conv2D(64, (3, 3)),\n",
    "    GaussianNoise(0.01),\n",
    "    Activation(\"relu\"),\n",
    "    MaxPooling2D(pool_size=(2, 2)),\n",
    "    # Capa totalmente conectada\n",
    "    Flatten(),\n",
    "    Dense(512),\n",
    "    GaussianNoise(0.01),\n",
    "    Activation(\"relu\"),\n",
    "    # Capa de salida\n",
    "    Dense(num_classes, activation=\"softmax\")\n",
    "]"
   ]
  },
  {
   "cell_type": "code",
   "execution_count": 38,
   "metadata": {},
   "outputs": [],
   "source": [
    "# Se aplica dropout al final de cada capa de características y en la\n",
    "# capa totalmente conectada\n",
    "arquitectura_dropout = [\n",
    "    # Capa de entrada, primera capa de características\n",
    "    Conv2D(32, kernel_size=(3, 3),\n",
    "           padding=\"same\",\n",
    "           input_shape=x_train.shape[1:]),\n",
    "    Activation(\"relu\"),\n",
    "    Conv2D(32, (3, 3)),\n",
    "    Activation(\"relu\"),\n",
    "    MaxPooling2D(pool_size=(2, 2)),\n",
    "    Dropout(0.25),\n",
    "    # Segunda capa de características\n",
    "    Conv2D(64, kernel_size=(3, 3), padding=\"same\"),\n",
    "    Activation(\"relu\"),\n",
    "    Conv2D(64, (3, 3)),\n",
    "    Activation(\"relu\"),\n",
    "    MaxPooling2D(pool_size=(2, 2)),\n",
    "    Dropout(0.25),\n",
    "    # Capa totalmente conectada\n",
    "    Flatten(),\n",
    "    Dense(512),\n",
    "    Dropout(0.5),\n",
    "    Activation(\"relu\"),\n",
    "    # Capa de salida\n",
    "    Dense(num_classes, activation=\"softmax\")\n",
    "]"
   ]
  },
  {
   "cell_type": "code",
   "execution_count": 39,
   "metadata": {},
   "outputs": [],
   "source": [
    "# Se construyen los modelos con esta arquitectura\n",
    "modelo_dropout = Sequential(arquitectura_dropout)\n",
    "modelo_ruido_entrada = Sequential(arquitectura_ruido_entrada)\n",
    "modelo_ruido_capas = Sequential(arquitectura_ruido_capas)"
   ]
  },
  {
   "cell_type": "markdown",
   "metadata": {},
   "source": [
    "### Ruido a la entrada\n",
    "\n",
    "En esta parte se emplea el modelo que tiene ruido a la entrada de la CNN. El optimizador utilizado es el muy robusto y clásico descenso de gradiente estocástico, con un ratio de aprendizaje de 0.001 y momento de 0.9, para acelerar el aprendizaje."
   ]
  },
  {
   "cell_type": "code",
   "execution_count": 40,
   "metadata": {},
   "outputs": [
    {
     "name": "stdout",
     "output_type": "stream",
     "text": [
      "Train on 48000 samples, validate on 12000 samples\n",
      "Epoch 1/50\n",
      "48000/48000 [==============================] - 67s 1ms/step - loss: 1.4584 - acc: 0.4689 - val_loss: 0.7579 - val_acc: 0.7074\n",
      "Epoch 2/50\n",
      "48000/48000 [==============================] - 59s 1ms/step - loss: 0.6495 - acc: 0.7605 - val_loss: 0.6240 - val_acc: 0.7590\n",
      "Epoch 3/50\n",
      "48000/48000 [==============================] - 58s 1ms/step - loss: 0.5406 - acc: 0.8025 - val_loss: 0.5410 - val_acc: 0.7962\n",
      "Epoch 4/50\n",
      "48000/48000 [==============================] - 57s 1ms/step - loss: 0.4845 - acc: 0.8249 - val_loss: 0.4748 - val_acc: 0.8295\n",
      "Epoch 5/50\n",
      "48000/48000 [==============================] - 61s 1ms/step - loss: 0.4526 - acc: 0.8379 - val_loss: 0.4512 - val_acc: 0.8396\n",
      "Epoch 6/50\n",
      "48000/48000 [==============================] - 61s 1ms/step - loss: 0.4288 - acc: 0.8484 - val_loss: 0.4208 - val_acc: 0.8515\n",
      "Epoch 7/50\n",
      "48000/48000 [==============================] - 63s 1ms/step - loss: 0.4032 - acc: 0.8552 - val_loss: 0.4118 - val_acc: 0.8498\n",
      "Epoch 8/50\n",
      "48000/48000 [==============================] - 72s 2ms/step - loss: 0.3897 - acc: 0.8611 - val_loss: 0.3862 - val_acc: 0.8641\n",
      "Epoch 9/50\n",
      "48000/48000 [==============================] - 60s 1ms/step - loss: 0.3719 - acc: 0.8679 - val_loss: 0.4016 - val_acc: 0.8582\n",
      "Epoch 10/50\n",
      "48000/48000 [==============================] - 56s 1ms/step - loss: 0.3647 - acc: 0.8699 - val_loss: 0.4100 - val_acc: 0.8535\n",
      "Epoch 11/50\n",
      "48000/48000 [==============================] - 66s 1ms/step - loss: 0.3546 - acc: 0.8725 - val_loss: 0.3609 - val_acc: 0.8730\n",
      "Epoch 12/50\n",
      "48000/48000 [==============================] - 62s 1ms/step - loss: 0.3424 - acc: 0.8768 - val_loss: 0.3631 - val_acc: 0.8718\n",
      "Epoch 13/50\n",
      "48000/48000 [==============================] - 80s 2ms/step - loss: 0.3359 - acc: 0.8784 - val_loss: 0.3748 - val_acc: 0.8640\n",
      "Epoch 14/50\n",
      "48000/48000 [==============================] - 81s 2ms/step - loss: 0.3273 - acc: 0.8821 - val_loss: 0.3444 - val_acc: 0.8782\n",
      "Epoch 15/50\n",
      "48000/48000 [==============================] - 82s 2ms/step - loss: 0.3198 - acc: 0.8841 - val_loss: 0.3566 - val_acc: 0.8752\n",
      "Epoch 16/50\n",
      "48000/48000 [==============================] - 81s 2ms/step - loss: 0.3120 - acc: 0.8886 - val_loss: 0.3478 - val_acc: 0.8762\n",
      "Epoch 17/50\n",
      "48000/48000 [==============================] - 80s 2ms/step - loss: 0.2999 - acc: 0.8920 - val_loss: 0.3350 - val_acc: 0.8784\n",
      "Epoch 18/50\n",
      "48000/48000 [==============================] - 79s 2ms/step - loss: 0.2984 - acc: 0.8918 - val_loss: 0.3278 - val_acc: 0.8822\n",
      "Epoch 19/50\n",
      "48000/48000 [==============================] - 82s 2ms/step - loss: 0.2893 - acc: 0.8948 - val_loss: 0.3364 - val_acc: 0.8822\n",
      "Epoch 20/50\n",
      "48000/48000 [==============================] - 80s 2ms/step - loss: 0.2857 - acc: 0.8962 - val_loss: 0.3255 - val_acc: 0.8832\n",
      "Epoch 21/50\n",
      "48000/48000 [==============================] - 80s 2ms/step - loss: 0.2804 - acc: 0.8977 - val_loss: 0.3264 - val_acc: 0.8795\n",
      "Epoch 22/50\n",
      "48000/48000 [==============================] - 84s 2ms/step - loss: 0.2755 - acc: 0.9000 - val_loss: 0.3130 - val_acc: 0.8875\n",
      "Epoch 23/50\n",
      "48000/48000 [==============================] - 83s 2ms/step - loss: 0.2691 - acc: 0.9029 - val_loss: 0.3159 - val_acc: 0.8856\n",
      "Epoch 24/50\n",
      "48000/48000 [==============================] - 66s 1ms/step - loss: 0.2629 - acc: 0.9034 - val_loss: 0.3074 - val_acc: 0.8920\n",
      "Epoch 25/50\n",
      "48000/48000 [==============================] - 54s 1ms/step - loss: 0.2590 - acc: 0.9055 - val_loss: 0.3241 - val_acc: 0.8845\n",
      "Epoch 26/50\n",
      "48000/48000 [==============================] - 54s 1ms/step - loss: 0.2550 - acc: 0.9066 - val_loss: 0.3112 - val_acc: 0.8876\n",
      "Epoch 27/50\n",
      "48000/48000 [==============================] - 64s 1ms/step - loss: 0.2491 - acc: 0.9092 - val_loss: 0.3214 - val_acc: 0.8878\n",
      "Epoch 28/50\n",
      "48000/48000 [==============================] - 61s 1ms/step - loss: 0.2433 - acc: 0.9110 - val_loss: 0.3100 - val_acc: 0.8899\n",
      "Epoch 29/50\n",
      "48000/48000 [==============================] - 68s 1ms/step - loss: 0.2409 - acc: 0.9117 - val_loss: 0.3076 - val_acc: 0.8903\n",
      "Epoch 30/50\n",
      "48000/48000 [==============================] - 74s 2ms/step - loss: 0.2359 - acc: 0.9145 - val_loss: 0.3154 - val_acc: 0.8898\n",
      "Epoch 31/50\n",
      "48000/48000 [==============================] - 74s 2ms/step - loss: 0.2310 - acc: 0.9158 - val_loss: 0.3016 - val_acc: 0.8928\n",
      "Epoch 32/50\n",
      "48000/48000 [==============================] - 71s 1ms/step - loss: 0.2304 - acc: 0.9161 - val_loss: 0.3078 - val_acc: 0.8927\n",
      "Epoch 33/50\n",
      "48000/48000 [==============================] - 64s 1ms/step - loss: 0.2235 - acc: 0.9170 - val_loss: 0.3139 - val_acc: 0.8902\n",
      "Epoch 34/50\n",
      "48000/48000 [==============================] - 61s 1ms/step - loss: 0.2194 - acc: 0.9192 - val_loss: 0.3216 - val_acc: 0.8842\n",
      "Epoch 35/50\n",
      "48000/48000 [==============================] - 49s 1ms/step - loss: 0.2159 - acc: 0.9218 - val_loss: 0.3030 - val_acc: 0.8927\n",
      "Epoch 36/50\n",
      "48000/48000 [==============================] - 53s 1ms/step - loss: 0.2123 - acc: 0.9209 - val_loss: 0.3007 - val_acc: 0.8948\n",
      "Epoch 37/50\n",
      "48000/48000 [==============================] - 52s 1ms/step - loss: 0.2074 - acc: 0.9236 - val_loss: 0.3065 - val_acc: 0.8929\n",
      "Epoch 38/50\n",
      "48000/48000 [==============================] - 67s 1ms/step - loss: 0.2008 - acc: 0.9264 - val_loss: 0.3060 - val_acc: 0.8937\n",
      "Epoch 39/50\n",
      "48000/48000 [==============================] - 68s 1ms/step - loss: 0.1964 - acc: 0.9279 - val_loss: 0.3014 - val_acc: 0.8955\n",
      "Epoch 40/50\n",
      "48000/48000 [==============================] - 67s 1ms/step - loss: 0.1973 - acc: 0.9279 - val_loss: 0.3355 - val_acc: 0.8865\n",
      "Epoch 41/50\n",
      "48000/48000 [==============================] - 67s 1ms/step - loss: 0.1914 - acc: 0.9301 - val_loss: 0.2979 - val_acc: 0.9000\n",
      "Epoch 42/50\n",
      "48000/48000 [==============================] - 66s 1ms/step - loss: 0.1903 - acc: 0.9301 - val_loss: 0.2956 - val_acc: 0.8988\n",
      "Epoch 43/50\n",
      "48000/48000 [==============================] - 66s 1ms/step - loss: 0.1819 - acc: 0.9340 - val_loss: 0.3181 - val_acc: 0.8938\n",
      "Epoch 44/50\n",
      "48000/48000 [==============================] - 66s 1ms/step - loss: 0.1840 - acc: 0.9323 - val_loss: 0.3197 - val_acc: 0.8915\n",
      "Epoch 45/50\n",
      "48000/48000 [==============================] - 66s 1ms/step - loss: 0.1786 - acc: 0.9341 - val_loss: 0.3073 - val_acc: 0.8977\n",
      "Epoch 46/50\n",
      "48000/48000 [==============================] - 64s 1ms/step - loss: 0.1747 - acc: 0.9356 - val_loss: 0.3013 - val_acc: 0.9002\n",
      "Epoch 47/50\n",
      "48000/48000 [==============================] - 68s 1ms/step - loss: 0.1750 - acc: 0.9352 - val_loss: 0.3108 - val_acc: 0.8979\n",
      "Epoch 48/50\n",
      "48000/48000 [==============================] - 68s 1ms/step - loss: 0.1664 - acc: 0.9387 - val_loss: 0.3183 - val_acc: 0.8937\n",
      "Epoch 49/50\n",
      "48000/48000 [==============================] - 66s 1ms/step - loss: 0.1650 - acc: 0.9386 - val_loss: 0.3200 - val_acc: 0.8957\n",
      "Epoch 50/50\n",
      "48000/48000 [==============================] - 68s 1ms/step - loss: 0.1610 - acc: 0.9413 - val_loss: 0.3236 - val_acc: 0.8951\n"
     ]
    }
   ],
   "source": [
    "modelo_ruido_entrada.compile(loss=\"categorical_crossentropy\",\n",
    "                            optimizer=SGD(lr=0.001, momentum=0.9),\n",
    "                            metrics=[\"accuracy\"])\n",
    "historia_ruido_entrada = modelo_ruido_entrada.fit(x_train, y_train, batch_size=batch_size,\n",
    "                        validation_split=0.2,\n",
    "                        epochs=epocas)"
   ]
  },
  {
   "cell_type": "code",
   "execution_count": 41,
   "metadata": {},
   "outputs": [
    {
     "data": {
      "image/png": "[encoded data removed]",
      "text/plain": [
       "<Figure size 936x648 with 1 Axes>"
      ]
     },
     "metadata": {
      "needs_background": "light"
     },
     "output_type": "display_data"
    }
   ],
   "source": [
    "# Graficar los valores de pérdida en el entrenamiento\n",
    "plt.figure(figsize=(13, 9))\n",
    "plt.plot(historia_ruido_entrada.history['loss'])\n",
    "plt.plot(historia_ruido_entrada.history['val_loss'])\n",
    "plt.legend([\"Entrenamiento\", \"Validación\"], loc='upper left')\n",
    "plt.show()"
   ]
  },
  {
   "cell_type": "markdown",
   "metadata": {},
   "source": [
    "Después de 50 épocas de entrenamiento se puede ver como se ha mitigado el sobreajuste, o al menos se ha controlado en cierta forma. Esta es una de las formas más generales de reducir el sobreajuste, aunque no es muy común. Este método es más común como un tipo de _aumento de datos,_ que será discutido en otro documento."
   ]
  },
  {
   "cell_type": "code",
   "execution_count": 42,
   "metadata": {},
   "outputs": [
    {
     "name": "stdout",
     "output_type": "stream",
     "text": [
      "10000/10000 [==============================] - 5s 547us/step\n"
     ]
    },
    {
     "data": {
      "text/plain": [
       "[0.3304824969172478, 0.8922]"
      ]
     },
     "execution_count": 42,
     "metadata": {},
     "output_type": "execute_result"
    }
   ],
   "source": [
    "modelo_ruido_entrada.evaluate(x_test, y_test)"
   ]
  },
  {
   "cell_type": "markdown",
   "metadata": {},
   "source": [
    "La precisión de este modelo no es estado del arte, pero para ser una arquitectura muy simple, con solamente este tipo de regularización se ha desempeñado bastante bien."
   ]
  },
  {
   "cell_type": "markdown",
   "metadata": {},
   "source": [
    "## Regularización en las capas escondidas\n",
    "\n",
    "En este modelo se emplea nuevamente descenso de gradiente estocástico con ratio de aprendizaje 0.001 y momento de 0.9."
   ]
  },
  {
   "cell_type": "code",
   "execution_count": 43,
   "metadata": {},
   "outputs": [
    {
     "name": "stdout",
     "output_type": "stream",
     "text": [
      "Train on 48000 samples, validate on 12000 samples\n",
      "Epoch 1/50\n",
      "48000/48000 [==============================] - 152s 3ms/step - loss: 1.4141 - acc: 0.4885 - val_loss: 0.7554 - val_acc: 0.7142\n",
      "Epoch 2/50\n",
      "48000/48000 [==============================] - 133s 3ms/step - loss: 0.6914 - acc: 0.7447 - val_loss: 0.6085 - val_acc: 0.7794\n",
      "Epoch 3/50\n",
      "48000/48000 [==============================] - 133s 3ms/step - loss: 0.5831 - acc: 0.7882 - val_loss: 0.5528 - val_acc: 0.8003\n",
      "Epoch 4/50\n",
      "48000/48000 [==============================] - 133s 3ms/step - loss: 0.5241 - acc: 0.8092 - val_loss: 0.4996 - val_acc: 0.8181\n",
      "Epoch 5/50\n",
      "48000/48000 [==============================] - 133s 3ms/step - loss: 0.4804 - acc: 0.8270 - val_loss: 0.4835 - val_acc: 0.8243\n",
      "Epoch 6/50\n",
      "48000/48000 [==============================] - 134s 3ms/step - loss: 0.4466 - acc: 0.8396 - val_loss: 0.4678 - val_acc: 0.8331\n",
      "Epoch 7/50\n",
      "48000/48000 [==============================] - 134s 3ms/step - loss: 0.4302 - acc: 0.8455 - val_loss: 0.4595 - val_acc: 0.8353\n",
      "Epoch 8/50\n",
      "48000/48000 [==============================] - 134s 3ms/step - loss: 0.4132 - acc: 0.8515 - val_loss: 0.4081 - val_acc: 0.8577\n",
      "Epoch 9/50\n",
      "48000/48000 [==============================] - 134s 3ms/step - loss: 0.3930 - acc: 0.8584 - val_loss: 0.3912 - val_acc: 0.8616\n",
      "Epoch 10/50\n",
      "48000/48000 [==============================] - 134s 3ms/step - loss: 0.3784 - acc: 0.8639 - val_loss: 0.3817 - val_acc: 0.8648\n",
      "Epoch 11/50\n",
      "48000/48000 [==============================] - 134s 3ms/step - loss: 0.3644 - acc: 0.8703 - val_loss: 0.3909 - val_acc: 0.8618\n",
      "Epoch 12/50\n",
      "48000/48000 [==============================] - 134s 3ms/step - loss: 0.3535 - acc: 0.8743 - val_loss: 0.3738 - val_acc: 0.8678\n",
      "Epoch 13/50\n",
      "48000/48000 [==============================] - 134s 3ms/step - loss: 0.3457 - acc: 0.8755 - val_loss: 0.3741 - val_acc: 0.8637\n",
      "Epoch 14/50\n",
      "48000/48000 [==============================] - 135s 3ms/step - loss: 0.3365 - acc: 0.8786 - val_loss: 0.3507 - val_acc: 0.8748\n",
      "Epoch 15/50\n",
      "48000/48000 [==============================] - 134s 3ms/step - loss: 0.3278 - acc: 0.8807 - val_loss: 0.3406 - val_acc: 0.8768\n",
      "Epoch 16/50\n",
      "48000/48000 [==============================] - 135s 3ms/step - loss: 0.3177 - acc: 0.8843 - val_loss: 0.3395 - val_acc: 0.8787\n",
      "Epoch 17/50\n",
      "48000/48000 [==============================] - 135s 3ms/step - loss: 0.3123 - acc: 0.8870 - val_loss: 0.3549 - val_acc: 0.8712\n",
      "Epoch 18/50\n",
      "48000/48000 [==============================] - 134s 3ms/step - loss: 0.3050 - acc: 0.8897 - val_loss: 0.3321 - val_acc: 0.8824\n",
      "Epoch 19/50\n",
      "48000/48000 [==============================] - 135s 3ms/step - loss: 0.2982 - acc: 0.8917 - val_loss: 0.3468 - val_acc: 0.8754\n",
      "Epoch 20/50\n",
      "48000/48000 [==============================] - 135s 3ms/step - loss: 0.2901 - acc: 0.8945 - val_loss: 0.3201 - val_acc: 0.8853\n",
      "Epoch 21/50\n",
      "48000/48000 [==============================] - 135s 3ms/step - loss: 0.2865 - acc: 0.8950 - val_loss: 0.3262 - val_acc: 0.8844\n",
      "Epoch 22/50\n",
      "48000/48000 [==============================] - 135s 3ms/step - loss: 0.2787 - acc: 0.8993 - val_loss: 0.3296 - val_acc: 0.8860\n",
      "Epoch 23/50\n",
      "48000/48000 [==============================] - 135s 3ms/step - loss: 0.2730 - acc: 0.9014 - val_loss: 0.3145 - val_acc: 0.8868\n",
      "Epoch 24/50\n",
      "48000/48000 [==============================] - 135s 3ms/step - loss: 0.2686 - acc: 0.9028 - val_loss: 0.3348 - val_acc: 0.8772\n",
      "Epoch 25/50\n",
      "48000/48000 [==============================] - 135s 3ms/step - loss: 0.2666 - acc: 0.9022 - val_loss: 0.3167 - val_acc: 0.8866\n",
      "Epoch 26/50\n",
      "48000/48000 [==============================] - 135s 3ms/step - loss: 0.2604 - acc: 0.9057 - val_loss: 0.3078 - val_acc: 0.8893\n",
      "Epoch 27/50\n",
      "48000/48000 [==============================] - 135s 3ms/step - loss: 0.2548 - acc: 0.9067 - val_loss: 0.3104 - val_acc: 0.8905\n",
      "Epoch 28/50\n",
      "48000/48000 [==============================] - 135s 3ms/step - loss: 0.2488 - acc: 0.9105 - val_loss: 0.3013 - val_acc: 0.8938\n",
      "Epoch 29/50\n",
      "48000/48000 [==============================] - 135s 3ms/step - loss: 0.2438 - acc: 0.9119 - val_loss: 0.3050 - val_acc: 0.8916\n",
      "Epoch 30/50\n",
      "48000/48000 [==============================] - 135s 3ms/step - loss: 0.2423 - acc: 0.9118 - val_loss: 0.3191 - val_acc: 0.8846\n",
      "Epoch 31/50\n",
      "48000/48000 [==============================] - 136s 3ms/step - loss: 0.2342 - acc: 0.9147 - val_loss: 0.3084 - val_acc: 0.8911\n",
      "Epoch 32/50\n",
      "48000/48000 [==============================] - 135s 3ms/step - loss: 0.2303 - acc: 0.9161 - val_loss: 0.2967 - val_acc: 0.8968\n",
      "Epoch 33/50\n",
      "48000/48000 [==============================] - 135s 3ms/step - loss: 0.2240 - acc: 0.9183 - val_loss: 0.3006 - val_acc: 0.8933\n",
      "Epoch 34/50\n",
      "48000/48000 [==============================] - 135s 3ms/step - loss: 0.2201 - acc: 0.9191 - val_loss: 0.2931 - val_acc: 0.8938\n",
      "Epoch 35/50\n",
      "48000/48000 [==============================] - 135s 3ms/step - loss: 0.2195 - acc: 0.9195 - val_loss: 0.3382 - val_acc: 0.8807\n",
      "Epoch 36/50\n",
      "48000/48000 [==============================] - 133s 3ms/step - loss: 0.2118 - acc: 0.9227 - val_loss: 0.3048 - val_acc: 0.8919\n",
      "Epoch 37/50\n",
      "48000/48000 [==============================] - 134s 3ms/step - loss: 0.2098 - acc: 0.9217 - val_loss: 0.3073 - val_acc: 0.8916\n",
      "Epoch 38/50\n",
      "48000/48000 [==============================] - 133s 3ms/step - loss: 0.2066 - acc: 0.9244 - val_loss: 0.3037 - val_acc: 0.8935\n",
      "Epoch 39/50\n",
      "48000/48000 [==============================] - 134s 3ms/step - loss: 0.2011 - acc: 0.9264 - val_loss: 0.3178 - val_acc: 0.8928\n",
      "Epoch 40/50\n",
      "48000/48000 [==============================] - 134s 3ms/step - loss: 0.1968 - acc: 0.9279 - val_loss: 0.2964 - val_acc: 0.8992\n",
      "Epoch 41/50\n",
      "48000/48000 [==============================] - 134s 3ms/step - loss: 0.1966 - acc: 0.9279 - val_loss: 0.2992 - val_acc: 0.8960\n",
      "Epoch 42/50\n",
      "48000/48000 [==============================] - 134s 3ms/step - loss: 0.1879 - acc: 0.9307 - val_loss: 0.2955 - val_acc: 0.8986\n",
      "Epoch 43/50\n",
      "48000/48000 [==============================] - 134s 3ms/step - loss: 0.1865 - acc: 0.9326 - val_loss: 0.2933 - val_acc: 0.8977\n",
      "Epoch 44/50\n",
      "48000/48000 [==============================] - 134s 3ms/step - loss: 0.1832 - acc: 0.9311 - val_loss: 0.3032 - val_acc: 0.8950\n",
      "Epoch 45/50\n",
      "48000/48000 [==============================] - 134s 3ms/step - loss: 0.1772 - acc: 0.9360 - val_loss: 0.3227 - val_acc: 0.8926\n",
      "Epoch 46/50\n",
      "48000/48000 [==============================] - 134s 3ms/step - loss: 0.1752 - acc: 0.9353 - val_loss: 0.3069 - val_acc: 0.8967\n",
      "Epoch 47/50\n",
      "48000/48000 [==============================] - 134s 3ms/step - loss: 0.1696 - acc: 0.9375 - val_loss: 0.3062 - val_acc: 0.9004\n",
      "Epoch 48/50\n",
      "48000/48000 [==============================] - 134s 3ms/step - loss: 0.1657 - acc: 0.9391 - val_loss: 0.2961 - val_acc: 0.8987\n",
      "Epoch 49/50\n",
      "48000/48000 [==============================] - 134s 3ms/step - loss: 0.1634 - acc: 0.9397 - val_loss: 0.3070 - val_acc: 0.8945\n",
      "Epoch 50/50\n",
      "48000/48000 [==============================] - 134s 3ms/step - loss: 0.1580 - acc: 0.9418 - val_loss: 0.3119 - val_acc: 0.8953\n"
     ]
    }
   ],
   "source": [
    "modelo_ruido_capas.compile(loss=\"categorical_crossentropy\",\n",
    "                            optimizer=SGD(lr=0.001, momentum=0.9),\n",
    "                            metrics=[\"accuracy\"])\n",
    "historia_ruido_capas = modelo_ruido_capas.fit(x_train, y_train, batch_size=batch_size,\n",
    "                        validation_split=0.2,\n",
    "                        epochs=epocas)"
   ]
  },
  {
   "cell_type": "code",
   "execution_count": 44,
   "metadata": {},
   "outputs": [
    {
     "data": {
      "image/png": "[encoded data removed]",
      "text/plain": [
       "<Figure size 936x648 with 1 Axes>"
      ]
     },
     "metadata": {
      "needs_background": "light"
     },
     "output_type": "display_data"
    }
   ],
   "source": [
    "# Graficar los valores de pérdida en el entrenamiento\n",
    "plt.figure(figsize=(13, 9))\n",
    "plt.plot(historia_ruido_capas.history['loss'])\n",
    "plt.plot(historia_ruido_capas.history['val_loss'])\n",
    "plt.legend([\"Entrenamiento\", \"Validación\"], loc='upper left')\n",
    "plt.show()"
   ]
  },
  {
   "cell_type": "markdown",
   "metadata": {},
   "source": [
    "Este modelo tiene mayor susceptibilidad a ser sobreajustado. Es fácil de ver dado que las curvas comienzan a separarse en las últimas épocas de entrenamiento. Esto implica que introducir tanto ruido en la CNN no es conveniente."
   ]
  },
  {
   "cell_type": "code",
   "execution_count": 45,
   "metadata": {},
   "outputs": [
    {
     "name": "stdout",
     "output_type": "stream",
     "text": [
      "10000/10000 [==============================] - 5s 488us/step\n"
     ]
    },
    {
     "data": {
      "text/plain": [
       "[0.3290466861695051, 0.8905]"
      ]
     },
     "execution_count": 45,
     "metadata": {},
     "output_type": "execute_result"
    }
   ],
   "source": [
    "modelo_ruido_capas.evaluate(x_test, y_test)"
   ]
  },
  {
   "cell_type": "markdown",
   "metadata": {},
   "source": [
    "Como se ve, el resultado empeoró con el simple hecho de ingresar tanto ruido a la red neuronal."
   ]
  },
  {
   "cell_type": "markdown",
   "metadata": {},
   "source": [
    "## Dropout\n",
    "\n",
    "Nuevamente, se emplea descenso de gradiente estocástico con ratio de aprendizaje de 0.001 y momento de 0.9."
   ]
  },
  {
   "cell_type": "code",
   "execution_count": 46,
   "metadata": {},
   "outputs": [
    {
     "name": "stdout",
     "output_type": "stream",
     "text": [
      "Train on 48000 samples, validate on 12000 samples\n",
      "Epoch 1/50\n",
      "48000/48000 [==============================] - 56s 1ms/step - loss: 1.8951 - acc: 0.2960 - val_loss: 0.9346 - val_acc: 0.6670\n",
      "Epoch 2/50\n",
      "48000/48000 [==============================] - 55s 1ms/step - loss: 0.9770 - acc: 0.6336 - val_loss: 0.7222 - val_acc: 0.7377\n",
      "Epoch 3/50\n",
      "48000/48000 [==============================] - 55s 1ms/step - loss: 0.7920 - acc: 0.7017 - val_loss: 0.6436 - val_acc: 0.7615\n",
      "Epoch 4/50\n",
      "48000/48000 [==============================] - 55s 1ms/step - loss: 0.7127 - acc: 0.7316 - val_loss: 0.5905 - val_acc: 0.7793\n",
      "Epoch 5/50\n",
      "48000/48000 [==============================] - 55s 1ms/step - loss: 0.6609 - acc: 0.7522 - val_loss: 0.5536 - val_acc: 0.7908\n",
      "Epoch 6/50\n",
      "48000/48000 [==============================] - 55s 1ms/step - loss: 0.6267 - acc: 0.7637 - val_loss: 0.5301 - val_acc: 0.8004\n",
      "Epoch 7/50\n",
      "48000/48000 [==============================] - 55s 1ms/step - loss: 0.5922 - acc: 0.7760 - val_loss: 0.5056 - val_acc: 0.8103\n",
      "Epoch 8/50\n",
      "48000/48000 [==============================] - 55s 1ms/step - loss: 0.5719 - acc: 0.7850 - val_loss: 0.4887 - val_acc: 0.8187\n",
      "Epoch 9/50\n",
      "48000/48000 [==============================] - 55s 1ms/step - loss: 0.5508 - acc: 0.7949 - val_loss: 0.4734 - val_acc: 0.8266\n",
      "Epoch 10/50\n",
      "48000/48000 [==============================] - 55s 1ms/step - loss: 0.5397 - acc: 0.7976 - val_loss: 0.4669 - val_acc: 0.8343\n",
      "Epoch 11/50\n",
      "48000/48000 [==============================] - 55s 1ms/step - loss: 0.5231 - acc: 0.8070 - val_loss: 0.4510 - val_acc: 0.8371\n",
      "Epoch 12/50\n",
      "48000/48000 [==============================] - 59s 1ms/step - loss: 0.5125 - acc: 0.8102 - val_loss: 0.4553 - val_acc: 0.8361\n",
      "Epoch 13/50\n",
      "48000/48000 [==============================] - 55s 1ms/step - loss: 0.4997 - acc: 0.8141 - val_loss: 0.4343 - val_acc: 0.8470\n",
      "Epoch 14/50\n",
      "48000/48000 [==============================] - 55s 1ms/step - loss: 0.4897 - acc: 0.8194 - val_loss: 0.4222 - val_acc: 0.8490\n",
      "Epoch 15/50\n",
      "48000/48000 [==============================] - 55s 1ms/step - loss: 0.4779 - acc: 0.8227 - val_loss: 0.4191 - val_acc: 0.8470\n",
      "Epoch 16/50\n",
      "48000/48000 [==============================] - 55s 1ms/step - loss: 0.4724 - acc: 0.8256 - val_loss: 0.4077 - val_acc: 0.8528\n",
      "Epoch 17/50\n",
      "48000/48000 [==============================] - 55s 1ms/step - loss: 0.4603 - acc: 0.8316 - val_loss: 0.3988 - val_acc: 0.8592\n",
      "Epoch 18/50\n",
      "48000/48000 [==============================] - 55s 1ms/step - loss: 0.4512 - acc: 0.8333 - val_loss: 0.3894 - val_acc: 0.8592\n",
      "Epoch 19/50\n",
      "48000/48000 [==============================] - 55s 1ms/step - loss: 0.4421 - acc: 0.8358 - val_loss: 0.3885 - val_acc: 0.8607\n",
      "Epoch 20/50\n",
      "48000/48000 [==============================] - 55s 1ms/step - loss: 0.4373 - acc: 0.8402 - val_loss: 0.3828 - val_acc: 0.8614\n",
      "Epoch 21/50\n",
      "48000/48000 [==============================] - 55s 1ms/step - loss: 0.4324 - acc: 0.8425 - val_loss: 0.3768 - val_acc: 0.8635\n",
      "Epoch 22/50\n",
      "48000/48000 [==============================] - 55s 1ms/step - loss: 0.4267 - acc: 0.8442 - val_loss: 0.3733 - val_acc: 0.8652\n",
      "Epoch 23/50\n",
      "48000/48000 [==============================] - 55s 1ms/step - loss: 0.4195 - acc: 0.8469 - val_loss: 0.3629 - val_acc: 0.8682\n",
      "Epoch 24/50\n",
      "48000/48000 [==============================] - 55s 1ms/step - loss: 0.4092 - acc: 0.8499 - val_loss: 0.3647 - val_acc: 0.8683\n",
      "Epoch 25/50\n",
      "48000/48000 [==============================] - 55s 1ms/step - loss: 0.4072 - acc: 0.8505 - val_loss: 0.3565 - val_acc: 0.8719\n",
      "Epoch 26/50\n",
      "48000/48000 [==============================] - 55s 1ms/step - loss: 0.4016 - acc: 0.8526 - val_loss: 0.3492 - val_acc: 0.8741\n",
      "Epoch 27/50\n",
      "48000/48000 [==============================] - 55s 1ms/step - loss: 0.3963 - acc: 0.8565 - val_loss: 0.3481 - val_acc: 0.8732\n",
      "Epoch 28/50\n",
      "48000/48000 [==============================] - 55s 1ms/step - loss: 0.3930 - acc: 0.8566 - val_loss: 0.3430 - val_acc: 0.8750\n",
      "Epoch 29/50\n",
      "48000/48000 [==============================] - 55s 1ms/step - loss: 0.3855 - acc: 0.8596 - val_loss: 0.3365 - val_acc: 0.8778\n",
      "Epoch 30/50\n",
      "48000/48000 [==============================] - 55s 1ms/step - loss: 0.3821 - acc: 0.8611 - val_loss: 0.3374 - val_acc: 0.8782\n",
      "Epoch 31/50\n",
      "48000/48000 [==============================] - 55s 1ms/step - loss: 0.3755 - acc: 0.8625 - val_loss: 0.3299 - val_acc: 0.8795\n",
      "Epoch 32/50\n",
      "48000/48000 [==============================] - 56s 1ms/step - loss: 0.3719 - acc: 0.8635 - val_loss: 0.3259 - val_acc: 0.8812\n",
      "Epoch 33/50\n",
      "48000/48000 [==============================] - 55s 1ms/step - loss: 0.3676 - acc: 0.8656 - val_loss: 0.3261 - val_acc: 0.8824\n",
      "Epoch 34/50\n",
      "48000/48000 [==============================] - 55s 1ms/step - loss: 0.3636 - acc: 0.8673 - val_loss: 0.3222 - val_acc: 0.8813\n",
      "Epoch 35/50\n",
      "48000/48000 [==============================] - 55s 1ms/step - loss: 0.3629 - acc: 0.8666 - val_loss: 0.3203 - val_acc: 0.8841\n",
      "Epoch 36/50\n",
      "48000/48000 [==============================] - 55s 1ms/step - loss: 0.3595 - acc: 0.8671 - val_loss: 0.3189 - val_acc: 0.8843\n",
      "Epoch 37/50\n",
      "48000/48000 [==============================] - 55s 1ms/step - loss: 0.3533 - acc: 0.8712 - val_loss: 0.3148 - val_acc: 0.8852\n",
      "Epoch 38/50\n",
      "48000/48000 [==============================] - 55s 1ms/step - loss: 0.3494 - acc: 0.8715 - val_loss: 0.3136 - val_acc: 0.8852\n",
      "Epoch 39/50\n",
      "48000/48000 [==============================] - 55s 1ms/step - loss: 0.3459 - acc: 0.8733 - val_loss: 0.3080 - val_acc: 0.8879\n",
      "Epoch 40/50\n",
      "48000/48000 [==============================] - 55s 1ms/step - loss: 0.3402 - acc: 0.8752 - val_loss: 0.3075 - val_acc: 0.8884\n",
      "Epoch 41/50\n",
      "48000/48000 [==============================] - 55s 1ms/step - loss: 0.3398 - acc: 0.8759 - val_loss: 0.3008 - val_acc: 0.8896\n",
      "Epoch 42/50\n",
      "48000/48000 [==============================] - 55s 1ms/step - loss: 0.3373 - acc: 0.8760 - val_loss: 0.2972 - val_acc: 0.8915\n",
      "Epoch 43/50\n",
      "48000/48000 [==============================] - 55s 1ms/step - loss: 0.3343 - acc: 0.8768 - val_loss: 0.2979 - val_acc: 0.8917\n",
      "Epoch 44/50\n",
      "48000/48000 [==============================] - 55s 1ms/step - loss: 0.3331 - acc: 0.8776 - val_loss: 0.2967 - val_acc: 0.8918\n",
      "Epoch 45/50\n",
      "48000/48000 [==============================] - 55s 1ms/step - loss: 0.3272 - acc: 0.8794 - val_loss: 0.2989 - val_acc: 0.8903\n",
      "Epoch 46/50\n",
      "48000/48000 [==============================] - 55s 1ms/step - loss: 0.3241 - acc: 0.8818 - val_loss: 0.2884 - val_acc: 0.8948\n",
      "Epoch 47/50\n",
      "48000/48000 [==============================] - 55s 1ms/step - loss: 0.3243 - acc: 0.8812 - val_loss: 0.2947 - val_acc: 0.8928\n",
      "Epoch 48/50\n",
      "48000/48000 [==============================] - 55s 1ms/step - loss: 0.3213 - acc: 0.8836 - val_loss: 0.2854 - val_acc: 0.8963\n",
      "Epoch 49/50\n",
      "48000/48000 [==============================] - 55s 1ms/step - loss: 0.3185 - acc: 0.8829 - val_loss: 0.2835 - val_acc: 0.8948\n",
      "Epoch 50/50\n",
      "48000/48000 [==============================] - 55s 1ms/step - loss: 0.3140 - acc: 0.8842 - val_loss: 0.2913 - val_acc: 0.8909\n"
     ]
    }
   ],
   "source": [
    "modelo_dropout.compile(loss=\"categorical_crossentropy\",\n",
    "                            optimizer=SGD(lr=0.001, momentum=0.9),\n",
    "                            metrics=[\"accuracy\"])\n",
    "historia_dropout = modelo_dropout.fit(x_train, y_train, batch_size=batch_size,\n",
    "                        validation_split=0.2,\n",
    "                        epochs=epocas)"
   ]
  },
  {
   "cell_type": "code",
   "execution_count": 47,
   "metadata": {},
   "outputs": [
    {
     "data": {
      "image/png": "[encoded data removed]",
      "text/plain": [
       "<Figure size 936x648 with 1 Axes>"
      ]
     },
     "metadata": {
      "needs_background": "light"
     },
     "output_type": "display_data"
    }
   ],
   "source": [
    "# Graficar los valores de pérdida en el entrenamiento\n",
    "plt.figure(figsize=(13, 9))\n",
    "plt.plot(historia_dropout.history['loss'])\n",
    "plt.plot(historia_dropout.history['val_loss'])\n",
    "plt.legend([\"Entrenamiento\", \"Validación\"], loc='upper left')\n",
    "plt.show()"
   ]
  },
  {
   "cell_type": "markdown",
   "metadata": {},
   "source": [
    "El sobreajuste es mínimo, casi imperceptible. El método de _dropout_ es simplemente robusto y excelente, además de rápido. La comparación con el modelo de ruido en cada capa escondida a este es sustancial: el tiempo es casi el doble, y el resultado es peor.\n",
    "\n",
    "El método de _dropout_ sigue siendo una técnica clásica que se sigue utilizando con mucha frecuencia."
   ]
  },
  {
   "cell_type": "code",
   "execution_count": 48,
   "metadata": {},
   "outputs": [
    {
     "name": "stdout",
     "output_type": "stream",
     "text": [
      "10000/10000 [==============================] - 4s 372us/step\n"
     ]
    },
    {
     "data": {
      "text/plain": [
       "[0.30559787740707395, 0.8882]"
      ]
     },
     "execution_count": 48,
     "metadata": {},
     "output_type": "execute_result"
    }
   ],
   "source": [
    "modelo_dropout.evaluate(x_test, y_test)"
   ]
  },
  {
   "cell_type": "markdown",
   "metadata": {},
   "source": [
    "El resultado es mucho mejor que cualquiera de los otros modelos, el valor de la pérdida es menor y el valor de la precisión es adecuado, al menos se está casi seguro de que no hay tanto sobreajuste."
   ]
  },
  {
   "cell_type": "markdown",
   "metadata": {},
   "source": [
    "## Ejercicios\n",
    "\n",
    "1. Probar combinando las diferentes técnicas mostradas aquí para obtener mejores resultados."
   ]
  }
 ],
 "metadata": {
  "kernelspec": {
   "display_name": "Python 3",
   "language": "python",
   "name": "python3"
  },
  "language_info": {
   "codemirror_mode": {
    "name": "ipython",
    "version": 3
   },
   "file_extension": ".py",
   "mimetype": "text/x-python",
   "name": "python",
   "nbconvert_exporter": "python",
   "pygments_lexer": "ipython3",
   "version": "3.7.4"
  }
 },
 "nbformat": 4,
 "nbformat_minor": 2
}
