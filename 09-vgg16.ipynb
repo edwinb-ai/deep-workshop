{
 "cells": [
  {
   "cell_type": "code",
   "execution_count": 2,
   "metadata": {
    "colab": {},
    "colab_type": "code",
    "id": "0q_0rnGO1ZGZ"
   },
   "outputs": [],
   "source": [
    "from keras.datasets import cifar100\n",
    "from keras.layers import Dense, BatchNormalization, Activation, Dropout\n",
    "from keras.layers import Conv2D, MaxPooling2D, Flatten\n",
    "from keras.utils import to_categorical\n",
    "from keras.models import Sequential, load_model\n",
    "from keras.regularizers import l2\n",
    "from keras.callbacks import EarlyStopping, ModelCheckpoint, ReduceLROnPlateau\n",
    "from keras import regularizers\n",
    "from keras.optimizers import SGD\n",
    "from keras.preprocessing.image import ImageDataGenerator\n",
    "import matplotlib.pyplot as plt\n",
    "import numpy as np"
   ]
  },
  {
   "cell_type": "code",
   "execution_count": 3,
   "metadata": {
    "colab": {},
    "colab_type": "code",
    "id": "jMEbtiy31ZGq"
   },
   "outputs": [],
   "source": [
    "(x_train, y_train), (x_test, y_test) = cifar100.load_data()"
   ]
  },
  {
   "cell_type": "code",
   "execution_count": 4,
   "metadata": {
    "colab": {},
    "colab_type": "code",
    "id": "rGaQ82eq1ZG7"
   },
   "outputs": [],
   "source": [
    "# Tamaño de lote para el optimizador\n",
    "batch_size = 64\n",
    "# Número de clases, ya se sabe por que se conoce el conjunto de datos\n",
    "# pero si no, se puede hacer de forma programática\n",
    "num_classes = 100\n",
    "# Número de épocas, dejar como está porque es suficiente\n",
    "epocas = 50\n",
    "# Parámetro de regularización L2 (Ridge)\n",
    "regular_param_l2 = l2(5e-4)"
   ]
  },
  {
   "cell_type": "code",
   "execution_count": 5,
   "metadata": {
    "colab": {
     "base_uri": "https://localhost:8080/",
     "height": 286
    },
    "colab_type": "code",
    "executionInfo": {
     "elapsed": 1550,
     "status": "ok",
     "timestamp": 1566396133103,
     "user": {
      "displayName": "Edwin Armando Bedolla Montiel",
      "photoUrl": "",
      "userId": "10165289309804150233"
     },
     "user_tz": 300
    },
    "id": "tNms1XW11ZHH",
    "outputId": "d3948b3a-25ba-4337-bf7d-fcf9620273cc"
   },
   "outputs": [
    {
     "data": {
      "text/plain": [
       "<matplotlib.image.AxesImage at 0x7f99eecb0ad0>"
      ]
     },
     "execution_count": 5,
     "metadata": {},
     "output_type": "execute_result"
    },
    {
     "data": {
      "image/png": "[encoded data removed]",
      "text/plain": [
       "<Figure size 432x288 with 1 Axes>"
      ]
     },
     "metadata": {
      "needs_background": "light"
     },
     "output_type": "display_data"
    }
   ],
   "source": [
    "plt.imshow(x_train[56, :, :])"
   ]
  },
  {
   "cell_type": "code",
   "execution_count": 6,
   "metadata": {
    "colab": {},
    "colab_type": "code",
    "id": "JWfVhn5L1ZHV"
   },
   "outputs": [],
   "source": [
    "# Convertir a float32 para mejor manejo\n",
    "x_train = x_train.astype(\"float32\")\n",
    "x_test = x_test.astype(\"float32\")\n",
    "# Normalizar los valores de las imágenes\n",
    "x_train /= 255\n",
    "x_test /= 255"
   ]
  },
  {
   "cell_type": "code",
   "execution_count": 7,
   "metadata": {
    "colab": {
     "base_uri": "https://localhost:8080/",
     "height": 69
    },
    "colab_type": "code",
    "executionInfo": {
     "elapsed": 1710,
     "status": "ok",
     "timestamp": 1566396133289,
     "user": {
      "displayName": "Edwin Armando Bedolla Montiel",
      "photoUrl": "",
      "userId": "10165289309804150233"
     },
     "user_tz": 300
    },
    "id": "KwwTFzhb1ZHe",
    "outputId": "031dbbbc-9ae5-4df2-9407-00f80ad8b9e8"
   },
   "outputs": [
    {
     "name": "stdout",
     "output_type": "stream",
     "text": [
      "Tamaño del conjunto de entrenamiento: (50000, 32, 32, 3)\n",
      "50000 Muestras de entrenamiento\n",
      "10000 Muestras de prueba\n"
     ]
    }
   ],
   "source": [
    "print(\"Tamaño del conjunto de entrenamiento:\", x_train.shape)\n",
    "print(x_train.shape[0], \"Muestras de entrenamiento\")\n",
    "print(x_test.shape[0], \"Muestras de prueba\")"
   ]
  },
  {
   "cell_type": "code",
   "execution_count": 8,
   "metadata": {
    "colab": {},
    "colab_type": "code",
    "id": "mGej6aP21ZHq"
   },
   "outputs": [],
   "source": [
    "# Codificación One Hot para las etiquetas\n",
    "y_train = to_categorical(y_train, num_classes)\n",
    "y_test = to_categorical(y_test, num_classes)"
   ]
  },
  {
   "cell_type": "code",
   "execution_count": 10,
   "metadata": {
    "colab": {},
    "colab_type": "code",
    "id": "Nk3yMnw41ZH0"
   },
   "outputs": [],
   "source": [
    "arquitectura = [\n",
    "    # Primera capa de características\n",
    "    Conv2D(64, kernel_size=(3, 3), padding=\"same\",\n",
    "          input_shape=x_train.shape[1:],\n",
    "          kernel_regularizer=regular_param_l2),\n",
    "    Activation(\"relu\"),\n",
    "    Conv2D(64, kernel_size=(3, 3), padding=\"same\",\n",
    "          kernel_regularizer=regular_param_l2),\n",
    "    Activation(\"relu\"),\n",
    "    MaxPooling2D(pool_size=(2, 2)),\n",
    "    # Segunda capa de características\n",
    "    Conv2D(128, kernel_size=(3, 3), padding=\"same\",\n",
    "          kernel_regularizer=regular_param_l2),\n",
    "    Activation(\"relu\"),\n",
    "    Conv2D(128, kernel_size=(3, 3), padding=\"same\",\n",
    "          kernel_regularizer=regular_param_l2),\n",
    "    Activation(\"relu\"),\n",
    "    MaxPooling2D(pool_size=(2, 2)),\n",
    "    # Tercera capa de características\n",
    "    Conv2D(256, kernel_size=(3, 3), padding=\"same\",\n",
    "          kernel_regularizer=regular_param_l2),\n",
    "    Activation(\"relu\"),\n",
    "    Conv2D(256, kernel_size=(3, 3), padding=\"same\",\n",
    "          kernel_regularizer=regular_param_l2),\n",
    "    Activation(\"relu\"),\n",
    "    Conv2D(256, kernel_size=(3, 3), padding=\"same\",\n",
    "          kernel_regularizer=regular_param_l2),\n",
    "    Activation(\"relu\"),\n",
    "    MaxPooling2D(pool_size=(2, 2)),\n",
    "    # Cuarta capa de características\n",
    "    Conv2D(512, kernel_size=(3, 3), padding=\"same\",\n",
    "          kernel_regularizer=regular_param_l2),\n",
    "    Activation(\"relu\"),\n",
    "    Conv2D(512, kernel_size=(3, 3), padding=\"same\",\n",
    "          kernel_regularizer=regular_param_l2),\n",
    "    Activation(\"relu\"),\n",
    "    Conv2D(512, kernel_size=(3, 3), padding=\"same\",\n",
    "          kernel_regularizer=regular_param_l2),\n",
    "    Activation(\"relu\"),\n",
    "    MaxPooling2D(pool_size=(2, 2)),\n",
    "    # Quinta capa de características\n",
    "    Conv2D(512, kernel_size=(3, 3), padding=\"same\",\n",
    "          kernel_regularizer=regular_param_l2),\n",
    "    Activation(\"relu\"),\n",
    "    Conv2D(512, kernel_size=(3, 3), padding=\"same\",\n",
    "          kernel_regularizer=regular_param_l2),\n",
    "    Activation(\"relu\"),\n",
    "    Conv2D(512, kernel_size=(3, 3), padding=\"same\",\n",
    "          kernel_regularizer=regular_param_l2),\n",
    "    Activation(\"relu\"),\n",
    "    MaxPooling2D(pool_size=(2, 2)),\n",
    "    # Primera capa totalmente conectada\n",
    "    Flatten(),\n",
    "    Dense(4096, activation=\"relu\",\n",
    "          kernel_regularizer=regular_param_l2),\n",
    "    Dropout(0.5),\n",
    "    Dense(4096, activation=\"relu\",\n",
    "          kernel_regularizer=regular_param_l2),\n",
    "    Dropout(0.5),\n",
    "    # Salida de la CNN\n",
    "    Dense(num_classes, activation=\"softmax\")\n",
    "]"
   ]
  },
  {
   "cell_type": "code",
   "execution_count": 11,
   "metadata": {
    "colab": {},
    "colab_type": "code",
    "id": "0vsyGfhk1ZH-"
   },
   "outputs": [],
   "source": [
    "# Aplicar Early Stopping\n",
    "es = EarlyStopping(monitor=\"val_loss\", mode=\"auto\", verbose=1, patience=15)\n",
    "# Guardar siempre el mejor modelo encontrado en base a la precisión de validación\n",
    "mc = ModelCheckpoint(\"mejor_modelo.h5\", monitor=\"val_acc\", mode=\"auto\", verbose=1, save_best_only=True)\n",
    "# Ajustar el ratio de aprendizaje\n",
    "lr_ajuste = ReduceLROnPlateau(monitor=\"val_loss\", factor=0.1, patience=5, verbose=1)"
   ]
  },
  {
   "cell_type": "code",
   "execution_count": 13,
   "metadata": {
    "colab": {},
    "colab_type": "code",
    "id": "CCze6Dw11ZIQ"
   },
   "outputs": [],
   "source": [
    "vgg16 = Sequential(arquitectura)"
   ]
  },
  {
   "cell_type": "code",
   "execution_count": 15,
   "metadata": {
    "colab": {},
    "colab_type": "code",
    "id": "OqqTnYrp1ZIe"
   },
   "outputs": [],
   "source": [
    "vgg16.compile(loss=\"categorical_crossentropy\",\n",
    "             optimizer=SGD(1e-2, momentum=0.9),\n",
    "             metrics=[\"accuracy\"])"
   ]
  },
  {
   "cell_type": "code",
   "execution_count": 16,
   "metadata": {
    "colab": {},
    "colab_type": "code",
    "id": "kOHNSu6L1ZIo"
   },
   "outputs": [],
   "source": [
    "datagen = ImageDataGenerator(\n",
    "        featurewise_center=True,  # si es positivo, la media del conjunto de datos es 0\n",
    "        samplewise_center=False,  # si es positivo, la medida de cada ejemplo es 0\n",
    "        featurewise_std_normalization=False,  # divide el conjunto de datos por la desviación estándar\n",
    "        samplewise_std_normalization=False,  # divide cada ejemplo por su propia desviación estándar\n",
    "        zca_whitening=True,  # aplicar ruido tipo Zero-phase Component Analysis\n",
    "        zca_epsilon=1e-06,  # valor del ruido tipo ZCA\n",
    "        rotation_range=0,  # se rota aleatoriamente la imagen, el valor es entero de 0 a 180\n",
    "        # traslación horizontal aleatoria, la fracción representa cuánto\n",
    "        width_shift_range=0.1,\n",
    "        # traslación vertical aleatoria, la fracción representa cuánto\n",
    "        height_shift_range=0.1,\n",
    "        shear_range=0.0,  # valor para distorsión\n",
    "        zoom_range=0.2,  # valor para acercamiento\n",
    "        channel_shift_range=0.,  # cambio de canales, de forma aleatoria\n",
    "        # modo para rellenado de pixeles fuera de la imagen\n",
    "        fill_mode=\"nearest\",\n",
    "        cval=0.0,  # en caso de que el rellenado sea \"constant\"\n",
    "        horizontal_flip=True,  # reflexión horizontal aleatoria de las imágenes\n",
    "        vertical_flip=True,  # reflexión vertical aleatoria de las imágenes\n",
    "        # factor de reescalamiento (se aplica primero antes que cualquier transformación)\n",
    "        rescale=None,\n",
    "        # algún tipo de función definida por el usuario que haga transformaciones\n",
    "        # i.e. filtro de Borel, transformada de Fourier, ruido rosa, etc.\n",
    "        preprocessing_function=None,\n",
    "        # especificar el tipo de datos que se están ingresando\n",
    "        data_format=None,\n",
    "        # fracción de imágenes para separar en entrenamieto y validación\n",
    "        validation_split=0.2)"
   ]
  },
  {
   "cell_type": "code",
   "execution_count": 17,
   "metadata": {
    "colab": {},
    "colab_type": "code",
    "id": "Y17fW7BT1ZIv"
   },
   "outputs": [],
   "source": [
    "datagen.fit(x_train)"
   ]
  },
  {
   "cell_type": "code",
   "execution_count": 18,
   "metadata": {
    "colab": {},
    "colab_type": "code",
    "id": "DkI-8kXGdrAM"
   },
   "outputs": [
    {
     "name": "stderr",
     "output_type": "stream",
     "text": [
      "W0821 14:43:01.178751 140300470384448 deprecation.py:323] From /home/edwinb/anaconda3/envs/deep_workshop/lib/python3.7/site-packages/tensorflow/python/ops/math_grad.py:1250: add_dispatch_support.<locals>.wrapper (from tensorflow.python.ops.array_ops) is deprecated and will be removed in a future version.\n",
      "Instructions for updating:\n",
      "Use tf.where in 2.0, which has the same broadcast rule as np.where\n"
     ]
    }
   ],
   "source": [
    "vgg16_model = load_model(\"mejor_modelo.h5\")"
   ]
  },
  {
   "cell_type": "code",
   "execution_count": 34,
   "metadata": {
    "colab": {
     "base_uri": "https://localhost:8080/",
     "height": 1000
    },
    "colab_type": "code",
    "executionInfo": {
     "elapsed": 16799437,
     "status": "ok",
     "timestamp": 1566413716355,
     "user": {
      "displayName": "Edwin Armando Bedolla Montiel",
      "photoUrl": "",
      "userId": "10165289309804150233"
     },
     "user_tz": 300
    },
    "id": "XyZqPQ-I1ZI-",
    "outputId": "7ac7ba46-b56f-4178-c97b-5c82ab2400d3"
   },
   "outputs": [
    {
     "name": "stdout",
     "output_type": "stream",
     "text": [
      "Epoch 1/50\n",
      "781/781 [==============================] - 330s 423ms/step - loss: 2.7669 - acc: 0.4455 - val_loss: 2.9542 - val_acc: 0.4181\n",
      "\n",
      "Epoch 00001: val_acc improved from -inf to 0.41810, saving model to /content/drive/My Drive/Colab Notebooks/mejor_modelo.h5\n",
      "Epoch 2/50\n",
      "781/781 [==============================] - 319s 408ms/step - loss: 2.7668 - acc: 0.4479 - val_loss: 2.8924 - val_acc: 0.4256\n",
      "\n",
      "Epoch 00002: val_acc improved from 0.41810 to 0.42560, saving model to /content/drive/My Drive/Colab Notebooks/mejor_modelo.h5\n",
      "Epoch 3/50\n",
      "781/781 [==============================] - 320s 410ms/step - loss: 2.7444 - acc: 0.4554 - val_loss: 2.9289 - val_acc: 0.4213\n",
      "\n",
      "Epoch 00003: val_acc did not improve from 0.42560\n",
      "Epoch 4/50\n",
      "781/781 [==============================] - 433s 554ms/step - loss: 2.7567 - acc: 0.4569 - val_loss: 2.9529 - val_acc: 0.4233\n",
      "\n",
      "Epoch 00004: val_acc did not improve from 0.42560\n",
      "Epoch 5/50\n",
      "781/781 [==============================] - 464s 595ms/step - loss: 2.7258 - acc: 0.4626 - val_loss: 3.0919 - val_acc: 0.3975\n",
      "\n",
      "Epoch 00005: val_acc did not improve from 0.42560\n",
      "Epoch 6/50\n",
      "781/781 [==============================] - 466s 597ms/step - loss: 2.7407 - acc: 0.4630 - val_loss: 2.8361 - val_acc: 0.4516\n",
      "\n",
      "Epoch 00006: val_acc improved from 0.42560 to 0.45159, saving model to /content/drive/My Drive/Colab Notebooks/mejor_modelo.h5\n",
      "Epoch 7/50\n",
      "781/781 [==============================] - 459s 587ms/step - loss: 2.7305 - acc: 0.4689 - val_loss: 2.8366 - val_acc: 0.4502\n",
      "\n",
      "Epoch 00007: val_acc did not improve from 0.45159\n",
      "Epoch 8/50\n",
      "781/781 [==============================] - 458s 587ms/step - loss: 2.7191 - acc: 0.4740 - val_loss: 2.9540 - val_acc: 0.4333\n",
      "\n",
      "Epoch 00008: val_acc did not improve from 0.45159\n",
      "Epoch 9/50\n",
      "781/781 [==============================] - 336s 430ms/step - loss: 2.7290 - acc: 0.4741 - val_loss: 2.9141 - val_acc: 0.4394\n",
      "\n",
      "Epoch 00009: val_acc did not improve from 0.45159\n",
      "Epoch 10/50\n",
      "781/781 [==============================] - 326s 418ms/step - loss: 2.7015 - acc: 0.4846 - val_loss: 2.9303 - val_acc: 0.4391\n",
      "\n",
      "Epoch 00010: val_acc did not improve from 0.45159\n",
      "Epoch 11/50\n",
      "781/781 [==============================] - 323s 414ms/step - loss: 2.7073 - acc: 0.4838 - val_loss: 2.9068 - val_acc: 0.4418\n",
      "\n",
      "Epoch 00011: val_acc did not improve from 0.45159\n",
      "\n",
      "Epoch 00011: ReduceLROnPlateau reducing learning rate to 0.0009999999776482583.\n",
      "Epoch 12/50\n",
      "781/781 [==============================] - 329s 421ms/step - loss: 2.3496 - acc: 0.5658 - val_loss: 2.5566 - val_acc: 0.5212\n",
      "\n",
      "Epoch 00012: val_acc improved from 0.45159 to 0.52119, saving model to /content/drive/My Drive/Colab Notebooks/mejor_modelo.h5\n",
      "Epoch 13/50\n",
      "781/781 [==============================] - 338s 433ms/step - loss: 2.2086 - acc: 0.5953 - val_loss: 2.5173 - val_acc: 0.5326\n",
      "\n",
      "Epoch 00013: val_acc improved from 0.52119 to 0.53265, saving model to /content/drive/My Drive/Colab Notebooks/mejor_modelo.h5\n",
      "Epoch 14/50\n",
      "781/781 [==============================] - 333s 427ms/step - loss: 2.1595 - acc: 0.6043 - val_loss: 2.4976 - val_acc: 0.5356\n",
      "\n",
      "Epoch 00014: val_acc improved from 0.53265 to 0.53560, saving model to /content/drive/My Drive/Colab Notebooks/mejor_modelo.h5\n",
      "Epoch 15/50\n",
      "781/781 [==============================] - 336s 430ms/step - loss: 2.1170 - acc: 0.6148 - val_loss: 2.4787 - val_acc: 0.5402\n",
      "\n",
      "Epoch 00015: val_acc improved from 0.53560 to 0.54021, saving model to /content/drive/My Drive/Colab Notebooks/mejor_modelo.h5\n",
      "Epoch 16/50\n",
      "781/781 [==============================] - 333s 426ms/step - loss: 2.0875 - acc: 0.6180 - val_loss: 2.4531 - val_acc: 0.5435\n",
      "\n",
      "Epoch 00016: val_acc improved from 0.54021 to 0.54348, saving model to /content/drive/My Drive/Colab Notebooks/mejor_modelo.h5\n",
      "Epoch 17/50\n",
      "781/781 [==============================] - 344s 441ms/step - loss: 2.0540 - acc: 0.6253 - val_loss: 2.4387 - val_acc: 0.5464\n",
      "\n",
      "Epoch 00017: val_acc improved from 0.54348 to 0.54644, saving model to /content/drive/My Drive/Colab Notebooks/mejor_modelo.h5\n",
      "Epoch 18/50\n",
      "781/781 [==============================] - 342s 437ms/step - loss: 2.0272 - acc: 0.6268 - val_loss: 2.4249 - val_acc: 0.5451\n",
      "\n",
      "Epoch 00018: val_acc did not improve from 0.54644\n",
      "Epoch 19/50\n",
      "781/781 [==============================] - 327s 418ms/step - loss: 2.0061 - acc: 0.6333 - val_loss: 2.4069 - val_acc: 0.5533\n",
      "\n",
      "Epoch 00019: val_acc improved from 0.54644 to 0.55325, saving model to /content/drive/My Drive/Colab Notebooks/mejor_modelo.h5\n",
      "Epoch 20/50\n",
      "781/781 [==============================] - 336s 430ms/step - loss: 1.9733 - acc: 0.6381 - val_loss: 2.4178 - val_acc: 0.5482\n",
      "\n",
      "Epoch 00020: val_acc did not improve from 0.55325\n",
      "Epoch 21/50\n",
      "781/781 [==============================] - 331s 424ms/step - loss: 1.9484 - acc: 0.6430 - val_loss: 2.3938 - val_acc: 0.5512\n",
      "\n",
      "Epoch 00021: val_acc did not improve from 0.55325\n",
      "Epoch 22/50\n",
      "781/781 [==============================] - 332s 426ms/step - loss: 1.9331 - acc: 0.6436 - val_loss: 2.3784 - val_acc: 0.5523\n",
      "\n",
      "Epoch 00022: val_acc did not improve from 0.55325\n",
      "Epoch 23/50\n",
      "781/781 [==============================] - 344s 441ms/step - loss: 1.9090 - acc: 0.6500 - val_loss: 2.3632 - val_acc: 0.5566\n",
      "\n",
      "Epoch 00023: val_acc improved from 0.55325 to 0.55663, saving model to /content/drive/My Drive/Colab Notebooks/mejor_modelo.h5\n",
      "Epoch 24/50\n",
      "781/781 [==============================] - 338s 433ms/step - loss: 1.8930 - acc: 0.6531 - val_loss: 2.3581 - val_acc: 0.5553\n",
      "\n",
      "Epoch 00024: val_acc did not improve from 0.55663\n",
      "Epoch 25/50\n",
      "781/781 [==============================] - 342s 437ms/step - loss: 1.8652 - acc: 0.6579 - val_loss: 2.3522 - val_acc: 0.5572\n",
      "\n",
      "Epoch 00025: val_acc improved from 0.55663 to 0.55715, saving model to /content/drive/My Drive/Colab Notebooks/mejor_modelo.h5\n",
      "Epoch 26/50\n",
      "781/781 [==============================] - 337s 431ms/step - loss: 1.8613 - acc: 0.6558 - val_loss: 2.3682 - val_acc: 0.5549\n",
      "\n",
      "Epoch 00026: val_acc did not improve from 0.55715\n",
      "Epoch 27/50\n",
      "781/781 [==============================] - 339s 433ms/step - loss: 1.8305 - acc: 0.6659 - val_loss: 2.3738 - val_acc: 0.5558\n",
      "\n",
      "Epoch 00027: val_acc did not improve from 0.55715\n",
      "Epoch 28/50\n",
      "781/781 [==============================] - 345s 442ms/step - loss: 1.8273 - acc: 0.6642 - val_loss: 2.3619 - val_acc: 0.5598\n",
      "\n",
      "Epoch 00028: val_acc improved from 0.55715 to 0.55985, saving model to /content/drive/My Drive/Colab Notebooks/mejor_modelo.h5\n",
      "Epoch 29/50\n",
      "781/781 [==============================] - 342s 438ms/step - loss: 1.7949 - acc: 0.6701 - val_loss: 2.3614 - val_acc: 0.5560\n",
      "\n",
      "Epoch 00029: val_acc did not improve from 0.55985\n",
      "Epoch 30/50\n",
      "781/781 [==============================] - 335s 429ms/step - loss: 1.7805 - acc: 0.6755 - val_loss: 2.3393 - val_acc: 0.5591\n",
      "\n",
      "Epoch 00030: val_acc did not improve from 0.55985\n",
      "Epoch 31/50\n",
      "781/781 [==============================] - 339s 435ms/step - loss: 1.7715 - acc: 0.6725 - val_loss: 2.3377 - val_acc: 0.5592\n",
      "\n",
      "Epoch 00031: val_acc did not improve from 0.55985\n",
      "Epoch 32/50\n",
      "781/781 [==============================] - 339s 434ms/step - loss: 1.7543 - acc: 0.6768 - val_loss: 2.3310 - val_acc: 0.5627\n",
      "\n",
      "Epoch 00032: val_acc improved from 0.55985 to 0.56268, saving model to /content/drive/My Drive/Colab Notebooks/mejor_modelo.h5\n",
      "Epoch 33/50\n",
      "781/781 [==============================] - 354s 454ms/step - loss: 1.7377 - acc: 0.6806 - val_loss: 2.3317 - val_acc: 0.5627\n",
      "\n",
      "Epoch 00033: val_acc improved from 0.56268 to 0.56274, saving model to /content/drive/My Drive/Colab Notebooks/mejor_modelo.h5\n",
      "Epoch 34/50\n",
      "781/781 [==============================] - 348s 446ms/step - loss: 1.7136 - acc: 0.6859 - val_loss: 2.3351 - val_acc: 0.5622\n",
      "\n",
      "Epoch 00034: val_acc did not improve from 0.56274\n",
      "Epoch 35/50\n",
      "781/781 [==============================] - 342s 438ms/step - loss: 1.7130 - acc: 0.6844 - val_loss: 2.3083 - val_acc: 0.5629\n",
      "\n",
      "Epoch 00035: val_acc improved from 0.56274 to 0.56294, saving model to /content/drive/My Drive/Colab Notebooks/mejor_modelo.h5\n",
      "Epoch 36/50\n",
      "781/781 [==============================] - 342s 439ms/step - loss: 1.6930 - acc: 0.6886 - val_loss: 2.3143 - val_acc: 0.5624\n",
      "\n",
      "Epoch 00036: val_acc did not improve from 0.56294\n",
      "Epoch 37/50\n",
      "781/781 [==============================] - 341s 436ms/step - loss: 1.6829 - acc: 0.6909 - val_loss: 2.3135 - val_acc: 0.5663\n",
      "\n",
      "Epoch 00037: val_acc improved from 0.56294 to 0.56628, saving model to /content/drive/My Drive/Colab Notebooks/mejor_modelo.h5\n",
      "Epoch 38/50\n",
      "781/781 [==============================] - 342s 438ms/step - loss: 1.6630 - acc: 0.6958 - val_loss: 2.3217 - val_acc: 0.5641\n",
      "\n",
      "Epoch 00038: val_acc did not improve from 0.56628\n",
      "Epoch 39/50\n",
      "781/781 [==============================] - 337s 431ms/step - loss: 1.6556 - acc: 0.6964 - val_loss: 2.3209 - val_acc: 0.5670\n",
      "\n",
      "Epoch 00039: val_acc improved from 0.56628 to 0.56702, saving model to /content/drive/My Drive/Colab Notebooks/mejor_modelo.h5\n",
      "Epoch 40/50\n",
      "781/781 [==============================] - 339s 434ms/step - loss: 1.6468 - acc: 0.6983 - val_loss: 2.3500 - val_acc: 0.5576\n",
      "\n",
      "Epoch 00040: val_acc did not improve from 0.56702\n",
      "\n",
      "Epoch 00040: ReduceLROnPlateau reducing learning rate to 9.999999310821295e-05.\n",
      "Epoch 41/50\n",
      "781/781 [==============================] - 341s 436ms/step - loss: 1.5569 - acc: 0.7219 - val_loss: 2.2638 - val_acc: 0.5808\n",
      "\n",
      "Epoch 00041: val_acc improved from 0.56702 to 0.58081, saving model to /content/drive/My Drive/Colab Notebooks/mejor_modelo.h5\n",
      "Epoch 42/50\n",
      "781/781 [==============================] - 343s 439ms/step - loss: 1.5146 - acc: 0.7316 - val_loss: 2.2662 - val_acc: 0.5820\n",
      "\n",
      "Epoch 00042: val_acc improved from 0.58081 to 0.58198, saving model to /content/drive/My Drive/Colab Notebooks/mejor_modelo.h5\n",
      "Epoch 43/50\n",
      "781/781 [==============================] - 344s 440ms/step - loss: 1.5222 - acc: 0.7319 - val_loss: 2.2684 - val_acc: 0.5822\n",
      "\n",
      "Epoch 00043: val_acc improved from 0.58198 to 0.58222, saving model to /content/drive/My Drive/Colab Notebooks/mejor_modelo.h5\n",
      "Epoch 44/50\n",
      "781/781 [==============================] - 340s 436ms/step - loss: 1.5097 - acc: 0.7349 - val_loss: 2.2526 - val_acc: 0.5844\n",
      "\n",
      "Epoch 00044: val_acc improved from 0.58222 to 0.58441, saving model to /content/drive/My Drive/Colab Notebooks/mejor_modelo.h5\n",
      "Epoch 45/50\n",
      "781/781 [==============================] - 339s 434ms/step - loss: 1.4946 - acc: 0.7384 - val_loss: 2.2668 - val_acc: 0.5826\n",
      "\n",
      "Epoch 00045: val_acc did not improve from 0.58441\n",
      "Epoch 46/50\n",
      "781/781 [==============================] - 343s 440ms/step - loss: 1.4965 - acc: 0.7372 - val_loss: 2.2741 - val_acc: 0.5821\n",
      "\n",
      "Epoch 00046: val_acc did not improve from 0.58441\n",
      "Epoch 47/50\n",
      "781/781 [==============================] - 347s 444ms/step - loss: 1.4867 - acc: 0.7386 - val_loss: 2.2675 - val_acc: 0.5829\n",
      "\n",
      "Epoch 00047: val_acc did not improve from 0.58441\n",
      "Epoch 48/50\n",
      "781/781 [==============================] - 345s 441ms/step - loss: 1.4922 - acc: 0.7369 - val_loss: 2.2593 - val_acc: 0.5846\n",
      "\n",
      "Epoch 00048: val_acc improved from 0.58441 to 0.58459, saving model to /content/drive/My Drive/Colab Notebooks/mejor_modelo.h5\n",
      "Epoch 49/50\n",
      "781/781 [==============================] - 343s 439ms/step - loss: 1.4802 - acc: 0.7413 - val_loss: 2.2851 - val_acc: 0.5828\n",
      "\n",
      "Epoch 00049: val_acc did not improve from 0.58459\n",
      "\n",
      "Epoch 00049: ReduceLROnPlateau reducing learning rate to 9.999999019782991e-06.\n",
      "Epoch 50/50\n",
      "781/781 [==============================] - 341s 437ms/step - loss: 1.4711 - acc: 0.7432 - val_loss: 2.2659 - val_acc: 0.5838\n",
      "\n",
      "Epoch 00050: val_acc did not improve from 0.58459\n"
     ]
    }
   ],
   "source": [
    "historia_vgg16 = vgg16_model.fit_generator(datagen.flow(x_train, y_train,\n",
    "                                    batch_size=batch_size,\n",
    "                                    subset=\"training\"),\n",
    "                                    epochs=epocas,\n",
    "                                    validation_data=datagen.flow(x_train, y_train,\n",
    "                                                                batch_size=batch_size,\n",
    "                                                                subset=\"validation\"),\n",
    "                                    steps_per_epoch=np.ceil(len(x_train) // batch_size),\n",
    "                                    validation_steps=np.ceil(len(x_train) // batch_size),\n",
    "                                    workers=2,\n",
    "                                    callbacks=[es, mc, lr_ajuste],\n",
    "                            verbose=1)"
   ]
  },
  {
   "cell_type": "code",
   "execution_count": 19,
   "metadata": {},
   "outputs": [
    {
     "name": "stdout",
     "output_type": "stream",
     "text": [
      "10000/10000 [==============================] - 68s 7ms/step\n"
     ]
    },
    {
     "data": {
      "text/plain": [
       "[11.136509689331055, 0.009]"
      ]
     },
     "execution_count": 19,
     "metadata": {},
     "output_type": "execute_result"
    }
   ],
   "source": [
    "vgg16_model.evaluate(x_test, y_test)"
   ]
  }
 ],
 "metadata": {
  "accelerator": "GPU",
  "colab": {
   "collapsed_sections": [],
   "name": "09-vgg16-entrenado.ipynb",
   "provenance": [],
   "version": "0.3.2"
  },
  "kernelspec": {
   "display_name": "Python 3",
   "language": "python",
   "name": "python3"
  },
  "language_info": {
   "codemirror_mode": {
    "name": "ipython",
    "version": 3
   },
   "file_extension": ".py",
   "mimetype": "text/x-python",
   "name": "python",
   "nbconvert_exporter": "python",
   "pygments_lexer": "ipython3",
   "version": "3.7.4"
  }
 },
 "nbformat": 4,
 "nbformat_minor": 1
}
